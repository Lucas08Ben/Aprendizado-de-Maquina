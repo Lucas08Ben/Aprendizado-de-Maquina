{
 "cells": [
  {
   "cell_type": "code",
   "execution_count": null,
   "metadata": {
    "_uuid": "bf210ce4d6132be1bd58a0ff7ebf497cffa15dd0"
   },
   "outputs": [],
   "source": [
    "## vgg-16 com RMSprop 10 epocas ... batch de 32"
   ]
  },
  {
   "cell_type": "code",
   "execution_count": null,
   "metadata": {
    "_uuid": "986a2561ff56dec40424d29a5ce44f572d242b17"
   },
   "outputs": [],
   "source": [
    "%matplotlib inline \n",
    "import matplotlib.pyplot as plt\n",
    "import numpy as np\n",
    "import pandas as pd\n",
    "import keras\n",
    "import os\n",
    "import cv2\n",
    "\n",
    "from keras.preprocessing import image\n",
    "from keras import optimizers\n",
    "from keras.applications.vgg16 import VGG16\n",
    "from keras.models import Model, Sequential\n",
    "from keras.layers import Dense, Dropout, Flatten, ZeroPadding2D, Conv2D, MaxPooling2D, Lambda, Convolution2D, MaxPooling2D\n",
    "from tqdm import tqdm\n",
    "from sklearn import preprocessing\n",
    "from PIL import Image\n",
    "\n",
    "plt.style.use('ggplot')\n",
    "RESOLUTION = 224"
   ]
  },
  {
   "cell_type": "code",
   "execution_count": null,
   "metadata": {
    "_uuid": "a582ab4532d5bc944e75f06a0b7411f21e967231"
   },
   "outputs": [],
   "source": [
    "### Builds a model using a pre-trained Convnet.\n",
    "from keras.preprocessing.image import ImageDataGenerator\n",
    "def build_model_pretrained():\n",
    "    \n",
    "    conv_base = VGG16(weights='imagenet', include_top=False, input_shape=(RESOLUTION, RESOLUTION, 3))\n",
    "    conv_base.trainable = False # freeze convolutional base ## ainda não sei\n",
    "\n",
    "    model = Sequential()\n",
    "    model.add(conv_base) #ainda não sei \n",
    "    model.add(Flatten()) #ainda não sei    \n",
    "    \n",
    "    model.add(Dense(256, activation='relu'))\n",
    "    model.add(Dense(1, activation='sigmoid'))\n",
    "    model.summary() #ainda não sei\n",
    "    model.compile(loss='binary_crossentropy', optimizer=optimizers.RMSprop(lr=1e-5), metrics=['acc'])\n",
    "    return model"
   ]
  },
  {
   "cell_type": "code",
   "execution_count": null,
   "metadata": {
    "_uuid": "13b86b1ff255f517f8df9805aef76105c0b6fa3c"
   },
   "outputs": [],
   "source": [
    "### Generic Keras training with Overfitting plot (optionally includes Data Augmentation).\n",
    "\n",
    "def overfitting_plot(history):\n",
    "    acc = history.history['acc']\n",
    "    val_acc = history.history['val_acc']\n",
    "    loss = history.history['loss']\n",
    "    val_loss = history.history['val_loss']\n",
    "\n",
    "    epochs = range(1, len(acc) + 1)\n",
    "\n",
    "    plt.plot(epochs, acc, 'bo', label='Acurácia do Treino')\n",
    "    plt.plot(epochs, val_acc, 'b', label='Acurácia da Validação')\n",
    "    plt.title('Acuracia do treino e da validação')\n",
    "    plt.legend()\n",
    "    \n",
    "    plt.figure()\n",
    "    plt.plot(epochs, loss, 'bo', label='Perda do treino')\n",
    "    plt.plot(epochs, val_loss, 'b', label='Perda da validação')\n",
    "    plt.title('Perda do treino e da validação')\n",
    "    plt.legend()\n",
    "        \n",
    "    plt.show()"
   ]
  },
  {
   "cell_type": "code",
   "execution_count": null,
   "metadata": {
    "_uuid": "fa2fd46e6be195c4829a230d183ead75c8efa94c",
    "scrolled": true
   },
   "outputs": [],
   "source": [
    "def train(model):\n",
    "    history = model.fit_generator(\n",
    "       train_generator,\n",
    "       steps_per_epoch= 100,\n",
    "       epochs=10,\n",
    "       validation_data=test_generator,\n",
    "       validation_steps= 100)\n",
    "    overfitting_plot(history)"
   ]
  },
  {
   "cell_type": "code",
   "execution_count": null,
   "metadata": {
    "_uuid": "6b588f9cbcd853e51d758d772b6ab7353a767ab7"
   },
   "outputs": [],
   "source": [
    "cd"
   ]
  },
  {
   "cell_type": "code",
   "execution_count": null,
   "metadata": {
    "_uuid": "f41a4440c2b1ff39752b93ce63481d07030f4939",
    "scrolled": true
   },
   "outputs": [],
   "source": [
    "cd ../kaggle/"
   ]
  },
  {
   "cell_type": "code",
   "execution_count": null,
   "metadata": {
    "_uuid": "a232ca6b1e6e0cfd14f378a05a81d4f6537ca252"
   },
   "outputs": [],
   "source": [
    "train_datagen = ImageDataGenerator(rescale=1./255)\n",
    "\n",
    "test_datagen = ImageDataGenerator(rescale=1./255)\n",
    "\n",
    "evaluate_datagen = ImageDataGenerator(rescale=1./255)\n",
    "\n",
    "train_generator = train_datagen.flow_from_directory(\n",
    "   'input/data/train',\n",
    "   target_size=(RESOLUTION, RESOLUTION),\n",
    "   batch_size=32,\n",
    "   class_mode='binary')\n",
    "\n",
    "test_generator = test_datagen.flow_from_directory(\n",
    "   'input/data/validation',\n",
    "   target_size=(RESOLUTION, RESOLUTION),\n",
    "   batch_size=32,\n",
    "   class_mode='binary')\n",
    "\n",
    "evaluate_data = evaluate_datagen.flow_from_directory(\n",
    "       'input/data/evaluation',\n",
    "       target_size=(RESOLUTION, RESOLUTION),\n",
    "       batch_size=32,\n",
    "       class_mode='binary')\n",
    "\n"
   ]
  },
  {
   "cell_type": "code",
   "execution_count": null,
   "metadata": {
    "_uuid": "1896df981a279afe093bfc4a71ea418f37caa0bf",
    "scrolled": true
   },
   "outputs": [],
   "source": [
    "model =  build_model_pretrained()\n",
    "train(model)\n",
    "evaluate = model.evaluate_generator(evaluate_data, 200)\n",
    "print(\"ACC:  \" + str(evaluate[1]))\n",
    "print(\"LOSS: \" + str(evaluate[0]))"
   ]
  },
  {
   "cell_type": "code",
   "execution_count": null,
   "metadata": {
    "_uuid": "76c727789b47211b8b62866f630fbeb833659468"
   },
   "outputs": [],
   "source": [
    "def load_image(img_path, show=False):\n",
    "\n",
    "    img = image.load_img(img_path, target_size=(224, 224, 3))\n",
    "    img_tensor = image.img_to_array(img)                   \n",
    "    img_tensor = np.expand_dims(img_tensor, axis=0)        \n",
    "    if show:\n",
    "        plt.imshow(img_tensor[0])                           \n",
    "        plt.axis('off')\n",
    "        plt.show()\n",
    "\n",
    "    return img_tensor"
   ]
  },
  {
   "cell_type": "code",
   "execution_count": null,
   "metadata": {
    "_uuid": "ab7fad3b546d993361bacd78f1d9dfa9bd55fdef"
   },
   "outputs": [],
   "source": [
    "test_prever_cats = ['input/data/evaluation/cat/'+i for i in os.listdir('input/data/evaluation/cat')]\n",
    "test_prever_dogs = ['input/data/evaluation/dog/'+i for i in os.listdir('input/data/evaluation/dog')]"
   ]
  },
  {
   "cell_type": "code",
   "execution_count": null,
   "metadata": {
    "_uuid": "479e09575b6de2b267745c687984680e93ef8bb6"
   },
   "outputs": [],
   "source": [
    "def list_test(list_images):\n",
    "    list = []\n",
    "    for i in range(0,len(list_images)):\n",
    "        img = load_image(list_images[i])\n",
    "        list.append(img)\n",
    "    return np.array(list);\n"
   ]
  },
  {
   "cell_type": "code",
   "execution_count": null,
   "metadata": {
    "_uuid": "816b8ddbaa8e263589f18bb4c19df1ea77b5f056"
   },
   "outputs": [],
   "source": [
    "mylist_cats = list_test(test_prever_cats)\n",
    "mylist_dogs = list_test(test_prever_dogs)\n",
    "prediction_cats = model.predict(mylist_cats[:,0], verbose=0)\n",
    "prediction_dogs = model.predict(mylist_dogs[:,0], verbose=0)"
   ]
  },
  {
   "cell_type": "code",
   "execution_count": null,
   "metadata": {
    "_uuid": "344846754be3809e9d0762158ea2454a48f83d7c",
    "scrolled": true
   },
   "outputs": [],
   "source": [
    "def show_prediction_cat(prediction):\n",
    "    p = 0\n",
    "    for i in range (0, 100):\n",
    "        if prediction[i][0] < 0.04: \n",
    "            p = p + 1\n",
    "    return p"
   ]
  },
  {
   "cell_type": "code",
   "execution_count": null,
   "metadata": {
    "_uuid": "57dc397e83b4483a676cac67b141b0056930475b"
   },
   "outputs": [],
   "source": [
    "def show_prediction_dog(prediction):\n",
    "    p = 0\n",
    "    for i in range (0, 100):\n",
    "        if prediction[i][0] > 0.96: \n",
    "            p = p + 1\n",
    "    return p"
   ]
  },
  {
   "cell_type": "code",
   "execution_count": null,
   "metadata": {
    "_uuid": "a4c73d51b3dcaea09a03ce83ca56bb9ed1c93db0"
   },
   "outputs": [],
   "source": [
    "print (\"Gato: \")\n",
    "print(show_prediction_cat(prediction_cats))\n",
    "print (\"Cachorro: \")\n",
    "print(show_prediction_dog(prediction_dogs))\n"
   ]
  }
 ],
 "metadata": {
  "kernelspec": {
   "display_name": "Python 3",
   "language": "python",
   "name": "python3"
  },
  "language_info": {
   "codemirror_mode": {
    "name": "ipython",
    "version": 3
   },
   "file_extension": ".py",
   "mimetype": "text/x-python",
   "name": "python",
   "nbconvert_exporter": "python",
   "pygments_lexer": "ipython3",
   "version": "3.7.3"
  }
 },
 "nbformat": 4,
 "nbformat_minor": 1
}
