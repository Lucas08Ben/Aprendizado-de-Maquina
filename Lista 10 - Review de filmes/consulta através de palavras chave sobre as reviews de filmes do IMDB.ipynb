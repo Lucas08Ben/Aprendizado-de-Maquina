{
 "cells": [
  {
   "cell_type": "code",
   "execution_count": 48,
   "metadata": {},
   "outputs": [],
   "source": [
    "import numpy as np\n",
    "import pandas as pd\n",
    "from sklearn.feature_extraction.text import CountVectorizer, TfidfVectorizer\n",
    "from sklearn.metrics.pairwise import cosine_distances, cosine_similarity\n",
    "from sklearn.metrics import jaccard_similarity_score"
   ]
  },
  {
   "cell_type": "markdown",
   "metadata": {},
   "source": [
    "# Definindo consulta!"
   ]
  },
  {
   "cell_type": "code",
   "execution_count": 49,
   "metadata": {},
   "outputs": [],
   "source": [
    "consulta = ['people out lack i have am big']"
   ]
  },
  {
   "cell_type": "markdown",
   "metadata": {},
   "source": [
    "# Analisando o Dataset"
   ]
  },
  {
   "cell_type": "code",
   "execution_count": 50,
   "metadata": {
    "scrolled": true
   },
   "outputs": [
    {
     "data": {
      "text/html": [
       "<div>\n",
       "<style scoped>\n",
       "    .dataframe tbody tr th:only-of-type {\n",
       "        vertical-align: middle;\n",
       "    }\n",
       "\n",
       "    .dataframe tbody tr th {\n",
       "        vertical-align: top;\n",
       "    }\n",
       "\n",
       "    .dataframe thead th {\n",
       "        text-align: right;\n",
       "    }\n",
       "</style>\n",
       "<table border=\"1\" class=\"dataframe\">\n",
       "  <thead>\n",
       "    <tr style=\"text-align: right;\">\n",
       "      <th></th>\n",
       "      <th>review</th>\n",
       "      <th>sentiment</th>\n",
       "    </tr>\n",
       "  </thead>\n",
       "  <tbody>\n",
       "    <tr>\n",
       "      <th>0</th>\n",
       "      <td>Clint Eastwood reprises his role as Dirty Harr...</td>\n",
       "      <td>1</td>\n",
       "    </tr>\n",
       "    <tr>\n",
       "      <th>1</th>\n",
       "      <td>...but this just isn't working and I am surpri...</td>\n",
       "      <td>0</td>\n",
       "    </tr>\n",
       "    <tr>\n",
       "      <th>2</th>\n",
       "      <td>This relatively obscure Hong Kong \"minorpiece\"...</td>\n",
       "      <td>0</td>\n",
       "    </tr>\n",
       "    <tr>\n",
       "      <th>3</th>\n",
       "      <td>Fair and nifty little science fiction/horror f...</td>\n",
       "      <td>1</td>\n",
       "    </tr>\n",
       "    <tr>\n",
       "      <th>4</th>\n",
       "      <td>\"Foxes\" is a serious look at the consequences ...</td>\n",
       "      <td>1</td>\n",
       "    </tr>\n",
       "  </tbody>\n",
       "</table>\n",
       "</div>"
      ],
      "text/plain": [
       "                                              review  sentiment\n",
       "0  Clint Eastwood reprises his role as Dirty Harr...          1\n",
       "1  ...but this just isn't working and I am surpri...          0\n",
       "2  This relatively obscure Hong Kong \"minorpiece\"...          0\n",
       "3  Fair and nifty little science fiction/horror f...          1\n",
       "4  \"Foxes\" is a serious look at the consequences ...          1"
      ]
     },
     "execution_count": 50,
     "metadata": {},
     "output_type": "execute_result"
    }
   ],
   "source": [
    "df = pd.read_csv('movie_data.csv')\n",
    "df = df.sample(frac=1).reset_index(drop=True)\n",
    "df.head()"
   ]
  },
  {
   "cell_type": "markdown",
   "metadata": {},
   "source": [
    "\n",
    "### Vetorizando as reviews"
   ]
  },
  {
   "cell_type": "code",
   "execution_count": 51,
   "metadata": {},
   "outputs": [],
   "source": [
    "cvr = CountVectorizer(stop_words='english')\n",
    "reviews = df.values[:1000, 0]\n",
    "reviews = np.append(reviews, consulta)\n",
    "smr = cvr.fit_transform(reviews)\n",
    "dmr = smr.toarray()"
   ]
  },
  {
   "cell_type": "code",
   "execution_count": 52,
   "metadata": {},
   "outputs": [],
   "source": [
    "consulta_dense = [dmr[-1]]"
   ]
  },
  {
   "cell_type": "markdown",
   "metadata": {},
   "source": [
    "# Cosine distance"
   ]
  },
  {
   "cell_type": "code",
   "execution_count": 70,
   "metadata": {
    "scrolled": true
   },
   "outputs": [],
   "source": [
    "cd = cosine_distances(dmr, consulta_dense)[:, 0]\n",
    "sort = np.sort(cd)[1:11]\n",
    "argsort = np.argsort(cd)[1:11]"
   ]
  },
  {
   "cell_type": "code",
   "execution_count": 72,
   "metadata": {},
   "outputs": [
    {
     "name": "stdout",
     "output_type": "stream",
     "text": [
      "0.800319234042282\n",
      "A cheap exploitation film about a mothers search for her daughter who has been kidnapped by people who make snuff porno films. The trail leads the mother all over Europe as she searches for her child and we in the audience struggle to stay asleep.<br /><br />This is one of the countless soft-core sleaze films that are made for people who want the excitement of porno with out the stigma or danger of it showing up on their credit card bill.Personally I'd rather have the stigma since those films tend to be more interesting and honest about what we're seeing. This is suppose to be a sexy thriller but its not. Mostly its people talking about things followed by lots of walking from place to place and lead to lead.Periodically through out the film various people get undressed and everything has more than a touch of S&M to the proceedings. The violence and fetish material is of the sort to provoke laughter rather than horror or even excitement, its all so incredibly fake. Worse there is not even enough nudity to keep it interesting. (Basically par for the course for many of these films)<br /><br />You'll forgive my lack of details but it simply is a dull boring film that I stayed with to the end hoping for something remotely prurient to occur, but there was nothing. The most interesting thing was the blonde haired villainess with the huge over bite and nose the size of a Buick. I watched her with morbid fascination wondering what she had looked like as a young girl and wondering whether she had had plastic surgery, not the type of things you should be thinking about in a gripping thriller.<br /><br />Avoid.\n",
      "\n",
      "0.8108826313819415\n",
      "This film was recommended to me by a friend who lives in California. She thought it was wonderful because it was so real, \"Just the way people in the Ohio Valley are!\" I'm from the area and I experienced the film as \"Just the way people in California think we are!\" I've lived in Marietta and Parkersburg and worked minimum wage jobs there. We laughed a lot, we bonded with and took breaks with people our own age; the young people went out together at night. The older people had little free time after work because they were taking care of their families. The area is beautiful in the summer and no gloomier in the winter rain than anywhere else.<br /><br />Aside from the \"if you live in a manufactured home you must be depressed\" condescension, the story lacked any elements of charm, mystery or even a sense of dread.<br /><br />Martha's character was the worst drawn. It's doubtful that anyone so repressed would have belonged to a church, but if she had, she probably would have made friends there. I've read reviews that seem to assume Martha was jealous of Rose because Rose was \"younger, prettier and thinner\" but if this is the case it isn't shown. All we actually see is Martha learning to dislike Rose for reasons that would apply just as much if the three friends had been the same age and gender. We see Martha feeling left out during smoking sessions, left out of the loop when social plans are made, used but not appreciated, and finally disrespected and hurt.<br /><br />Just one more thing: Are we supposed to suspect Kyle of murder because he had once had a few panic attacks? Please. This takes stigma against mental illness to a new level.\n",
      "\n",
      "0.8121327126744551\n",
      "Witchy Hildegard Knef traps a group of people in an isolated hotel and picks them off one by one in twisted, disgusting ways. I thought I'd seen it all until one unfortunate man here is crucified and then has his head set on fire. Hildy is quite the prankster too: she takes a nagging harpy and sews her mouth shut...then hangs her upside down in the chimney just in time for a roaring fire! \"Witchery\" made me sick. It made my eyes hurt. I was ready to write it off as the worst movie ever-ever-ever made by otherwise competent people...until the finale. I have to admit I loved the ending. It involves a boy and his toy tape-recorder cornered by Linda Blair looking fantastically possessed. The scene only lasts for about a minute and the movie's over, but you know that old saying: \"If you've got a great ending, people will forgive you for just about anything!\"\n",
      "\n",
      "0.8132281580905929\n",
      "My wife, Kate and I absolutely loved the series and can't wait for the next one (hopefully there is a sequel!). I would love to know what the catchy song is called and who wrote it, maybe because I am \"old and grey\" and still interested in life:-). If anyone has the full lyrics please send them.<br /><br />Of course one big reason why my wife and I liked this series so much was that we are 75 years old and retired but still very active intellectually. It's great to see a show that highlights the contribution to society that can still be made by older people with special skills and experience. The human interest aspect showing the interactions of the characters and the younger people around them is an important part of the show.<br /><br />This series is highly entertaining and very sophisticated, on a par with some of our other favourites, \"Spooks\" and \"Hustle\".\n",
      "\n",
      "0.8267949192431122\n",
      "What an appalling piece of rubbish!!! Who ARE all these people who blubber on about how good this is? Yes, it's \"arty\"; and yes, it's \"foreign\", but .... that's not enough. The plot is boring and disjointed, like a reality show but not so slickly made.<br /><br />The people are intrinsically uninteresting; but as characters they don't have enough depth to feel empathy for them. If they are based on real people then I feel very, very sorry for them.<br /><br />The violence (and some of it is very violent) seems quite ostentatious and gratuitous. It's like the producer has visions of being Quenton Tarantino. Not that I think very much of him, either.<br /><br />And oh yes: if I had neighbours like these, I'd move!\n",
      "\n",
      "0.8297486938482502\n",
      "A sweet funny story of 2 people crossing paths as they prepare for their weddings. The ex-cop writer and the public school teacher fall for each other in this great new york setting, even though they are marrying other people. Maybe a little trite in that the \"partners\" are both type A personalities, while our protagonists are much more relaxed. Not anything heavy, but it made me smile. And hey for the guys - sell the Natasha Henstridge angle, and the gals - sell them the sappy romance, everyone wins!\n",
      "\n",
      "0.8443002111676954\n",
      "In fact, it never was. I'm not sure why Billy Crystal wanted to recreate a 1940s screwball comedy. What a vacuous shambles! None of these people come close to a Cary Grant, Spencer Tracy, Katherine Hepburn, etc, and anyway, today's audience isn't as receptive to this facile muck. Writing is trivial. The hackneyed plot is razor thin and obvious. The chemistry between the leading characters is non-existent. It's interesting that Julia Roberts seems to think she's a reincarnation of some big star from the \"golden age of Hollywood\", whenever that may be. It's an effect she tries and fails to attain yet again with Richard Gere in Runaway Bride.\n",
      "\n",
      "0.84808909493745\n",
      "If you have enjoyed the Butterfly Effect, Donnie Darko or The Machinist, you will enjoy K-Pax too.<br /><br />To me, this movie felt really uplifting and yet depressing in the end. Spacey delivers a great performance as Prot. Also, lets not forget the appearance of Saul Williams in the movie, who i am a big fan of.<br /><br />After watching it, i recommended the movie to lots of my friends, and everyone was pretty much blown away.<br /><br />But still, it is very underrated, maybe because of the lack of action and explosions. I'm sorry, this is not a movie about blowing things up, it's about how humans behave, and how people live in worlds that don't exist.<br /><br />Go on, and enjoy.\n",
      "\n",
      "0.8492443277111181\n",
      "\"Opera\" is a great film with some wonderful,imaginative imagery.An opera singer(Cristina Marsillach)is being stalked by a killer who forces her to watch him murder everyone she knows by tying her up and taping needles under her eyes.This idea of the needles comes from the fact that Argento doesn't like it when people cover their eyes while watching his movies.\"For years I've been annoyed by people covering their eyes during the gorier moments in my films.I film these images because I want people to see them and not avoid the positive confrontation of their fears by looking away.So I thought to myself 'How would it be possible to achieve this and force someone to watch most gruesome murder and make sure they can't avert their eyes?'The answer I came up with is the core of what \"Opera\" is about.\"-says Argento.Plenty of suspense,wonderful cinematography and brutal,gory murders.One guy is stabbed in the throat with a knife causing a gushing wound,Daria Nicolodi gets shot in the eye while looking through the peephole,etc.For anyone who hasn't caught this one yet,give it a try.Highly recommended.\n",
      "\n",
      "0.8498121477034724\n",
      "Thanks to Kevin Smith, a bunch of geeks are running around saying that Return of the Jedi isn't any good because it's actually fun to watch. And oh no! Muppets are involved! That makes it bad! Everyone liked Return of the Jedi until someone in a Kevin Smith movie made a negative comment about it. Now all of a sudden people people look at you like you have some kind of disease if you mention how much you like it. This movie is so much better than anything Kevin Smith ever even considered creating that it boggles my mind that the man would even think of denouncing it. This movie is good fun! It's just as awesome as I remember it being when I was six! Enjoy this movie for what it is and stop stealing Kevin Smith's opinions! His aren't correct!<br /><br />And that Ewok song at the end ruled! I bet you people don't even enjoy \"Ewoks: Battle for Endor\"!!!! I'm going to set you all on fire!\n",
      "\n"
     ]
    }
   ],
   "source": [
    "for i in range(len(sort)):\n",
    "    print( sort[i] + ':')\n",
    "    print(reviews[argsort[i]] + '\\n')"
   ]
  },
  {
   "cell_type": "markdown",
   "metadata": {},
   "source": [
    "# Jacard distance"
   ]
  }
 ],
 "metadata": {
  "kernelspec": {
   "display_name": "Python 3",
   "language": "python",
   "name": "python3"
  },
  "language_info": {
   "codemirror_mode": {
    "name": "ipython",
    "version": 3
   },
   "file_extension": ".py",
   "mimetype": "text/x-python",
   "name": "python",
   "nbconvert_exporter": "python",
   "pygments_lexer": "ipython3",
   "version": "3.7.3"
  }
 },
 "nbformat": 4,
 "nbformat_minor": 2
}
