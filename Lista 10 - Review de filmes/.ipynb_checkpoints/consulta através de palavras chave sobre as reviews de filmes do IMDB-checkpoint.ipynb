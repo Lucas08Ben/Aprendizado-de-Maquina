{
 "cells": [
  {
   "cell_type": "code",
   "execution_count": 1,
   "metadata": {},
   "outputs": [],
   "source": [
    "import numpy as np\n",
    "import pandas as pd\n",
    "from sklearn.feature_extraction.text import CountVectorizer, TfidfVectorizer\n",
    "from sklearn.metrics.pairwise import cosine_distances, cosine_similarity"
   ]
  },
  {
   "cell_type": "markdown",
   "metadata": {},
   "source": [
    "# Definindo consulta!"
   ]
  },
  {
   "cell_type": "code",
   "execution_count": 2,
   "metadata": {},
   "outputs": [],
   "source": [
    "consulta = ['Acre People Riding Dinosaurs']"
   ]
  },
  {
   "cell_type": "markdown",
   "metadata": {},
   "source": [
    "# Analisando o Dataset"
   ]
  },
  {
   "cell_type": "code",
   "execution_count": 3,
   "metadata": {
    "scrolled": true
   },
   "outputs": [
    {
     "data": {
      "text/html": [
       "<div>\n",
       "<style scoped>\n",
       "    .dataframe tbody tr th:only-of-type {\n",
       "        vertical-align: middle;\n",
       "    }\n",
       "\n",
       "    .dataframe tbody tr th {\n",
       "        vertical-align: top;\n",
       "    }\n",
       "\n",
       "    .dataframe thead th {\n",
       "        text-align: right;\n",
       "    }\n",
       "</style>\n",
       "<table border=\"1\" class=\"dataframe\">\n",
       "  <thead>\n",
       "    <tr style=\"text-align: right;\">\n",
       "      <th></th>\n",
       "      <th>review</th>\n",
       "      <th>sentiment</th>\n",
       "    </tr>\n",
       "  </thead>\n",
       "  <tbody>\n",
       "    <tr>\n",
       "      <th>0</th>\n",
       "      <td>As I write this, Norman Wisdom is a very confu...</td>\n",
       "      <td>0</td>\n",
       "    </tr>\n",
       "    <tr>\n",
       "      <th>1</th>\n",
       "      <td>Rawhide was a wonderful TV western series. Foc...</td>\n",
       "      <td>1</td>\n",
       "    </tr>\n",
       "    <tr>\n",
       "      <th>2</th>\n",
       "      <td>Looking for a movie for your Turkey Film Festi...</td>\n",
       "      <td>0</td>\n",
       "    </tr>\n",
       "    <tr>\n",
       "      <th>3</th>\n",
       "      <td>The revisionist history -- making the evil Mar...</td>\n",
       "      <td>0</td>\n",
       "    </tr>\n",
       "    <tr>\n",
       "      <th>4</th>\n",
       "      <td>To the eight people who found the previous FIE...</td>\n",
       "      <td>1</td>\n",
       "    </tr>\n",
       "  </tbody>\n",
       "</table>\n",
       "</div>"
      ],
      "text/plain": [
       "                                              review  sentiment\n",
       "0  As I write this, Norman Wisdom is a very confu...          0\n",
       "1  Rawhide was a wonderful TV western series. Foc...          1\n",
       "2  Looking for a movie for your Turkey Film Festi...          0\n",
       "3  The revisionist history -- making the evil Mar...          0\n",
       "4  To the eight people who found the previous FIE...          1"
      ]
     },
     "execution_count": 3,
     "metadata": {},
     "output_type": "execute_result"
    }
   ],
   "source": [
    "df = pd.read_csv('movie_data.csv')\n",
    "df = df.sample(frac=1).reset_index(drop=True)\n",
    "df.head()"
   ]
  },
  {
   "cell_type": "markdown",
   "metadata": {},
   "source": [
    "### Vetorizando as reviews"
   ]
  },
  {
   "cell_type": "code",
   "execution_count": 8,
   "metadata": {},
   "outputs": [],
   "source": [
    "cvr = CountVectorizer(stop_words='english')\n",
    "reviews = df.values[:5, 0]\n",
    "reviews = np.append(reviews, consulta)\n",
    "smr = cvr.fit_transform(reviews)\n",
    "dmr = smr.toarray()"
   ]
  },
  {
   "cell_type": "code",
   "execution_count": 9,
   "metadata": {},
   "outputs": [
    {
     "data": {
      "text/plain": [
       "array(['As I write this, Norman Wisdom is a very confused old man who spends most of his waking hours cackling and yelping old catch-phrases at his increasingly suicidal nurse.<br /><br />Indeed, by the time you read this he will probably have joined the hereafter and the obituaries will record a near 80 year career of hysterical mirth-making from the lovable funster with the crooked chequered cap. What most of these obituaries won\\'t recall is how Norman Wisdom had already committed a form of suicide back in the late 1960s with this staggeringly poor, yet strangely compelling endpaper to his movie career.<br /><br />The signs are ominous from the off \\x96 \"Tony Tenser Presents\" go the titles. You scratch your head \\x96 \"Where have I seen that name before..?\" Well, on the titles of a lot of the cheapest, crappiest British films of the 1970s so just take your pick.<br /><br />Then it says \\x96 \"A Menahem Golan Production\". Oh dear.<br /><br />From what I could make out what follows is a combination of Confessions from a Holiday Camp and Last Tango in Paris. Sponsored by the Southport Tourist Board.<br /><br />Norman Wisdom is very versatile at being Norman Wisdom (or a variation of such) here. Even in trash like this, he\\'s never off form and somehow keeps you watching through parted fingers as he paws and dribbles all over a (clearly insane) Sally Geeson. Tony Tenser and Menahem Golan were, between them, responsible for some true cinematic horrors but the bedroom scene in filmic atrocity reborn. Sally plays the role of a lobotomised sex toy very well, by the way.<br /><br />I wonder if any of the crazy young cats who populate this movie\\'s party scenes maybe thought to themselves in a quiet moment \"Umm\\x85old Norman+sex+hippies. Get me outta this mess!!\" I guess it was a payday for them.<br /><br />A do feel sorry for The Pretty Things though. They probably thought \"Yeah! This\\'ll do for us what Blow Up did for the Yardbirds\" <br /><br />And so old Norman\\'s leading man career ended. Freezing his little balls off in Southport.<br /><br />I went there once. It was a depressing place.',\n",
       "       \"Rawhide was a wonderful TV western series. Focusing on a band of trail drovers lead by the trail boss Gil Favor. Most episodes - especially from the first 3 seasons were really character studies of Favor and his men. Guest stars came and went but unlike Wagon Train they seldom dominated the episodes they appeared in. Rawhide was a true, gritty western and Gil Favor stood out as a memorable character never to be forgotten. Thanks to Eric Fleming's performance the show became a massive hit. Of course he was ably supported by a wonderful cast of good actors - Clint Eastwood, Sheb Wooley, Paul Brinegar, Steve Raines, James Murdoch, Rocky Shahan, Robert Cabal. All of these actors left their mark in a piece of television history. Rawhide captured the flavour of that time of the west that no other series has for me, as yet anyhow, managed to do so. Later seasons tended to split the leads and give them individual story lines. For me some of the time this didn't work - the cattle drive and the regulars provided the best stories. However there were still some classic stories and Rawhide remained top drawer affair. The black and white photography added to a bleak, realistic feel that other western series seldom managed to capture. Rustlers, Indians,Commancheroes, beautiful damsels in distress, serial killers, they all showed up to give our heroes problems. The end came for the series quietly when the final season was axed less than half way through. The reason - Eric Fleming had departed and Rawhide was now a head without a body - the gritty realism was gone, Gil Favor commanded respect and exuded authority - he was never infallible and this made him all the more interesting. We shall not see his like again. Watch an episode whenever you can, they seldom disappoint.\",\n",
       "       \"Looking for a movie for your Turkey Film Festival? THE ROLLER BLADE SEVEN is on my list of the ten worst films of all-time. The plot, the story of a post-Apocalyptic roller blading samurai warrior, is a convoluted hodge-podge of film references of everything from STAR WARS to THE SEVEN SAMAURI. The acting fluctuates from bland to abysmal. The scene where the villain tempts the old master is embarrassing to the point of jeering laughter. Frank Stalone's Black Knight reminds one too much of John Cleese's Black Knight in MONTY PYTHON AND THE HOLY GRAIL. (Word of Advice, Frank: When you stoop to doing a movie like this one, your career is over.) I chanced upon this little stink-bomb on a low-end cable channel and I could not stop watching. It is like watching a train wreck, you just can't look away.\",\n",
       "       \"The revisionist history -- making the evil Marquis de Sade a semi-heroic romantic -- is mind-boggling enough. But the atrocious acting, amateurish cinematography and terrible dubbing make this film achingly bad. The only reason to keep watching is that almost all the women in the film are gorgeous. And, amazingly, being tortured for days, with hands bound overhead, apparently doesn't detract from a woman's beauty, hairstyle and makeup. My guess is that the producers filmed mostly in Russia, choosing women for their looks -- and willingness to work cheap -- rather than acting ability. If you decide to watch this because you have nothing better to do, or are a film student looking for bad examples, fast-forward through every scene not involving nudity.\",\n",
       "       'To the eight people who found the previous FIERCE PEOPLE comments by \"Psycolicious Me\" and \"Topdany\" \"helpful,\" as well as to any future site visitors who see them before their authors delete them: these negative critique\\'s are not only shorter than the site guidelines mandate, but they are entirely bogus, nonfactual, incorrect, and misinformative. For instance, Blythe\\'s dad is in a coma, NOT dead--Maya and Finn even visit him in the hospital. Furthermore, it was estate deer poacher Dwayne--NOT Blythe--who knocked up Jilly the maid, etc., etc. So if you have ADD which makes you incapable of focusing on the simplest details, please keep your condition to yourself by not pretending to be Siskel or Ebert. Otherwise, include a disclaimer with your comments!',\n",
       "       'Acre People Riding Dinosaurs'], dtype=object)"
      ]
     },
     "execution_count": 9,
     "metadata": {},
     "output_type": "execute_result"
    }
   ],
   "source": [
    "reviews"
   ]
  },
  {
   "cell_type": "code",
   "execution_count": 6,
   "metadata": {},
   "outputs": [
    {
     "data": {
      "text/plain": [
       "[array([0, 0, 0, 0, 0, 0, 0, 0, 0, 1, 0, 0, 0, 0, 0, 0, 0, 0, 0, 0, 0, 1,\n",
       "        0, 0, 0, 0, 0, 0, 0, 0, 0, 0, 0, 0, 0, 0, 0, 0, 2, 0, 0, 0, 1, 0,\n",
       "        0, 0, 0, 0, 0, 0, 0, 0, 0, 0, 0, 0, 0, 0, 0, 0, 0, 0, 0, 0, 0, 0,\n",
       "        0, 0, 0, 0, 0, 0, 0, 0, 0, 1, 0, 0, 0, 2, 0, 0, 1, 0, 0, 0, 0, 0,\n",
       "        0, 1, 0, 1, 0, 0, 1, 0, 0, 1, 1, 0, 0, 1, 0, 0, 0, 0, 1, 0, 0, 0,\n",
       "        0, 0, 0, 0, 0, 0, 1, 0, 1, 0, 0, 0, 0, 1, 0, 0, 0, 0, 1, 0, 0, 0,\n",
       "        0, 0, 0, 0, 1, 0, 0, 0, 0, 0, 0, 1, 0, 0, 0, 1, 0, 0, 0, 0, 0, 0,\n",
       "        0, 1, 1, 0, 0, 0, 0, 0, 0, 0, 0, 0, 0, 1, 0, 0, 0, 0, 1, 0, 0, 0,\n",
       "        0, 0, 0, 0, 0, 0, 1, 0, 0, 1, 1, 1, 0, 0, 0, 0, 0, 1, 0, 0, 0, 0,\n",
       "        1, 0, 0, 0, 0, 0, 0, 1, 0, 0, 0, 0, 0, 0, 0, 0, 0, 0, 0, 0, 0, 0,\n",
       "        0, 0, 0, 0, 0, 1, 0, 1, 0, 0, 0, 0, 1, 0, 0, 0, 0, 1, 0, 0, 0, 0,\n",
       "        0, 0, 0, 1, 0, 0, 0, 0, 0, 1, 1, 0, 0, 0, 0, 0, 0, 0, 0, 0, 0, 0,\n",
       "        0, 0, 0, 0, 2, 0, 0, 0, 0, 0, 0, 0, 0, 1, 0, 0, 0, 0, 0, 0, 1, 0,\n",
       "        1, 0, 0, 0, 0, 0, 1, 0, 0, 0, 0, 0, 0, 0, 0, 0, 0, 0, 0, 0, 0, 0,\n",
       "        0, 0, 0, 0, 0, 0, 0, 0, 0, 0, 0, 0, 0, 0, 0, 0, 0, 0, 0, 0, 0, 0,\n",
       "        0, 0, 0, 0, 0, 0, 0, 0, 0, 0, 1, 0, 0, 1, 1, 2, 0, 0, 0, 0, 0, 0,\n",
       "        0, 0, 0, 0, 0, 0, 0, 0, 0, 0, 0, 0, 0, 0, 0, 0, 0, 0, 0, 0, 0, 0,\n",
       "        0, 0, 0, 0, 0, 0, 1, 0, 0, 0, 0, 0, 0, 0, 0, 0, 0, 0, 0, 0, 0, 1,\n",
       "        1, 0, 0, 0, 0, 0, 0, 0, 0, 0, 0, 0, 0, 0, 0, 0, 0, 0, 0, 0, 0, 0,\n",
       "        0, 0, 0, 0, 0, 0, 0, 0], dtype=int64)]"
      ]
     },
     "execution_count": 6,
     "metadata": {},
     "output_type": "execute_result"
    }
   ],
   "source": [
    "consulta_dense = [dmr[-1]]\n",
    "consulta_dense"
   ]
  },
  {
   "cell_type": "code",
   "execution_count": 7,
   "metadata": {
    "scrolled": true
   },
   "outputs": [
    {
     "data": {
      "text/plain": [
       "array([[1.00000000e+00, 9.92031809e-01, 1.00000000e+00, 1.00000000e+00,\n",
       "        2.22044605e-16]])"
      ]
     },
     "execution_count": 7,
     "metadata": {},
     "output_type": "execute_result"
    }
   ],
   "source": [
    "cosine_distances(consulta_dense, dmr)"
   ]
  },
  {
   "cell_type": "code",
   "execution_count": null,
   "metadata": {},
   "outputs": [],
   "source": []
  }
 ],
 "metadata": {
  "kernelspec": {
   "display_name": "Python 3",
   "language": "python",
   "name": "python3"
  },
  "language_info": {
   "codemirror_mode": {
    "name": "ipython",
    "version": 3
   },
   "file_extension": ".py",
   "mimetype": "text/x-python",
   "name": "python",
   "nbconvert_exporter": "python",
   "pygments_lexer": "ipython3",
   "version": "3.7.3"
  }
 },
 "nbformat": 4,
 "nbformat_minor": 2
}
