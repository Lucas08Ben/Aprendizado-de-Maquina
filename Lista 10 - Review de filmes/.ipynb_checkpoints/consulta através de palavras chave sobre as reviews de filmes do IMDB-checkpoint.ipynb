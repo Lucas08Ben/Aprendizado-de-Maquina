{
 "cells": [
  {
   "cell_type": "code",
   "execution_count": 1,
   "metadata": {},
   "outputs": [],
   "source": [
    "import numpy as np\n",
    "import pandas as pd\n",
    "from sklearn.feature_extraction.text import CountVectorizer, TfidfVectorizer\n",
    "from sklearn.metrics.pairwise import cosine_distances, cosine_similarity\n",
    "from sklearn.metrics import jaccard_similarity_score"
   ]
  },
  {
   "cell_type": "markdown",
   "metadata": {},
   "source": [
    "# Definindo consulta!"
   ]
  },
  {
   "cell_type": "code",
   "execution_count": 2,
   "metadata": {},
   "outputs": [],
   "source": [
    "consulta = ['teenager martha like']"
   ]
  },
  {
   "cell_type": "markdown",
   "metadata": {},
   "source": [
    "# Analisando o Dataset"
   ]
  },
  {
   "cell_type": "code",
   "execution_count": 3,
   "metadata": {
    "scrolled": true
   },
   "outputs": [
    {
     "data": {
      "text/html": [
       "<div>\n",
       "<style scoped>\n",
       "    .dataframe tbody tr th:only-of-type {\n",
       "        vertical-align: middle;\n",
       "    }\n",
       "\n",
       "    .dataframe tbody tr th {\n",
       "        vertical-align: top;\n",
       "    }\n",
       "\n",
       "    .dataframe thead th {\n",
       "        text-align: right;\n",
       "    }\n",
       "</style>\n",
       "<table border=\"1\" class=\"dataframe\">\n",
       "  <thead>\n",
       "    <tr style=\"text-align: right;\">\n",
       "      <th></th>\n",
       "      <th>review</th>\n",
       "      <th>sentiment</th>\n",
       "    </tr>\n",
       "  </thead>\n",
       "  <tbody>\n",
       "    <tr>\n",
       "      <th>0</th>\n",
       "      <td>When we were in junior high school, some of us...</td>\n",
       "      <td>0</td>\n",
       "    </tr>\n",
       "    <tr>\n",
       "      <th>1</th>\n",
       "      <td>Who likes awful \"comedy\" shows like Little Mos...</td>\n",
       "      <td>0</td>\n",
       "    </tr>\n",
       "    <tr>\n",
       "      <th>2</th>\n",
       "      <td>I recently had the idea to make a short film f...</td>\n",
       "      <td>0</td>\n",
       "    </tr>\n",
       "    <tr>\n",
       "      <th>3</th>\n",
       "      <td>I enjoyed this movie quite a lot. I have alway...</td>\n",
       "      <td>1</td>\n",
       "    </tr>\n",
       "    <tr>\n",
       "      <th>4</th>\n",
       "      <td>Where's Michael Caine when you need him? I've ...</td>\n",
       "      <td>0</td>\n",
       "    </tr>\n",
       "  </tbody>\n",
       "</table>\n",
       "</div>"
      ],
      "text/plain": [
       "                                              review  sentiment\n",
       "0  When we were in junior high school, some of us...          0\n",
       "1  Who likes awful \"comedy\" shows like Little Mos...          0\n",
       "2  I recently had the idea to make a short film f...          0\n",
       "3  I enjoyed this movie quite a lot. I have alway...          1\n",
       "4  Where's Michael Caine when you need him? I've ...          0"
      ]
     },
     "execution_count": 3,
     "metadata": {},
     "output_type": "execute_result"
    }
   ],
   "source": [
    "df = pd.read_csv('movie_data.csv')\n",
    "df = df.sample(frac=1).reset_index(drop=True)\n",
    "df.head()"
   ]
  },
  {
   "cell_type": "markdown",
   "metadata": {},
   "source": [
    "\n",
    "### Vetorizando as reviews"
   ]
  },
  {
   "cell_type": "code",
   "execution_count": 4,
   "metadata": {},
   "outputs": [
    {
     "ename": "MemoryError",
     "evalue": "",
     "output_type": "error",
     "traceback": [
      "\u001b[0;31m---------------------------------------------------------------------------\u001b[0m",
      "\u001b[0;31mMemoryError\u001b[0m                               Traceback (most recent call last)",
      "\u001b[0;32m<ipython-input-4-9ab109fb4695>\u001b[0m in \u001b[0;36m<module>\u001b[0;34m\u001b[0m\n\u001b[1;32m      3\u001b[0m \u001b[0mreviews\u001b[0m \u001b[0;34m=\u001b[0m \u001b[0mnp\u001b[0m\u001b[0;34m.\u001b[0m\u001b[0mappend\u001b[0m\u001b[0;34m(\u001b[0m\u001b[0mreviews\u001b[0m\u001b[0;34m,\u001b[0m \u001b[0mconsulta\u001b[0m\u001b[0;34m)\u001b[0m\u001b[0;34m\u001b[0m\u001b[0;34m\u001b[0m\u001b[0m\n\u001b[1;32m      4\u001b[0m \u001b[0msmr\u001b[0m \u001b[0;34m=\u001b[0m \u001b[0mcvr\u001b[0m\u001b[0;34m.\u001b[0m\u001b[0mfit_transform\u001b[0m\u001b[0;34m(\u001b[0m\u001b[0mreviews\u001b[0m\u001b[0;34m)\u001b[0m\u001b[0;34m\u001b[0m\u001b[0;34m\u001b[0m\u001b[0m\n\u001b[0;32m----> 5\u001b[0;31m \u001b[0mdmr\u001b[0m \u001b[0;34m=\u001b[0m \u001b[0msmr\u001b[0m\u001b[0;34m.\u001b[0m\u001b[0mtoarray\u001b[0m\u001b[0;34m(\u001b[0m\u001b[0;34m)\u001b[0m\u001b[0;34m\u001b[0m\u001b[0;34m\u001b[0m\u001b[0m\n\u001b[0m",
      "\u001b[0;32m~/anaconda3/lib/python3.7/site-packages/scipy/sparse/compressed.py\u001b[0m in \u001b[0;36mtoarray\u001b[0;34m(self, order, out)\u001b[0m\n\u001b[1;32m    960\u001b[0m         \u001b[0;32mif\u001b[0m \u001b[0mout\u001b[0m \u001b[0;32mis\u001b[0m \u001b[0;32mNone\u001b[0m \u001b[0;32mand\u001b[0m \u001b[0morder\u001b[0m \u001b[0;32mis\u001b[0m \u001b[0;32mNone\u001b[0m\u001b[0;34m:\u001b[0m\u001b[0;34m\u001b[0m\u001b[0;34m\u001b[0m\u001b[0m\n\u001b[1;32m    961\u001b[0m             \u001b[0morder\u001b[0m \u001b[0;34m=\u001b[0m \u001b[0mself\u001b[0m\u001b[0;34m.\u001b[0m\u001b[0m_swap\u001b[0m\u001b[0;34m(\u001b[0m\u001b[0;34m'cf'\u001b[0m\u001b[0;34m)\u001b[0m\u001b[0;34m[\u001b[0m\u001b[0;36m0\u001b[0m\u001b[0;34m]\u001b[0m\u001b[0;34m\u001b[0m\u001b[0;34m\u001b[0m\u001b[0m\n\u001b[0;32m--> 962\u001b[0;31m         \u001b[0mout\u001b[0m \u001b[0;34m=\u001b[0m \u001b[0mself\u001b[0m\u001b[0;34m.\u001b[0m\u001b[0m_process_toarray_args\u001b[0m\u001b[0;34m(\u001b[0m\u001b[0morder\u001b[0m\u001b[0;34m,\u001b[0m \u001b[0mout\u001b[0m\u001b[0;34m)\u001b[0m\u001b[0;34m\u001b[0m\u001b[0;34m\u001b[0m\u001b[0m\n\u001b[0m\u001b[1;32m    963\u001b[0m         \u001b[0;32mif\u001b[0m \u001b[0;32mnot\u001b[0m \u001b[0;34m(\u001b[0m\u001b[0mout\u001b[0m\u001b[0;34m.\u001b[0m\u001b[0mflags\u001b[0m\u001b[0;34m.\u001b[0m\u001b[0mc_contiguous\u001b[0m \u001b[0;32mor\u001b[0m \u001b[0mout\u001b[0m\u001b[0;34m.\u001b[0m\u001b[0mflags\u001b[0m\u001b[0;34m.\u001b[0m\u001b[0mf_contiguous\u001b[0m\u001b[0;34m)\u001b[0m\u001b[0;34m:\u001b[0m\u001b[0;34m\u001b[0m\u001b[0;34m\u001b[0m\u001b[0m\n\u001b[1;32m    964\u001b[0m             \u001b[0;32mraise\u001b[0m \u001b[0mValueError\u001b[0m\u001b[0;34m(\u001b[0m\u001b[0;34m'Output array must be C or F contiguous'\u001b[0m\u001b[0;34m)\u001b[0m\u001b[0;34m\u001b[0m\u001b[0;34m\u001b[0m\u001b[0m\n",
      "\u001b[0;32m~/anaconda3/lib/python3.7/site-packages/scipy/sparse/base.py\u001b[0m in \u001b[0;36m_process_toarray_args\u001b[0;34m(self, order, out)\u001b[0m\n\u001b[1;32m   1185\u001b[0m             \u001b[0;32mreturn\u001b[0m \u001b[0mout\u001b[0m\u001b[0;34m\u001b[0m\u001b[0;34m\u001b[0m\u001b[0m\n\u001b[1;32m   1186\u001b[0m         \u001b[0;32melse\u001b[0m\u001b[0;34m:\u001b[0m\u001b[0;34m\u001b[0m\u001b[0;34m\u001b[0m\u001b[0m\n\u001b[0;32m-> 1187\u001b[0;31m             \u001b[0;32mreturn\u001b[0m \u001b[0mnp\u001b[0m\u001b[0;34m.\u001b[0m\u001b[0mzeros\u001b[0m\u001b[0;34m(\u001b[0m\u001b[0mself\u001b[0m\u001b[0;34m.\u001b[0m\u001b[0mshape\u001b[0m\u001b[0;34m,\u001b[0m \u001b[0mdtype\u001b[0m\u001b[0;34m=\u001b[0m\u001b[0mself\u001b[0m\u001b[0;34m.\u001b[0m\u001b[0mdtype\u001b[0m\u001b[0;34m,\u001b[0m \u001b[0morder\u001b[0m\u001b[0;34m=\u001b[0m\u001b[0morder\u001b[0m\u001b[0;34m)\u001b[0m\u001b[0;34m\u001b[0m\u001b[0;34m\u001b[0m\u001b[0m\n\u001b[0m\u001b[1;32m   1188\u001b[0m \u001b[0;34m\u001b[0m\u001b[0m\n\u001b[1;32m   1189\u001b[0m \u001b[0;34m\u001b[0m\u001b[0m\n",
      "\u001b[0;31mMemoryError\u001b[0m: "
     ]
    }
   ],
   "source": [
    "cvr = CountVectorizer(stop_words='english')\n",
    "reviews = df.values[:50000, 0]\n",
    "reviews = np.append(reviews, consulta)\n",
    "smr = cvr.fit_transform(reviews)\n",
    "dmr = smr.toarray() #usar a matriz esparsa"
   ]
  },
  {
   "cell_type": "code",
   "execution_count": null,
   "metadata": {},
   "outputs": [],
   "source": [
    "consulta_dense = [dmr[-1]]"
   ]
  },
  {
   "cell_type": "markdown",
   "metadata": {},
   "source": [
    "# Cosine distance"
   ]
  },
  {
   "cell_type": "code",
   "execution_count": 6,
   "metadata": {
    "scrolled": true
   },
   "outputs": [],
   "source": [
    "cd = cosine_distances(dmr, consulta_dense)[:, 0]\n",
    "sort = np.sort(cd)[1:11]\n",
    "argsort = np.argsort(cd)[1:11]"
   ]
  },
  {
   "cell_type": "code",
   "execution_count": 7,
   "metadata": {},
   "outputs": [
    {
     "name": "stdout",
     "output_type": "stream",
     "text": [
      "1º lugar: 0.7418011102528388\n",
      "I am very disappointed with \"K-911.\" The original \"good\" quality of \"K-9\" doesn't exist any more. This is more like a sitcom! Some of casts from original movie returned and got some of my memory back. The captain of Dooley now loves to hit him like a scene from old comedy show. That was crazy. What's the deal with the change of Police? It seems like they are now LAPD! Not San Diego PD. It is a completely different movie from \"\n",
      "\n",
      "2º lugar: 0.7509708774541238\n",
      "I like the time period, I like the attempt, but watching a movie that looks like I'm looking at it through a coke bottle gives me a headache. If I played computer games that were this blurry and out of focus, I would upgrade my computer. Could be that this was the look the director was after, but not so it hurts the eyes and you want to leave after 10 minutes. If I hadn't taken someone with me to this film, I was out of there. Even though it was a series and not a movie per say, Band of Brothers accomplished this. They made it look like WWII footage, with just a touch of graininess, but it was still a pleasure to watch. Movies need real people, with real sets, and real locations; Use CGI when it is appropriate, not for an entire film.\n",
      "\n",
      "3º lugar: 0.7871858673103128\n",
      "Like the characters in this show, I too was a teen during the 70s. The producers really nailed the whole zeitgeist, of being a suburban teenager in the 70s. The 70s fashions, cars, home furnishings, foods, and fads, are all very authentic in this show.<br /><br />The show boasts a very talented ensemble cast, who all mesh together very well on camera. I really like the unique, psychedelic-style film sequences. No other show does camera tricks like this. These cutting-edge film sequences, really help to convey the campy hipness, that characterized the 70s era.<br /><br />Overall this is a very funny sitcom. The one thing that bothers me about this show, is it's over-reliance on cruel humor, to generate laughs. In this way, I think that this show tries to be too much like Married With Children. While Married with Children is a great sitcom in its own right, it's tacky that the creators of That 70s show, keep trying to imitate it. <br /><br />I do recommend That 70s Show, mainly due to it's nostalgia factor. It could be an even better show though, if the writers relied more on witty dialog, rather than bawdy, tasteless jokes and pranks.\n",
      "\n",
      "4º lugar: 0.7899579873957985\n",
      "Haha, what a great little movie! Wayne Crawford strikes again, or rather this was his first big strike, a deliriously entertaining little ball of manic kitsch energy masquerading as a psycho killer movie. It's actually a **brilliant** satire on post-hippie American culture in flyover country, though the movie was actually filmed independently in Miami. It defies any kind of studio oriented convention or plot device that I can think of: SOMETIMES AUNT MARTHA DOES DREADFUL THINGS may not be a very technically adept movie, but it is a wonderful little slice of Americana, made on the cheap by people who were honest, ambitious, imaginative and had balls made out of steel. It took guts, nerve and guile to make this movie, which amazingly appears to have stood the test of time. This movie is fresh, vital, alive, unforgettable, and charmingly weird enough to recommend to just about anyone with a sense of humor.<br /><br />I dug up last year during a period of time when I was fascinated by \"star\" Wayne Crawford (here billed under his pseudonym Scott Lawrence), a maestro of what can only be called regional film-making, usually of the B grade variety. He's a writer, producer, director, and actor all in one, probably best known for the 80s teen apocalyptic favorite NIGHT OF THE COMET. Here he plays Stanley, the pants wearing half of a couple of truly marvelous characters, apparently homosexual spree killers on the lam after knocking off some old lady in Baltimore for her jewelry. Unsung screen legend Abe Zwick is completely convincing as Paul, who poses as Stanley's Aunt Martha, the cross dressing brains of the outfit who has conned Stanley into thinking he's committed murder to ensure his loyalty. Martha looks about as feminine as the sailors from SOUTH PACIFIC's supporting choir in their coconut bikini tops, yet somehow nobody seems to notice -- or care? -- that she is a he, has no visible means of income, seems to spend all day fretting about where Stanley is, and scurries around the neighborhood in her bathrobe carrying a butcher's knife. Only in America ...<br /><br />As the film opens the two of them have just arrived in Florida and set up residence in what looks like Ward Cleaver's old house, a garishly lit & designed television home that is so cliché as to be surreal. During one memorable scene Martha and an unwelcome house guest sit on the couch, talk problems and drink cans of Budweiser in what is one of the most mesmerizing, subversively ordinary sequences I've ever seen outside of a John Waters movie. Then there's Stanley, always getting into trouble as he is a mop topped hippie with an STP patch on his vest who drives a psychedelic painted van that's about as subtle as the Batmobile, drinks his milk straight from the carton, snorts drugs with blond bombshell bimbos, and hoards donuts in an old cigar box for a quick snack. Opposites attract, I guess.<br /><br />But Stanley also has a thing about not liking it when the young ladies he gets stoned with try to remove his pants, and it always seems to be up to Aunt Martha to get him out of the trouble that inevitably results. The bodies pile up, a nosy junkie blackmails them into using their house as a flop, Stanley's birthday cake gets squashed, and everybody meets down at the local pizza shop before heading to the wood shed on the back property for a hookah hash party where the girls dance in their underwear. Things get out of hand when one of the neighbors tries to get a bit too chummy with Martha, who naturally prefers to keep people at an arm's length when they rudely invite themselves over for a nice chat. And this is a woman who carries not just a butcher knife but a loaded .38 in her slip. Eventually the strange duo find themselves stuck with a body, a baby, and no place to go, and end up taking refuge at an abandoned movie studio where no doubt the technical crew borrowed the equipment used to make the film. I just hope they politely asked for permission first and cleaned up after themselves.<br /><br />A word of course must be said about Stanley and Martha/Paul's relationship, since to dance around the fact that the two are at least suggested to be a homosexual couple would be to miss the primary gist of the plot. We never see the two of them get intimate and indeed even though Stanley mockingly refers to being \"balled\" in one scene, their relationship is more symbiotic than sexual. It certainly isn't a \"gay\" movie, with abundant female nudity and an air of 70s misogyny that cannot be denied either. Stanley & Paul never consummating their implied sexuality on screen, even though the movie certainly would have had the guts to do so if it were important. It isn't, the story isn't about their sex, it's about the bond they share, and how weird it is. Not their being gay, but their being the distinct individuals they are, who are two of the strangest movie creations ever to inhabit my TV set.<br /><br />The film is unique. It was made for only a few thousand dollars on what look like borrowed studio sets, the occasional location work, and an couple of public locations they managed to sneak a camera crew into when nobody was looking. The dialog is completely bizarre, mundane and delightfully esoteric. It's a movie that will take you by surprise, not everyone will like it but for those with a taste for low budget American horror/thrillers like THE NIGHT GOD SCREAMED, HELP ME! I'M POSSESSED, BLOOD & LACE and CHILDREN SHOULDN'T PLAY WITH DEAD THINGS, you've got yourself a winner here.<br /><br />8/10: Usually I'd say something like \"Deserves a DVD restoration\" but somehow I think doing so would ruin the movie's tacky ambiance. And Wayne Crawford, you, sir, rule.\n",
      "\n",
      "5º lugar: 0.8034107251268038\n",
      "I actually own this movie which is the MST3K version called \"Cave Dwellers\" which is really the only way anyone could really watch a movie like this. If it weren't for Joel, Crow, and Tom Servo constantly making wisecracks, it wouldn't be possible to sit through this piece of crap. You have a hero called Ator who looks a lot like Jeff Spigoli in Fast Times at Ridgemont High and appears only slightly more intelligent, just without being stoned. He takes on cavemen (the cave dwellers?) invisible guys, a giant snake (with a bunch of anal retentive snakes that like to line up all the skulls to face the same way), invents a hang glider which suspiciously looks like a modern aluminum one with some cheap vines wrapped around it, and then does battle with the evil John Saxon-looking dude. Then he rides off on his horse across the tire tracks where someone's been four-wheeling.<br /><br />Yes, I got most of that from MST3K, which as I said is the only way to watch this turkey of a movie. If it weren't for that, it would get zero stars.\n",
      "\n",
      "6º lugar: 0.8048199854102933\n",
      "I tried. God knows I tried to like this Swiss Cheese of a movie, but the story was too full of holes, some big enough to drive a horse drawn carriage through. The acting overall was even and the characters endearing enough that you regretted they died off like recently sprayed roaches, scattering off to die their own gruesome deaths. Overall, however, it was not really very scary. Afterall we have seen spooky quickly moving figures in the background since \"The Brood\" why back when / and it was scary then just briefly. This film just never resolved the basic plot points and thats the writer's job. Naturally you would expect the director to pick up on the fact that the story did not make sense. Like who's was the secret room behind the wardrobe, why did the blood hungry ghost not die when she received the nails as prescribed by the book they read earlier? Why did the computer say \"game over\" for Frankie's character even though he lived? The list goes on and on. I don't really feel comfortable recommending this film as its makes you feel like you wasted your time and there was not enough payoff in truly scary moments.\n",
      "\n",
      "7º lugar: 0.8093074821508816\n",
      "This low-budget erotic thriller that has some good points, but a lot more bad one. The plot revolves around a female lawyer trying to clear her lover who is accused of murdering his wife. Being a soft-core film, that entails her going undercover at a strip club and having sex with possible suspects. As plots go for this type of genre, not to bad. The script is okay, and the story makes enough sense for someone up at 2 AM watching this not to notice too many plot holes. But everything else in the film seems cheap. The lead actors aren't that bad, but pretty much all the supporting ones are unbelievably bad (one girl seems like she is drunk and/or high). The cinematography is badly lit, with everything looking grainy and ugly. The sound is so terrible that you can barely hear what people are saying. The worst thing in this movie is the reason you're watching it-the sex. The reason people watch these things is for hot sex scenes featuring really hot girls in Red Shoe Diary situations. The sex scenes aren't hot they're sleazy, shot in that porno style where everything is just a master shot of two people going at it. The woman also look like they are refuges from a porn shoot. I'm not trying to be rude or mean here, but they all have that breast implants and a burned out/weathered look. Even the title, \"Deviant Obsession\", sounds like a Hardcore flick. Not that I don't have anything against porn - in fact I love it. But I want my soft-core and my hard-core separate. What ever happened to actresses like Shannon Tweed, Jacqueline Lovell, Shannon Whirry and Kim Dawson? Women that could act and who would totally arouse you? And what happened to B erotic thrillers like Body Chemistry, Nighteyes and even Stripped to Kill. Sure, none of these where masterpieces, but at least they felt like movies. Plus, they were pushing the envelope, going beyond Hollywood's relatively prude stance on sex, sexual obsessions and perversions. Now they just make hard-core films without the hard-core sex.\n",
      "\n",
      "8º lugar: 0.8139031579203058\n",
      "Why did they change the cute, Rugrats television show we all know and love into a lame attempt to target teens? They don't have to do that. All ages watch the regular Rugrats. When I heard about this, I thought, \"Hey. They made a TV series about the movie. Except, they're really grown up as a teenager! This is going to be better.\" When I saw it, it was just as if I was watching As Told By Ginger, except they made it suck. Great job.<br /><br />When in the Rugrats series has tommy been a director? Never. Basically all the episodes in this attempted series is about Tommy's love of directing. I don't like that. I rather watch plots that change every episode. Not the same thing over and over. Also, when did in the old series have each character have their own sides of the story? Never. This series did that. I didn't like that everyone separated. I don't want to see Angelica's side of the story. I hate her.<br /><br />I do not recommend this show if you like As Told By Ginger and the Rugrats.\n",
      "\n",
      "9º lugar: 0.8139031579203058\n",
      "As a young teen when this came out, I completely related to it. As an adult in the present sex- obsessed American culture, it doesn't have enough nudity to be called tame. <br /><br />If you are looking for American Pie-type lewdness, vulgarity or fart and feces jokes, Meatballs will disappoint with impunity and a guarantee. <br /><br />If you like Bill Murray, and you like good clean fun, you will probably like and enjoy this film very much. Similarly with Stripes, Ghostbusters, Caddy Shack, etc. <br /><br />Enough said, just go watch it, and stop intellectualizing it. It's Meatballs, for crying out loud! Why read a review? Just enjoy it and have fun. And ignore the trash talk by others. Films, like so many other things in life, are subjective. To each his own. <br /><br />Always beware the 'expert' who diminishes others' taste.\n",
      "\n",
      "10º lugar: 0.8166911062233084\n",
      "This movie contains real animals been killed, like a monkey been eaten by a snake and an crocible been cut open. I find this totally deranged and sick, and seriously question the mental health of the director of this trash.<br /><br />This movie is so stupid and daft, that it has no logic at all.<br /><br />There is a lot of boobs and sex in this movie, still don't bother viewing this trash for that, if you want to see boobs and sex, watch a porno instead. There is also rape scenes in this movie, which i found disgusting, like women been raped and cut up, and eaten. This movie is for sadists and those who get their kicks, seeing people been cut up and eaten.<br /><br />A lot of the animals, like the monkey that appeared in this movie, there is none in the jungles of New Guinea. The local characters, most of them appeared to be Asian and none look like they come from New Guinea. It looks like, this movie was made around the grounds of a resort, which i bet it was.<br /><br />Stay away from this trash, its sick and deranged.\n",
      "\n"
     ]
    }
   ],
   "source": [
    "for i in range(len(sort)):\n",
    "    print(str(i+1) + 'º lugar: ' + str(sort[i]))\n",
    "    print(reviews[argsort[i]] + '\\n')"
   ]
  },
  {
   "cell_type": "markdown",
   "metadata": {},
   "source": [
    "# Jaccard distance"
   ]
  },
  {
   "cell_type": "code",
   "execution_count": 21,
   "metadata": {},
   "outputs": [
    {
     "data": {
      "text/plain": [
       "[0.9991507190578643,\n",
       " 0.9990941003283886,\n",
       " 0.9990374815989129,\n",
       " 0.9989808628694372,\n",
       " 0.9989242441399615,\n",
       " 0.9989242441399615,\n",
       " 0.9988676254104858,\n",
       " 0.9988676254104858,\n",
       " 0.9988676254104858,\n",
       " 0.9988676254104858]"
      ]
     },
     "execution_count": 21,
     "metadata": {},
     "output_type": "execute_result"
    }
   ],
   "source": [
    "jacard_s = []\n",
    "for i in dmr[:-1]:\n",
    "    jacard_s.append(jaccard_similarity_score(i, dmr[-1]))\n",
    "jacard_s.sort()\n",
    "jacard_s.reverse()\n",
    "jacard_s[:10]"
   ]
  },
  {
   "cell_type": "code",
   "execution_count": null,
   "metadata": {},
   "outputs": [],
   "source": [
    "## Isso com certeza ta errado!"
   ]
  }
 ],
 "metadata": {
  "kernelspec": {
   "display_name": "Python 3",
   "language": "python",
   "name": "python3"
  },
  "language_info": {
   "codemirror_mode": {
    "name": "ipython",
    "version": 3
   },
   "file_extension": ".py",
   "mimetype": "text/x-python",
   "name": "python",
   "nbconvert_exporter": "python",
   "pygments_lexer": "ipython3",
   "version": "3.7.3"
  }
 },
 "nbformat": 4,
 "nbformat_minor": 2
}
