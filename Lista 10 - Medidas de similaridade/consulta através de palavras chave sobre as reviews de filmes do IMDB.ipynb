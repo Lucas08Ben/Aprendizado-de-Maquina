{
 "cells": [
  {
   "cell_type": "code",
   "execution_count": 1,
   "metadata": {},
   "outputs": [],
   "source": [
    "import numpy as np\n",
    "import pandas as pd\n",
    "from sklearn.feature_extraction.text import CountVectorizer, TfidfVectorizer\n",
    "from sklearn.metrics.pairwise import cosine_distances, cosine_similarity\n",
    "from sklearn.metrics import jaccard_similarity_score"
   ]
  },
  {
   "cell_type": "markdown",
   "metadata": {},
   "source": [
    "# Definindo consulta!"
   ]
  },
  {
   "cell_type": "code",
   "execution_count": 2,
   "metadata": {},
   "outputs": [],
   "source": [
    "consulta = ['teenager martha like']"
   ]
  },
  {
   "cell_type": "markdown",
   "metadata": {},
   "source": [
    "# Analisando o Dataset"
   ]
  },
  {
   "cell_type": "code",
   "execution_count": 3,
   "metadata": {
    "scrolled": true
   },
   "outputs": [
    {
     "data": {
      "text/html": [
       "<div>\n",
       "<style scoped>\n",
       "    .dataframe tbody tr th:only-of-type {\n",
       "        vertical-align: middle;\n",
       "    }\n",
       "\n",
       "    .dataframe tbody tr th {\n",
       "        vertical-align: top;\n",
       "    }\n",
       "\n",
       "    .dataframe thead th {\n",
       "        text-align: right;\n",
       "    }\n",
       "</style>\n",
       "<table border=\"1\" class=\"dataframe\">\n",
       "  <thead>\n",
       "    <tr style=\"text-align: right;\">\n",
       "      <th></th>\n",
       "      <th>review</th>\n",
       "      <th>sentiment</th>\n",
       "    </tr>\n",
       "  </thead>\n",
       "  <tbody>\n",
       "    <tr>\n",
       "      <th>0</th>\n",
       "      <td>I never realized what a fabulous dancer Lana T...</td>\n",
       "      <td>1</td>\n",
       "    </tr>\n",
       "    <tr>\n",
       "      <th>1</th>\n",
       "      <td>The 1960's were a time of change and awakening...</td>\n",
       "      <td>0</td>\n",
       "    </tr>\n",
       "    <tr>\n",
       "      <th>2</th>\n",
       "      <td>For those who like depressing films with sleaz...</td>\n",
       "      <td>0</td>\n",
       "    </tr>\n",
       "    <tr>\n",
       "      <th>3</th>\n",
       "      <td>Some films just simply should not be remade. T...</td>\n",
       "      <td>1</td>\n",
       "    </tr>\n",
       "    <tr>\n",
       "      <th>4</th>\n",
       "      <td>Celebrity singers have always had a tough time...</td>\n",
       "      <td>0</td>\n",
       "    </tr>\n",
       "  </tbody>\n",
       "</table>\n",
       "</div>"
      ],
      "text/plain": [
       "                                              review  sentiment\n",
       "0  I never realized what a fabulous dancer Lana T...          1\n",
       "1  The 1960's were a time of change and awakening...          0\n",
       "2  For those who like depressing films with sleaz...          0\n",
       "3  Some films just simply should not be remade. T...          1\n",
       "4  Celebrity singers have always had a tough time...          0"
      ]
     },
     "execution_count": 3,
     "metadata": {},
     "output_type": "execute_result"
    }
   ],
   "source": [
    "df = pd.read_csv('../Datasets/movie_data.csv')\n",
    "df = df.sample(frac=1).reset_index(drop=True)\n",
    "df.head()"
   ]
  },
  {
   "cell_type": "markdown",
   "metadata": {},
   "source": [
    "\n",
    "### Vetorizando as reviews"
   ]
  },
  {
   "cell_type": "code",
   "execution_count": 4,
   "metadata": {},
   "outputs": [],
   "source": [
    "cvr = CountVectorizer(stop_words='english')\n",
    "reviews = df.values[:50000, 0]\n",
    "reviews = np.append(reviews, consulta)\n",
    "smr = cvr.fit_transform(reviews)"
   ]
  },
  {
   "cell_type": "markdown",
   "metadata": {},
   "source": [
    "# Cosine distance"
   ]
  },
  {
   "cell_type": "code",
   "execution_count": 5,
   "metadata": {
    "scrolled": true
   },
   "outputs": [],
   "source": [
    "cd = cosine_distances(smr[:-1], smr[-1])[:, 0]\n",
    "sort = np.sort(cd)[:10]\n",
    "argsort = np.argsort(cd)[:10]"
   ]
  },
  {
   "cell_type": "code",
   "execution_count": 6,
   "metadata": {},
   "outputs": [
    {
     "name": "stdout",
     "output_type": "stream",
     "text": [
      "1º lugar: 0.588886774103481\n",
      "I'd heard of the case, but hadn't really paid attention during the whole hoopla of Fuhrman writing the book, Skakel being arrested, etc. However, this movie did an excellent job of detailing Martha, the Skakel brothers, the murder, Mark Fuhrman's involvement and the results of his investigation. I especially liked the flashback scenes with Martha talking about her last summer. The actress who played her literally glowed with life and made it even more poignant that the real Martha was probably like that. It made Martha seem like a real person rather than a victim. I'd definitely recommend watching this.\n",
      "\n",
      "2º lugar: 0.6023679831850627\n",
      "\"It's like hard to like describe just how like exciting it is like to make a relationship like drama like with all the like pornographic scenes thrown like in for like good measure like, and to stir up like contro- like -versy and make us more like money and like stuff.\" - Ellen, the lost quote.<br /><br />\"Kissing, Like, On the, Like, Mouth And Stuff\" is like the best like artistic endeavor like ever made. Watching like Ellen's hairy arms and like Chris masturbating was like the height of my years-long movie-viewing experience and stuff. But before I like begin like breaking new U.S.-20-something-airhead records with the my \"likes\", let me like just briefly list like the high- like -lights of this visual like feast: <br /><br />1. Chris doing the deed with his genitals. And not just that: the way the camera (guided so elegantly by Ellen and Patrick) rewards the viewer with a full-screen shot of Chris's fat white-trash stomach after he finishes the un-Catholic deed - that was truly thrilling. I can in all honesty say that I've never seen such grace. Chris, you should do more such scenes in your next movies, because that is exactly what we needed as a continuation of what that brilliant, brilliant man, Lars von Trier and his \"Idiots 95\", started. A quick w*** and then a hairy, fat, white belly: what more can any movie-goer ask for?! Needless to say, I can sit all day and watch Chris ejaculate (in spite of the fact that I'm straight)... Such poetry in motion. Such elegance, such style. No less than total, divine inspiration went into filming that sequence - plus a solid amount of Zen philosophy. Even Barbra Streisand could not get any more spiritual than this.<br /><br />2. Ellen's hairy, thick arms. The wobbly-camera close-ups, so skillfully photographed by our two directors of photography (I can't emphasize this enough), Ellen and Patrick, often caused confusion regarding the proper identification of the sex in question. There were several scenes when we would see a part of a body (a leg, arm or foot), yet it was often a guessing game: does that body-part belong to a man or a woman? Naturally, Chris and his fellow artists, Ellen, Patrick and whatsername, cast themselves on purpose, because their bodies were ideal for creating this gender-based confusion. It was at times hard to guess whether one is seeing a female or male leg. Patrick is so very thin and effeminate in his movements, so hairless and pristine, whereas Ellen and the other girl are so very butch, what with their thick legs and arms. Brilliant. <br /><br />3. Brilliant - especially the way that neatly ties in with the theme of role reversal between the sexes: so utterly original and mind-blowing. Ellen behaves like a man, wants sex all the time, while her ex Patrick wants to talk - like a girl. Spiffing.<br /><br />4. Ellen's search for a Leftist mate. \"He must love 'The Simpsons', which is quite Leftist.\" I am glad that the makers of this movie decided to break the long tradition of offering us intelligent Leftists. Ellen is such a refreshing - and realistic - change. The number of \"likes\" that she and her liberal friends manage to utter in less than 80 minutes is truly phenomenal (3,849, to be exact). They have managed to realistically transfer their real-life ineptness onto the big screen with a minimum of effort, and I applaud them for that.<br /><br />5. The close-ups of toes. Plenty of stuff here for foot-fetishists, which I think is a very liberal, highly commendable way of reaching out to sexual minorities. After all, shoe- and foot- fetishists are offered so little in modern cinema, so it's nice to see that someone out there CARES.<br /><br />KOTM, or rather, KLOTLMAS, offers more than meets the eye. It is not just a modest little film about shallow people engaging in hollow relationships while indulging in meaningless conversations. No, it's much more than that. It's about the light that guides all silly creatures; the guiding light that dominates the futile lives of various pseudo-artistic wannabes who just dropped out of film school, and plan to assault our senses with dim-witted drivel that will hopefully play well at pretentious festivals like Sundance and Cannes, enabling them to gain the necessary exposure hence some real cash for a change, with which they will later hire the likes of Sean Penn and George Clooney in promoting the saving of this planet and the resolving of ALL political problems this world faces. What better way to do that than by making porn at the very start? <br /><br />If Chris and Ellen did the camera here, as is clearly stated in the end-credits, then who held the camera while the two of them were in front of it? They probably hired some passers-by and shoved the camera into their hands...<br /><br />Go to http://rateyourmusic.com/~Fedor8, and check out my \"TV & Cinema: 150 Worst Cases Of Nepotism\" list.\n",
      "\n",
      "3º lugar: 0.6328059631827372\n",
      "I checked out this video expecting to like it. Wanting to like it. I like foreign films, I like beautiful cinematography, I know the critics liked this film (including my favorite, Roger Ebert), and I don't mind \"slow\" films.<br /><br />Well, it's beautiful. That's about the best I can say for it. The plot is very thin, the shots are very long, the glances are very meaningful, the actors are very sincere, and it seems like a very long movie. I fell asleep half way though it, woke up, rewound the tape, tried again. It was a trial, but I made it to the end. I didn't like it any better for that.\n",
      "\n",
      "4º lugar: 0.6344784566722865\n",
      "I'm a big fan of H. P. Lovecraft's books, and the Mythos background spawned some rather good other stories and stuff like that. And in the last years there came along some boys who did movies about H. P.'s work,  for the bigger part low-budged flicks  and showed them to the public at places like the H. P. Lovecraft Film Festival. Now, like I said, most of them don't have a big budged, but they at least know the heart and \"soul\" of Lovecrafts work and films like \"Cool Air\" or \"The Call of Cthulhu\" - are what I would think - gifts for the fan base and other loonies that like H.P.'s creation. <br /><br />And then there are people like Ivan Zuccon, who just rip off the name and create a movie which would have been fun to watch if I had directed it myself and filmed with some friends down at the beach. That is what Mr. Zuccon did as it seems...but, while blokes like Aaron Vanek's or Bryan Moore's earlier movies might not have had more budged, they somehow still had more to offer , like a story, real characters and some connection to Lovecraft! Just blabbering out names like \"Nyarlathotep\" or \"Necronomicon\" makes a movie not a Lovecraft-adaption. <br /><br />Anyway, this flick will not only make fans of the Mythos shudder and hide, it will also not appeal to people who 1. like good movies, 2. laugh about bad movies, 3. like good C-grade splatter movies or 4. watch everything that has Horror written on the DVD-cover. I will not go into the \"plott\" of this waste of time, as it has already been discussed by others here on this page, but like I said, Unknown Beyond is like a movie I would have made up with some geeky friends.. Aside from that it lacks ideas for any storytelling and goes into ridiculous \"moronic-nonsense-but-he-it's-art-stuff\". Self-made flicks of this \"quality\" are fun to watch if you know all the blokes in it and ha-ha, see how XY is coughing out the fake blood we made from old tomato sauce and stuff  but hey, you don't put this in a DVD-casing, declare it an actual movie and want money for it",
      "<br /><br />I give it 2/10 because of the I dunno  effort or something like that\n",
      "\n",
      "5º lugar: 0.6553090062271443\n",
      "If you like soap-series, you might like this film. I recommend this film to fans of Dutch soap-series like GTST, Westenwind or even American stuff like The Bold & The Beautiful. If you don't like that stuff: stay away from this movie. It has the same kind of visual style, the same quality of acting, direction and writing.The film was a big hit at home territory, but wasn't sold anywhere else outside Holland and Belgium. Pretty strange for a commercial film like this.<br /><br />Maybe it says something....\n",
      "\n",
      "6º lugar: 0.6584349744680134\n",
      "This film is like a dirge. UNTIL it gets to musical numbers which are like MIND F*CK, but gentler, like a mind caress. MIND FOREPLAY. The depressing vibe given from the speed & desperateness of the characters can be pretty Kill-Yourself-Awesome UNTIL you get to the musical numbers. It's a great film. Optimistic. Weird. Manic-depressive(Bipolar). That's it! THIS MOVIE IS BIPOLAR. anyway see it. IT'S A MUSICAL!!! WITH DEPTH!!!! If you like the existential dross like The Stranger, or Waiting for Godot, Then your probably get a real kick out of this one. I had to get the DVD through Amazon.com for like 12$. OH & the songs rock. well they rock but they aren't rock, there like calypso, jazz, Broadway, but by Grace Chung, & I can't find the soundtrack NOWHERE< but i wanna the songs are great, & the dances are so fun.\n",
      "\n",
      "7º lugar: 0.6604189120175928\n",
      "First there are some plot holes in this movie. We see in the very beginning a kid dies from playing the game. But who was tied up in the mail truck delivering the package which contains the game? How did the driver place the package into the mailbox when he was lashed to the steering wheel? It is not like he was Mr. Fantastic. Wow that in just the first 15 minutes... The actors are second rate, take the \"Bad Guy\" played by Patrick Kilpatrick (who?) exactly he has appeared in one episode of everything on TV and some secondary roles in poor movies (like this one). So most of the acting is like TV dramas, I can live with that, but the graphics or special effects are horrible. The disembodied \"Game\" voice sounds like a poor clone of Hal from \"Space Oddessy 2000\". What they called Zombies looked more like shadows jumping around like monkeys from \"Planet of the Apes\". The Aliens had transparent bodies like the shadow zombies. In most cases, the movie was just predictable as it had no hook or hidden agenda going. The story was a good idea but like most good ideas discussed over lunch was never developed beyond that good idea stage.\n",
      "\n",
      "8º lugar: 0.6622397352634006\n",
      "Why would anyone make a film like this? Why would anybody invest in a film like this? Why would anybody in the film business work on a film like this? Why would any theatre show a film like this? Why would any TV channel program a film like this? Why would any critic bother to review a film like this? Why would anybody watch a film like this? Why would mental examinations not be made of the writers/producers/directors of a film like this? Sometimes there are movies that are so bad they're good. This is a movie that is so ghastly that it's horrible. IMDb really must institute a \"0\" or even a minus scale to embrace works of this appallingly pretentious awfulness.\n",
      "\n",
      "9º lugar: 0.6666666666666665\n",
      "* Firstly, although many say it is the worst of the series, i don't think that it is true,considering this one ideally reflects the 21 century teen mentality .it brings perfect opportunities to make you laugh and remind you of the good teenager times when you would have liked to have same fun as the characters do.<br /><br />* I Agree with the fact that it is a teenager movie but comedy movies nowadays aren't supposed to be for teenagers?i mean... cinemas are mostly the place for teenagers to hang out; plus ,seeing such a movie during a sleepover or something like that is very good for having a very good time.<br /><br />* Many comment about the amount of nudity in this movie. Well...let's get real...doesn't that reflect the thoughts of teen guys like those from the movie? what would you like to see...smart books,romantic stuff? that is not at all what would be in those teenagers' minds ...<br /><br />* To conclude, i think that if you are a teenager, you must absolutely see the movie, and even if you are a real grown up man or a woman, you should see it if you still have a teen mind or you often think about how it was being a teenager,or things like that. Thanks for reading!\n",
      "\n",
      "10º lugar: 0.6666666666666666\n",
      "I love all his work but this looks like nothing.. sorry.. This looks more like a \"David Lynch copycat\". I think people like it only because \"it's from David Lynch\".\n",
      "\n"
     ]
    }
   ],
   "source": [
    "for i in range(len(sort)):\n",
    "    print(str(i+1) + 'º lugar: ' + str(sort[i]))\n",
    "    print(reviews[argsort[i]] + '\\n')"
   ]
  }
 ],
 "metadata": {
  "kernelspec": {
   "display_name": "Python 3",
   "language": "python",
   "name": "python3"
  },
  "language_info": {
   "codemirror_mode": {
    "name": "ipython",
    "version": 3
   },
   "file_extension": ".py",
   "mimetype": "text/x-python",
   "name": "python",
   "nbconvert_exporter": "python",
   "pygments_lexer": "ipython3",
   "version": "3.7.7"
  }
 },
 "nbformat": 4,
 "nbformat_minor": 2
}
