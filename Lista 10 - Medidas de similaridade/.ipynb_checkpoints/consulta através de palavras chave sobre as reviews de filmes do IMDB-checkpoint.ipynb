{
 "cells": [
  {
   "cell_type": "code",
   "execution_count": 1,
   "metadata": {},
   "outputs": [],
   "source": [
    "import numpy as np\n",
    "import pandas as pd\n",
    "from sklearn.feature_extraction.text import CountVectorizer, TfidfVectorizer\n",
    "from sklearn.metrics.pairwise import cosine_distances, cosine_similarity\n",
    "from sklearn.metrics import jaccard_similarity_score"
   ]
  },
  {
   "cell_type": "markdown",
   "metadata": {},
   "source": [
    "# Definindo consulta!"
   ]
  },
  {
   "cell_type": "code",
   "execution_count": 2,
   "metadata": {},
   "outputs": [],
   "source": [
    "consulta = ['teenager martha like']"
   ]
  },
  {
   "cell_type": "markdown",
   "metadata": {},
   "source": [
    "# Analisando o Dataset"
   ]
  },
  {
   "cell_type": "code",
   "execution_count": 3,
   "metadata": {
    "scrolled": true
   },
   "outputs": [
    {
     "data": {
      "text/html": [
       "<div>\n",
       "<style scoped>\n",
       "    .dataframe tbody tr th:only-of-type {\n",
       "        vertical-align: middle;\n",
       "    }\n",
       "\n",
       "    .dataframe tbody tr th {\n",
       "        vertical-align: top;\n",
       "    }\n",
       "\n",
       "    .dataframe thead th {\n",
       "        text-align: right;\n",
       "    }\n",
       "</style>\n",
       "<table border=\"1\" class=\"dataframe\">\n",
       "  <thead>\n",
       "    <tr style=\"text-align: right;\">\n",
       "      <th></th>\n",
       "      <th>review</th>\n",
       "      <th>sentiment</th>\n",
       "    </tr>\n",
       "  </thead>\n",
       "  <tbody>\n",
       "    <tr>\n",
       "      <th>0</th>\n",
       "      <td>Having read some of the other comments here I ...</td>\n",
       "      <td>1</td>\n",
       "    </tr>\n",
       "    <tr>\n",
       "      <th>1</th>\n",
       "      <td>If you are looking for eye candy, you may enjo...</td>\n",
       "      <td>0</td>\n",
       "    </tr>\n",
       "    <tr>\n",
       "      <th>2</th>\n",
       "      <td>Take a subject I didn't know much about and ma...</td>\n",
       "      <td>1</td>\n",
       "    </tr>\n",
       "    <tr>\n",
       "      <th>3</th>\n",
       "      <td>The best thing from the American Pie \"bakery.\"...</td>\n",
       "      <td>1</td>\n",
       "    </tr>\n",
       "    <tr>\n",
       "      <th>4</th>\n",
       "      <td>No wonder so many young people have Attention ...</td>\n",
       "      <td>0</td>\n",
       "    </tr>\n",
       "  </tbody>\n",
       "</table>\n",
       "</div>"
      ],
      "text/plain": [
       "                                              review  sentiment\n",
       "0  Having read some of the other comments here I ...          1\n",
       "1  If you are looking for eye candy, you may enjo...          0\n",
       "2  Take a subject I didn't know much about and ma...          1\n",
       "3  The best thing from the American Pie \"bakery.\"...          1\n",
       "4  No wonder so many young people have Attention ...          0"
      ]
     },
     "execution_count": 3,
     "metadata": {},
     "output_type": "execute_result"
    }
   ],
   "source": [
    "df = pd.read_csv('movie_data.csv')\n",
    "df = df.sample(frac=1).reset_index(drop=True)\n",
    "df.head()"
   ]
  },
  {
   "cell_type": "markdown",
   "metadata": {},
   "source": [
    "\n",
    "### Vetorizando as reviews"
   ]
  },
  {
   "cell_type": "code",
   "execution_count": 4,
   "metadata": {},
   "outputs": [],
   "source": [
    "cvr = CountVectorizer(stop_words='english')\n",
    "reviews = df.values[:50000, 0]\n",
    "reviews = np.append(reviews, consulta)\n",
    "smr = cvr.fit_transform(reviews)"
   ]
  },
  {
   "cell_type": "markdown",
   "metadata": {},
   "source": [
    "# Cosine distance"
   ]
  },
  {
   "cell_type": "code",
   "execution_count": 5,
   "metadata": {
    "scrolled": true
   },
   "outputs": [],
   "source": [
    "cd = cosine_distances(smr[:-1], smr[-1])[:, 0]\n",
    "sort = np.sort(cd)[:10]\n",
    "argsort = np.argsort(cd)[:10]"
   ]
  },
  {
   "cell_type": "code",
   "execution_count": 7,
   "metadata": {},
   "outputs": [
    {
     "data": {
      "text/plain": [
       "array([0.96142416, 0.96998499, 0.94469987, 1.        , 1.        ,\n",
       "       1.        , 0.929986  , 1.        , 0.90983304, 0.94226497,\n",
       "       0.8617673 , 0.95221815, 0.88731277, 1.        , 0.953324  ,\n",
       "       0.88701346, 1.        , 1.        , 1.        , 0.95085268,\n",
       "       1.        , 0.91361316, 0.95443648, 0.94871795, 1.        ,\n",
       "       1.        , 0.90410734, 0.93545028, 0.80132015, 0.82717472,\n",
       "       0.95012453, 0.96249707, 0.95210869, 1.        , 1.        ,\n",
       "       0.94013157, 1.        , 0.96116322, 0.9628096 , 1.        ,\n",
       "       0.96931418, 0.90098525, 1.        , 0.92796615, 1.        ,\n",
       "       0.84981215, 1.        , 1.        , 0.93700592, 0.92143258,\n",
       "       1.        , 1.        , 0.90871291, 1.        , 1.        ,\n",
       "       1.        , 1.        , 1.        , 0.95610487, 0.89089105,\n",
       "       0.95597745, 1.        , 1.        , 1.        , 0.97980107,\n",
       "       0.92402628, 1.        , 1.        , 0.94495181, 0.93980707,\n",
       "       1.        , 0.97759446, 1.        , 1.        , 0.94805925,\n",
       "       1.        , 1.        , 1.        , 1.        , 1.        ,\n",
       "       0.95947796, 0.91600789, 0.89630483, 1.        , 1.        ,\n",
       "       1.        , 0.86666667, 0.951205  , 0.96710242, 1.        ,\n",
       "       0.979996  , 0.93584997, 1.        , 0.95505334, 1.        ,\n",
       "       1.        , 0.94338615, 1.        , 0.94045087, 0.9734253 ,\n",
       "       0.95967611, 0.95463908, 1.        , 0.84500315, 1.        ,\n",
       "       0.86459936, 0.84671967, 0.96627084, 0.93584997, 1.        ,\n",
       "       1.        , 1.        , 0.96020639, 0.90024907, 0.90845827,\n",
       "       1.        , 1.        , 0.97405004, 0.93624233, 1.        ,\n",
       "       0.95477844, 0.92197257, 0.77823362, 1.        , 0.84630534,\n",
       "       1.        , 0.92826579, 0.9248354 , 1.        , 0.95777997,\n",
       "       0.95058338, 0.85566243, 1.        , 1.        , 1.        ,\n",
       "       0.87530406, 0.94856555, 0.96592009, 1.        , 0.89987477,\n",
       "       0.97817821, 1.        , 0.96802353, 0.96015905, 0.76671526,\n",
       "       1.        , 0.95967611, 0.92838851, 1.        , 1.        ,\n",
       "       0.9503096 , 1.        , 0.94729537, 0.92667644, 0.91752139,\n",
       "       1.        , 0.90170536, 0.96015905, 0.9503096 , 1.        ,\n",
       "       1.        , 1.        , 1.        , 1.        , 1.        ,\n",
       "       1.        , 1.        , 1.        , 1.        , 0.93880099,\n",
       "       0.95285955, 0.93947725, 1.        , 0.95067364, 0.96952862,\n",
       "       0.88911681, 1.        , 0.98098598, 0.96146238, 1.        ,\n",
       "       0.92851061, 0.95205367, 0.90240999, 0.90240999, 1.        ,\n",
       "       1.        , 1.        , 1.        , 0.88452995, 0.95505334,\n",
       "       1.        , 0.85893088, 1.        , 1.        , 1.        ,\n",
       "       0.87401184, 1.        , 1.        , 0.9729334 , 1.        ,\n",
       "       1.        , 1.        , 0.8232233 , 0.92649095, 1.        ,\n",
       "       0.89278875, 0.96845599, 1.        , 1.        , 0.89232362,\n",
       "       0.95696685, 1.        , 0.96053315, 1.        , 0.97311012,\n",
       "       0.84122316, 1.        , 0.95362611, 0.90983304, 1.        ,\n",
       "       1.        , 1.        , 1.        , 0.92183364, 1.        ,\n",
       "       0.94444444, 0.94772916, 1.        , 1.        , 0.95914963,\n",
       "       1.        , 1.        , 0.95137834, 0.96797437, 1.        ,\n",
       "       1.        , 1.        , 0.85786619, 1.        , 0.60236798,\n",
       "       1.        , 1.        , 0.9730516 , 0.9304952 , 1.        ,\n",
       "       1.        , 0.97800471, 0.95987138, 0.96363035, 0.89630483,\n",
       "       1.        , 1.        , 1.        , 0.96845599, 1.        ,\n",
       "       1.        , 1.        , 0.97774478, 0.96375598, 0.94444444,\n",
       "       1.        , 1.        , 0.93845425, 0.93880099, 0.87895449,\n",
       "       0.86840966, 1.        , 1.        , 0.92622889, 1.        ,\n",
       "       1.        , 1.        , 1.        , 0.87783056, 0.91835034,\n",
       "       1.        , 0.96561929, 1.        , 1.        , 1.        ,\n",
       "       1.        , 1.        , 1.        , 0.96518447, 0.96900621,\n",
       "       0.91055728, 1.        , 0.929986  , 0.9241902 , 0.97619048,\n",
       "       1.        , 1.        , 1.        , 1.        , 1.        ,\n",
       "       1.        , 1.        , 0.95406848, 0.93624233, 0.84394514,\n",
       "       0.93288439, 1.        , 1.        , 1.        , 1.        ,\n",
       "       1.        , 0.87961415, 1.        , 1.        , 1.        ,\n",
       "       1.        , 1.        , 0.81430466, 0.95684681, 1.        ,\n",
       "       1.        , 1.        , 0.93774272, 0.95532329, 1.        ,\n",
       "       0.95137834, 0.95947796, 0.91417178, 0.90695158, 1.        ,\n",
       "       1.        , 1.        , 0.93910434, 0.953324  , 0.97002547,\n",
       "       1.        , 0.897738  , 1.        , 0.96821791, 0.9530159 ,\n",
       "       0.93783301, 1.        , 1.        , 0.84286516, 1.        ,\n",
       "       0.96091931, 0.91924271, 1.        , 1.        , 0.93624233,\n",
       "       0.9537379 , 1.        , 1.        , 1.        , 1.        ,\n",
       "       1.        , 1.        , 1.        , 1.        , 0.79298033,\n",
       "       0.93910434, 0.81268284, 0.93148113, 1.        , 1.        ,\n",
       "       1.        , 0.88295885, 1.        , 0.95317071, 0.96133777,\n",
       "       1.        , 1.        , 0.93355445, 0.93420483, 0.96927075,\n",
       "       0.98327048, 0.94226497, 1.        , 1.        , 0.96265432,\n",
       "       0.96363035, 1.        , 1.        , 0.97275316, 1.        ,\n",
       "       1.        , 0.92838851, 0.93947725, 1.        , 0.92050714,\n",
       "       1.        , 1.        , 1.        , 0.95491652, 1.        ,\n",
       "       0.87090056, 0.97087653, 0.86869357, 0.98045965, 1.        ,\n",
       "       1.        , 1.        , 1.        , 0.96176404, 1.        ,\n",
       "       0.94639437, 0.84286516, 1.        , 1.        , 1.        ,\n",
       "       1.        , 0.94167882, 1.        , 0.93662757, 1.        ,\n",
       "       1.        , 0.93584997, 0.9578924 , 0.92783122, 0.8509288 ,\n",
       "       1.        , 0.93700592, 0.92711595, 1.        , 0.83176835,\n",
       "       1.        , 0.76026835, 0.93947725, 0.96428002, 0.8509288 ,\n",
       "       1.        , 0.93558434, 1.        , 1.        , 1.        ,\n",
       "       0.84430021, 1.        , 1.        , 1.        , 0.82592234,\n",
       "       1.        , 0.93810155, 1.        , 1.        , 1.        ,\n",
       "       1.        , 0.9241902 , 1.        , 1.        , 1.        ,\n",
       "       0.95406848, 1.        , 0.94936303, 1.        , 1.        ,\n",
       "       0.93947725, 0.92893309, 0.93441742, 0.93891528, 1.        ,\n",
       "       0.96845599, 1.        , 1.        , 1.        , 0.93545028,\n",
       "       1.        , 1.        , 0.95600941, 0.94544553, 1.        ,\n",
       "       1.        , 0.94311199, 0.97134659, 0.85866695, 0.94372334,\n",
       "       1.        , 0.93774272, 1.        , 1.        , 1.        ,\n",
       "       0.97076473, 0.94662395, 1.        , 0.88335763, 1.        ,\n",
       "       0.92946544, 1.        , 0.92352809, 1.        , 1.        ,\n",
       "       0.90410734, 0.94815242, 0.90170536, 0.92499414, 1.        ,\n",
       "       1.        , 0.94520034, 0.97816261, 1.        , 1.        ,\n",
       "       1.        , 0.94896896, 1.        , 0.94197411, 0.94418544])"
      ]
     },
     "execution_count": 7,
     "metadata": {},
     "output_type": "execute_result"
    }
   ],
   "source": [
    "cd"
   ]
  },
  {
   "cell_type": "code",
   "execution_count": 6,
   "metadata": {},
   "outputs": [
    {
     "name": "stdout",
     "output_type": "stream",
     "text": [
      "1º lugar: 0.6023679831850627\n",
      "\"It's like hard to like describe just how like exciting it is like to make a relationship like drama like with all the like pornographic scenes thrown like in for like good measure like, and to stir up like contro- like -versy and make us more like money and like stuff.\" - Ellen, the lost quote.<br /><br />\"Kissing, Like, On the, Like, Mouth And Stuff\" is like the best like artistic endeavor like ever made. Watching like Ellen's hairy arms and like Chris masturbating was like the height of my years-long movie-viewing experience and stuff. But before I like begin like breaking new U.S.-20-something-airhead records with the my \"likes\", let me like just briefly list like the high- like -lights of this visual like feast: <br /><br />1. Chris doing the deed with his genitals. And not just that: the way the camera (guided so elegantly by Ellen and Patrick) rewards the viewer with a full-screen shot of Chris's fat white-trash stomach after he finishes the un-Catholic deed - that was truly thrilling. I can in all honesty say that I've never seen such grace. Chris, you should do more such scenes in your next movies, because that is exactly what we needed as a continuation of what that brilliant, brilliant man, Lars von Trier and his \"Idiots 95\", started. A quick w*** and then a hairy, fat, white belly: what more can any movie-goer ask for?! Needless to say, I can sit all day and watch Chris ejaculate (in spite of the fact that I'm straight)... Such poetry in motion. Such elegance, such style. No less than total, divine inspiration went into filming that sequence - plus a solid amount of Zen philosophy. Even Barbra Streisand could not get any more spiritual than this.<br /><br />2. Ellen's hairy, thick arms. The wobbly-camera close-ups, so skillfully photographed by our two directors of photography (I can't emphasize this enough), Ellen and Patrick, often caused confusion regarding the proper identification of the sex in question. There were several scenes when we would see a part of a body (a leg, arm or foot), yet it was often a guessing game: does that body-part belong to a man or a woman? Naturally, Chris and his fellow artists, Ellen, Patrick and whatsername, cast themselves on purpose, because their bodies were ideal for creating this gender-based confusion. It was at times hard to guess whether one is seeing a female or male leg. Patrick is so very thin and effeminate in his movements, so hairless and pristine, whereas Ellen and the other girl are so very butch, what with their thick legs and arms. Brilliant. <br /><br />3. Brilliant - especially the way that neatly ties in with the theme of role reversal between the sexes: so utterly original and mind-blowing. Ellen behaves like a man, wants sex all the time, while her ex Patrick wants to talk - like a girl. Spiffing.<br /><br />4. Ellen's search for a Leftist mate. \"He must love 'The Simpsons', which is quite Leftist.\" I am glad that the makers of this movie decided to break the long tradition of offering us intelligent Leftists. Ellen is such a refreshing - and realistic - change. The number of \"likes\" that she and her liberal friends manage to utter in less than 80 minutes is truly phenomenal (3,849, to be exact). They have managed to realistically transfer their real-life ineptness onto the big screen with a minimum of effort, and I applaud them for that.<br /><br />5. The close-ups of toes. Plenty of stuff here for foot-fetishists, which I think is a very liberal, highly commendable way of reaching out to sexual minorities. After all, shoe- and foot- fetishists are offered so little in modern cinema, so it's nice to see that someone out there CARES.<br /><br />KOTM, or rather, KLOTLMAS, offers more than meets the eye. It is not just a modest little film about shallow people engaging in hollow relationships while indulging in meaningless conversations. No, it's much more than that. It's about the light that guides all silly creatures; the guiding light that dominates the futile lives of various pseudo-artistic wannabes who just dropped out of film school, and plan to assault our senses with dim-witted drivel that will hopefully play well at pretentious festivals like Sundance and Cannes, enabling them to gain the necessary exposure hence some real cash for a change, with which they will later hire the likes of Sean Penn and George Clooney in promoting the saving of this planet and the resolving of ALL political problems this world faces. What better way to do that than by making porn at the very start? <br /><br />If Chris and Ellen did the camera here, as is clearly stated in the end-credits, then who held the camera while the two of them were in front of it? They probably hired some passers-by and shoved the camera into their hands...<br /><br />Go to http://rateyourmusic.com/~Fedor8, and check out my \"TV & Cinema: 150 Worst Cases Of Nepotism\" list.\n",
      "\n",
      "2º lugar: 0.7602683492573079\n",
      "I thoroughly enjoyed A Man Called Horse when it was released in 1970, but Return played like a typical sequel. Everything about it -- budget, script, plot, casting, and acting -- was inferior to the original. Gale Sondergaard as Elk Woman, an elder of the Yellow Hand tribe, looks nothing like an Indian, and neither do half of the other \"Indians,\" who were played by Italians, Mexicans, and Latinos with cheap wigs. And the old guy who played the chief acted more like a fat old squaw than a fierce leader of warriors. He even used the bow like a woman! Finally, Richard Harris, who did such a superb job in the original, seems to be coasting this time around. I guess he couldn't resist the easy paycheck he got for reprising his role as Horse.<br /><br />To be fair, there are some interesting moments in the movie, such as Horse's undergoing a painful purification ritual to \"find his vision\" and rally the Yellow Hands against their Indian enemies and white oppressors, but on the whole, Return is uneven, boring, corny, and predictable -- just like most sequels.\n",
      "\n",
      "3º lugar: 0.7667152625920782\n",
      "This is, without doubt, one of the worst films I've ever seen...<br /><br />The plot is so full of holes, the story is like a bad remake of a bad suspense movie and the actors sound like were reading directly from the manuscript for the first time. Worst of all is Steve Guttenberg. He plays his character like he was in \"Police Academy\" - the same foolish womanizer - and that's not suited for a leading man in what should have been a thriller.<br /><br />It's really hard to believe that Hanson would make \"L.A. Confidential\" ten years later...<br /><br />Avoid this like the plague...\n",
      "\n",
      "4º lugar: 0.7782336187136281\n",
      "Few films have left me with such a feeling of unease, and this is not a compliment. Since I saw it in a theater (How it ended there I can only wonder) I was subjected to 90 mn of hateful, derivative garbage, the main impression being a bit like this other sick-o movie \"Don't answer the phone\" - but worse. The nastiness of it all, rape and all, is shown without any distance (unlike strong stuff like \"Last house on the left\") and utter contempt for the (perfect ?) victims and everybody involved, leaving the viewer to be treated as a sadistic voyeur. At the end I felt like taking a shower. No credits to the director\n",
      "\n",
      "5º lugar: 0.7929803321972937\n",
      "This show has an amazing plot with good and recognizable actors (like the girl from Boston Legal and Boris the Butcher from Snatch). Even the extras and the kid, whom i thought from the commercial might be a weak link, surprised me with his skill. It's just the little things that the director needs to tweak. Like the guy who does the recap of the last episode at the beginning of each new episode needs to be fired. Having a narrator tell you what happened kind of ruins the story. The only other small problem I had was that sometimes they take too long to do things, but no where near as long as some shows like Prison Break. Anyone know when they will resume the season??\n",
      "\n",
      "6º lugar: 0.8013201464402434\n",
      "Robert Downey Jr. in a 17th century wig and dress was enough to make me shudder, but I couldn't believe a great actor like Sam Neill actually took a part in this movie. The whole thing was unbelievable. I especially like Merivel's \"cure\" for the crazies. They dance...and hey presto! everyone's happy and they're all better! I guess I just didn't like the character Merivel too much. Therefore, watching a whole movie about his supposed transition from a whoring buffoon into a great physician was grueling. <br /><br />Also, I'm not entirely sure, but I didn't think the plague as well as the famous fire of London took place simultaneously.\n",
      "\n",
      "7º lugar: 0.8126828376836612\n",
      "This movie was 100% boring, i swear i almost died from boredom at the theater. It wasnt funny and didnt really hve that much action in it either, it was BORING and i hope whoever out there that liked this movie, god be with you in the future when you find out what this movie was really like and try to jump off a bridge or something like that\n",
      "\n",
      "8º lugar: 0.8143046618229481\n",
      "I found this to be a profoundly amusing dark comedy. Brosnan is genius; as anyone will now testify, he is not to be pigeonholed in the bond role. Kinnear was as charismatic and as funny as anyone could have been in the role. I don't know if I've laughed as hard during any movie! What an unexpected pleasure! My favourite line would be 'I feel like a bangkok hooker on a Sunday after the navy left town'. Brosnan delivered this very un-bond line with such unexpected comedic finesse. I was also very impressed with Hope Davis's performance. It seems like everyone in this movie branched out from their previous work to such a degree that it actually improved the comedy. If you liked the dark and hilarious 'The Weather Man', you will definitely like this. <br /><br />I voted 10.\n",
      "\n",
      "9º lugar: 0.823223304703363\n",
      "Sorry - this movie is just a cheap TV-Production. I saw very much promotion Material and expect a professionell Movie like \"Stormriders\" - what i was presented was a Low-Budget-Movie like \"XENA\" or \"Hercules\" on TV. No Atmosphere, very boring, more then worse Fight-Scenes. Some good ideas - not more. I hope i will get the Chance to make a movie like this and then i show how to do such a movie!!!<br /><br />My ASIAN-Tips: \"MUSA - THE WARRIOR\", \"STORMRIDERS\", \"SHAOLIN SOCCER\", \"BATTLE ROYAL\", \"VERSUS\", etc.<br /><br />Sorry for my bad English!\n",
      "\n",
      "10º lugar: 0.8259223440443022\n",
      "Reba is a very dumb show. You can predict pretty much anything that's about to happen. Barbra Jean is just too stupid. It's like she's not even a character. A show like this should at least have SOMEONE who resembles a real-life person. I guess Barbra Jean represents a retarded person. Keira or whatever her name is, Reba, Brock, they're all stupid! Keira is like the smartest person on the show, and she's still stupid. EVERYONE IS STUPID! That's my opinion on Reba. Since I have said all I can say about this show, I'll just take up the next few lines of text by saying what I am currently saying right now and do it until there's 10 lines. There. Reba gets 2/10.\n",
      "\n"
     ]
    }
   ],
   "source": [
    "for i in range(len(sort)):\n",
    "    print(str(i+1) + 'º lugar: ' + str(sort[i]))\n",
    "    print(reviews[argsort[i]] + '\\n')"
   ]
  }
 ],
 "metadata": {
  "kernelspec": {
   "display_name": "Python 3",
   "language": "python",
   "name": "python3"
  },
  "language_info": {
   "codemirror_mode": {
    "name": "ipython",
    "version": 3
   },
   "file_extension": ".py",
   "mimetype": "text/x-python",
   "name": "python",
   "nbconvert_exporter": "python",
   "pygments_lexer": "ipython3",
   "version": "3.7.3"
  }
 },
 "nbformat": 4,
 "nbformat_minor": 2
}
