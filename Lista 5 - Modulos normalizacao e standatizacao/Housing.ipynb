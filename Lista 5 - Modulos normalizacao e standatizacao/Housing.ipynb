{
 "cells": [
  {
   "cell_type": "markdown",
   "metadata": {},
   "source": [
    "# Housing\n",
    "\n",
    "Usando o Boston House Price Dataset que possui os atributos:\n",
    "\n",
    "    1.  CRIM     Taxa de criminalidade per capta por cidade\n",
    "    2.  ZN       Proporção de terrenos residenciais destinados a lotes com mais de 25.000 pés quadrados\n",
    "    3.  INDUS    Pproporção de acres de negócios não varejistas por cidade\n",
    "    4.  CHAS     Variável fictícia de Charles River (Se o setor contiver rio = 1; Caso contrário = 0)\n",
    "    5.  NOX      Concentração de óxidos nítricos (10 milhões)\n",
    "    6.  RM       Número médio de quartos por habitação\n",
    "    7.  AGE      Proporção de unidades ocupadas pelo proprietário construídas antes de 1940\n",
    "    8.  DIS      Distâncias ponderadas para cinco centros de emprego de Boston\n",
    "    9.  RAD      Índice de acessibilidade a rodovias radiais\n",
    "    10. TAX      Taxa de imposto predial de valor integral por US \\$ 10.000\n",
    "    11. PTRATIO  Relação aluno-professor por cidade\n",
    "    12. B        1000 (Bk - 0,63) ^ 2 onde Bk é a proporção de negros por cidade\n",
    "    13. LSTAT    % menor estado da população\n",
    "    14. MEDV     Valor mediano de residências ocupadas pelo proprietário em US $ 1000"
   ]
  },
  {
   "cell_type": "code",
   "execution_count": 1,
   "metadata": {},
   "outputs": [],
   "source": [
    "%matplotlib inline\n",
    "import pandas as pd\n",
    "import numpy as np\n",
    "import matplotlib as plt\n",
    "from importlib import reload\n",
    "from sklearn.preprocessing import Normalizer"
   ]
  },
  {
   "cell_type": "markdown",
   "metadata": {},
   "source": [
    "# Normal:"
   ]
  },
  {
   "cell_type": "markdown",
   "metadata": {},
   "source": [
    "### Analisando e separando os dados (70% treino e 30% teste):"
   ]
  },
  {
   "cell_type": "markdown",
   "metadata": {},
   "source": [
    "###### Organizando o dataset:\n",
    "Os dados estão separados por um ou mais espaços e existe um espaço na primeira posição de cada linha, precisamos deixá los uniformes para conseguirmos manipular como queremos!"
   ]
  },
  {
   "cell_type": "code",
   "execution_count": 2,
   "metadata": {},
   "outputs": [],
   "source": [
    "arq = open('../Datasets/housing.csv', 'r')\n",
    "content = arq.readlines()\n",
    "arq = open('../Datasets/housing_edited.csv', 'w')\n",
    "for line in content:\n",
    "    line = line[1:].replace('   ', ' ')\n",
    "    line = line[1:].replace('  ', ' ')\n",
    "    arq.writelines(line)\n",
    "arq.close()"
   ]
  },
  {
   "cell_type": "code",
   "execution_count": 3,
   "metadata": {},
   "outputs": [
    {
     "data": {
      "text/html": [
       "<div>\n",
       "<style scoped>\n",
       "    .dataframe tbody tr th:only-of-type {\n",
       "        vertical-align: middle;\n",
       "    }\n",
       "\n",
       "    .dataframe tbody tr th {\n",
       "        vertical-align: top;\n",
       "    }\n",
       "\n",
       "    .dataframe thead th {\n",
       "        text-align: right;\n",
       "    }\n",
       "</style>\n",
       "<table border=\"1\" class=\"dataframe\">\n",
       "  <thead>\n",
       "    <tr style=\"text-align: right;\">\n",
       "      <th></th>\n",
       "      <th>CRIM</th>\n",
       "      <th>ZN</th>\n",
       "      <th>INDUS</th>\n",
       "      <th>CHAS</th>\n",
       "      <th>NOX</th>\n",
       "      <th>RM</th>\n",
       "      <th>AGE</th>\n",
       "      <th>DIS</th>\n",
       "      <th>RAD</th>\n",
       "      <th>TAX</th>\n",
       "      <th>PTRATIO</th>\n",
       "      <th>B</th>\n",
       "      <th>LSTAT</th>\n",
       "      <th>MEDV</th>\n",
       "    </tr>\n",
       "  </thead>\n",
       "  <tbody>\n",
       "    <tr>\n",
       "      <th>0</th>\n",
       "      <td>0.00632</td>\n",
       "      <td>18.0</td>\n",
       "      <td>2.31</td>\n",
       "      <td>0</td>\n",
       "      <td>0.538</td>\n",
       "      <td>6.575</td>\n",
       "      <td>65.2</td>\n",
       "      <td>4.0900</td>\n",
       "      <td>1</td>\n",
       "      <td>296.0</td>\n",
       "      <td>15.3</td>\n",
       "      <td>396.90</td>\n",
       "      <td>4.98</td>\n",
       "      <td>24.0</td>\n",
       "    </tr>\n",
       "    <tr>\n",
       "      <th>1</th>\n",
       "      <td>0.02731</td>\n",
       "      <td>0.0</td>\n",
       "      <td>7.07</td>\n",
       "      <td>0</td>\n",
       "      <td>0.469</td>\n",
       "      <td>6.421</td>\n",
       "      <td>78.9</td>\n",
       "      <td>4.9671</td>\n",
       "      <td>2</td>\n",
       "      <td>242.0</td>\n",
       "      <td>17.8</td>\n",
       "      <td>396.90</td>\n",
       "      <td>9.14</td>\n",
       "      <td>21.6</td>\n",
       "    </tr>\n",
       "    <tr>\n",
       "      <th>2</th>\n",
       "      <td>0.02729</td>\n",
       "      <td>0.0</td>\n",
       "      <td>7.07</td>\n",
       "      <td>0</td>\n",
       "      <td>0.469</td>\n",
       "      <td>7.185</td>\n",
       "      <td>61.1</td>\n",
       "      <td>4.9671</td>\n",
       "      <td>2</td>\n",
       "      <td>242.0</td>\n",
       "      <td>17.8</td>\n",
       "      <td>392.83</td>\n",
       "      <td>4.03</td>\n",
       "      <td>34.7</td>\n",
       "    </tr>\n",
       "    <tr>\n",
       "      <th>3</th>\n",
       "      <td>0.03237</td>\n",
       "      <td>0.0</td>\n",
       "      <td>2.18</td>\n",
       "      <td>0</td>\n",
       "      <td>0.458</td>\n",
       "      <td>6.998</td>\n",
       "      <td>45.8</td>\n",
       "      <td>6.0622</td>\n",
       "      <td>3</td>\n",
       "      <td>222.0</td>\n",
       "      <td>18.7</td>\n",
       "      <td>394.63</td>\n",
       "      <td>2.94</td>\n",
       "      <td>33.4</td>\n",
       "    </tr>\n",
       "    <tr>\n",
       "      <th>4</th>\n",
       "      <td>0.06905</td>\n",
       "      <td>0.0</td>\n",
       "      <td>2.18</td>\n",
       "      <td>0</td>\n",
       "      <td>0.458</td>\n",
       "      <td>7.147</td>\n",
       "      <td>54.2</td>\n",
       "      <td>6.0622</td>\n",
       "      <td>3</td>\n",
       "      <td>222.0</td>\n",
       "      <td>18.7</td>\n",
       "      <td>396.90</td>\n",
       "      <td>5.33</td>\n",
       "      <td>36.2</td>\n",
       "    </tr>\n",
       "  </tbody>\n",
       "</table>\n",
       "</div>"
      ],
      "text/plain": [
       "      CRIM    ZN  INDUS  CHAS    NOX     RM   AGE     DIS  RAD    TAX  \\\n",
       "0  0.00632  18.0   2.31     0  0.538  6.575  65.2  4.0900    1  296.0   \n",
       "1  0.02731   0.0   7.07     0  0.469  6.421  78.9  4.9671    2  242.0   \n",
       "2  0.02729   0.0   7.07     0  0.469  7.185  61.1  4.9671    2  242.0   \n",
       "3  0.03237   0.0   2.18     0  0.458  6.998  45.8  6.0622    3  222.0   \n",
       "4  0.06905   0.0   2.18     0  0.458  7.147  54.2  6.0622    3  222.0   \n",
       "\n",
       "   PTRATIO       B  LSTAT  MEDV  \n",
       "0     15.3  396.90   4.98  24.0  \n",
       "1     17.8  396.90   9.14  21.6  \n",
       "2     17.8  392.83   4.03  34.7  \n",
       "3     18.7  394.63   2.94  33.4  \n",
       "4     18.7  396.90   5.33  36.2  "
      ]
     },
     "execution_count": 3,
     "metadata": {},
     "output_type": "execute_result"
    }
   ],
   "source": [
    "cols = ['CRIM', 'ZN', 'INDUS', 'CHAS', 'NOX', 'RM', 'AGE', 'DIS', 'RAD', 'TAX', 'PTRATIO', 'B', 'LSTAT', 'MEDV']\n",
    "dataset = pd.read_csv('../Datasets/housing_edited.csv',sep = ' ', names = cols) # use /s+ no sep para não precisar fazer o script\n",
    "dataset.head()"
   ]
  },
  {
   "cell_type": "markdown",
   "metadata": {},
   "source": [
    "###### Detalhes sobre o dataset:"
   ]
  },
  {
   "cell_type": "code",
   "execution_count": 4,
   "metadata": {},
   "outputs": [
    {
     "name": "stdout",
     "output_type": "stream",
     "text": [
      "<class 'pandas.core.frame.DataFrame'>\n",
      "RangeIndex: 506 entries, 0 to 505\n",
      "Data columns (total 14 columns):\n",
      " #   Column   Non-Null Count  Dtype  \n",
      "---  ------   --------------  -----  \n",
      " 0   CRIM     506 non-null    float64\n",
      " 1   ZN       506 non-null    float64\n",
      " 2   INDUS    506 non-null    float64\n",
      " 3   CHAS     506 non-null    int64  \n",
      " 4   NOX      506 non-null    float64\n",
      " 5   RM       506 non-null    float64\n",
      " 6   AGE      506 non-null    float64\n",
      " 7   DIS      506 non-null    float64\n",
      " 8   RAD      506 non-null    int64  \n",
      " 9   TAX      506 non-null    float64\n",
      " 10  PTRATIO  506 non-null    float64\n",
      " 11  B        506 non-null    float64\n",
      " 12  LSTAT    506 non-null    float64\n",
      " 13  MEDV     506 non-null    float64\n",
      "dtypes: float64(12), int64(2)\n",
      "memory usage: 55.5 KB\n"
     ]
    }
   ],
   "source": [
    "dataset.info()"
   ]
  },
  {
   "cell_type": "code",
   "execution_count": 5,
   "metadata": {},
   "outputs": [
    {
     "data": {
      "text/html": [
       "<div>\n",
       "<style scoped>\n",
       "    .dataframe tbody tr th:only-of-type {\n",
       "        vertical-align: middle;\n",
       "    }\n",
       "\n",
       "    .dataframe tbody tr th {\n",
       "        vertical-align: top;\n",
       "    }\n",
       "\n",
       "    .dataframe thead th {\n",
       "        text-align: right;\n",
       "    }\n",
       "</style>\n",
       "<table border=\"1\" class=\"dataframe\">\n",
       "  <thead>\n",
       "    <tr style=\"text-align: right;\">\n",
       "      <th></th>\n",
       "      <th>CRIM</th>\n",
       "      <th>ZN</th>\n",
       "      <th>INDUS</th>\n",
       "      <th>CHAS</th>\n",
       "      <th>NOX</th>\n",
       "      <th>RM</th>\n",
       "      <th>AGE</th>\n",
       "      <th>DIS</th>\n",
       "      <th>RAD</th>\n",
       "      <th>TAX</th>\n",
       "      <th>PTRATIO</th>\n",
       "      <th>B</th>\n",
       "      <th>LSTAT</th>\n",
       "      <th>MEDV</th>\n",
       "    </tr>\n",
       "  </thead>\n",
       "  <tbody>\n",
       "    <tr>\n",
       "      <th>count</th>\n",
       "      <td>506.000000</td>\n",
       "      <td>506.000000</td>\n",
       "      <td>506.000000</td>\n",
       "      <td>506.000000</td>\n",
       "      <td>506.000000</td>\n",
       "      <td>506.000000</td>\n",
       "      <td>506.000000</td>\n",
       "      <td>506.000000</td>\n",
       "      <td>506.000000</td>\n",
       "      <td>506.000000</td>\n",
       "      <td>506.000000</td>\n",
       "      <td>506.000000</td>\n",
       "      <td>506.000000</td>\n",
       "      <td>506.000000</td>\n",
       "    </tr>\n",
       "    <tr>\n",
       "      <th>mean</th>\n",
       "      <td>0.297318</td>\n",
       "      <td>11.363636</td>\n",
       "      <td>11.136779</td>\n",
       "      <td>0.069170</td>\n",
       "      <td>0.554695</td>\n",
       "      <td>6.284634</td>\n",
       "      <td>68.574901</td>\n",
       "      <td>3.795043</td>\n",
       "      <td>9.549407</td>\n",
       "      <td>408.237154</td>\n",
       "      <td>18.455534</td>\n",
       "      <td>356.674032</td>\n",
       "      <td>12.653063</td>\n",
       "      <td>22.532806</td>\n",
       "    </tr>\n",
       "    <tr>\n",
       "      <th>std</th>\n",
       "      <td>0.275413</td>\n",
       "      <td>23.322453</td>\n",
       "      <td>6.860353</td>\n",
       "      <td>0.253994</td>\n",
       "      <td>0.115878</td>\n",
       "      <td>0.702617</td>\n",
       "      <td>28.148861</td>\n",
       "      <td>2.105710</td>\n",
       "      <td>8.707259</td>\n",
       "      <td>168.537116</td>\n",
       "      <td>2.164946</td>\n",
       "      <td>91.294864</td>\n",
       "      <td>7.141062</td>\n",
       "      <td>9.197104</td>\n",
       "    </tr>\n",
       "    <tr>\n",
       "      <th>min</th>\n",
       "      <td>0.002450</td>\n",
       "      <td>0.000000</td>\n",
       "      <td>0.460000</td>\n",
       "      <td>0.000000</td>\n",
       "      <td>0.385000</td>\n",
       "      <td>3.561000</td>\n",
       "      <td>2.900000</td>\n",
       "      <td>1.129600</td>\n",
       "      <td>1.000000</td>\n",
       "      <td>187.000000</td>\n",
       "      <td>12.600000</td>\n",
       "      <td>0.320000</td>\n",
       "      <td>1.730000</td>\n",
       "      <td>5.000000</td>\n",
       "    </tr>\n",
       "    <tr>\n",
       "      <th>25%</th>\n",
       "      <td>0.070153</td>\n",
       "      <td>0.000000</td>\n",
       "      <td>5.190000</td>\n",
       "      <td>0.000000</td>\n",
       "      <td>0.449000</td>\n",
       "      <td>5.885500</td>\n",
       "      <td>45.025000</td>\n",
       "      <td>2.100175</td>\n",
       "      <td>4.000000</td>\n",
       "      <td>279.000000</td>\n",
       "      <td>17.400000</td>\n",
       "      <td>375.377500</td>\n",
       "      <td>6.950000</td>\n",
       "      <td>17.025000</td>\n",
       "    </tr>\n",
       "    <tr>\n",
       "      <th>50%</th>\n",
       "      <td>0.182480</td>\n",
       "      <td>0.000000</td>\n",
       "      <td>9.690000</td>\n",
       "      <td>0.000000</td>\n",
       "      <td>0.538000</td>\n",
       "      <td>6.208500</td>\n",
       "      <td>77.500000</td>\n",
       "      <td>3.207450</td>\n",
       "      <td>5.000000</td>\n",
       "      <td>330.000000</td>\n",
       "      <td>19.050000</td>\n",
       "      <td>391.440000</td>\n",
       "      <td>11.360000</td>\n",
       "      <td>21.200000</td>\n",
       "    </tr>\n",
       "    <tr>\n",
       "      <th>75%</th>\n",
       "      <td>0.495485</td>\n",
       "      <td>12.500000</td>\n",
       "      <td>18.100000</td>\n",
       "      <td>0.000000</td>\n",
       "      <td>0.624000</td>\n",
       "      <td>6.623500</td>\n",
       "      <td>94.075000</td>\n",
       "      <td>5.188425</td>\n",
       "      <td>24.000000</td>\n",
       "      <td>666.000000</td>\n",
       "      <td>20.200000</td>\n",
       "      <td>396.225000</td>\n",
       "      <td>16.955000</td>\n",
       "      <td>25.000000</td>\n",
       "    </tr>\n",
       "    <tr>\n",
       "      <th>max</th>\n",
       "      <td>0.992480</td>\n",
       "      <td>100.000000</td>\n",
       "      <td>27.740000</td>\n",
       "      <td>1.000000</td>\n",
       "      <td>0.871000</td>\n",
       "      <td>8.780000</td>\n",
       "      <td>100.000000</td>\n",
       "      <td>12.126500</td>\n",
       "      <td>24.000000</td>\n",
       "      <td>711.000000</td>\n",
       "      <td>22.000000</td>\n",
       "      <td>396.900000</td>\n",
       "      <td>37.970000</td>\n",
       "      <td>50.000000</td>\n",
       "    </tr>\n",
       "  </tbody>\n",
       "</table>\n",
       "</div>"
      ],
      "text/plain": [
       "             CRIM          ZN       INDUS        CHAS         NOX          RM  \\\n",
       "count  506.000000  506.000000  506.000000  506.000000  506.000000  506.000000   \n",
       "mean     0.297318   11.363636   11.136779    0.069170    0.554695    6.284634   \n",
       "std      0.275413   23.322453    6.860353    0.253994    0.115878    0.702617   \n",
       "min      0.002450    0.000000    0.460000    0.000000    0.385000    3.561000   \n",
       "25%      0.070153    0.000000    5.190000    0.000000    0.449000    5.885500   \n",
       "50%      0.182480    0.000000    9.690000    0.000000    0.538000    6.208500   \n",
       "75%      0.495485   12.500000   18.100000    0.000000    0.624000    6.623500   \n",
       "max      0.992480  100.000000   27.740000    1.000000    0.871000    8.780000   \n",
       "\n",
       "              AGE         DIS         RAD         TAX     PTRATIO           B  \\\n",
       "count  506.000000  506.000000  506.000000  506.000000  506.000000  506.000000   \n",
       "mean    68.574901    3.795043    9.549407  408.237154   18.455534  356.674032   \n",
       "std     28.148861    2.105710    8.707259  168.537116    2.164946   91.294864   \n",
       "min      2.900000    1.129600    1.000000  187.000000   12.600000    0.320000   \n",
       "25%     45.025000    2.100175    4.000000  279.000000   17.400000  375.377500   \n",
       "50%     77.500000    3.207450    5.000000  330.000000   19.050000  391.440000   \n",
       "75%     94.075000    5.188425   24.000000  666.000000   20.200000  396.225000   \n",
       "max    100.000000   12.126500   24.000000  711.000000   22.000000  396.900000   \n",
       "\n",
       "            LSTAT        MEDV  \n",
       "count  506.000000  506.000000  \n",
       "mean    12.653063   22.532806  \n",
       "std      7.141062    9.197104  \n",
       "min      1.730000    5.000000  \n",
       "25%      6.950000   17.025000  \n",
       "50%     11.360000   21.200000  \n",
       "75%     16.955000   25.000000  \n",
       "max     37.970000   50.000000  "
      ]
     },
     "execution_count": 5,
     "metadata": {},
     "output_type": "execute_result"
    }
   ],
   "source": [
    "dataset.describe()"
   ]
  },
  {
   "cell_type": "code",
   "execution_count": 6,
   "metadata": {},
   "outputs": [
    {
     "data": {
      "text/html": [
       "<style  type=\"text/css\" >\n",
       "    #T_3a8d9134_7ac0_11ea_bbaa_71228d5ab6b3row0_col0 {\n",
       "            background-color:  #fde725;\n",
       "            color:  #000000;\n",
       "        }    #T_3a8d9134_7ac0_11ea_bbaa_71228d5ab6b3row0_col1 {\n",
       "            background-color:  #472a7a;\n",
       "            color:  #f1f1f1;\n",
       "        }    #T_3a8d9134_7ac0_11ea_bbaa_71228d5ab6b3row0_col2 {\n",
       "            background-color:  #40bd72;\n",
       "            color:  #000000;\n",
       "        }    #T_3a8d9134_7ac0_11ea_bbaa_71228d5ab6b3row0_col3 {\n",
       "            background-color:  #46327e;\n",
       "            color:  #f1f1f1;\n",
       "        }    #T_3a8d9134_7ac0_11ea_bbaa_71228d5ab6b3row0_col4 {\n",
       "            background-color:  #65cb5e;\n",
       "            color:  #000000;\n",
       "        }    #T_3a8d9134_7ac0_11ea_bbaa_71228d5ab6b3row0_col5 {\n",
       "            background-color:  #365d8d;\n",
       "            color:  #f1f1f1;\n",
       "        }    #T_3a8d9134_7ac0_11ea_bbaa_71228d5ab6b3row0_col6 {\n",
       "            background-color:  #4ac16d;\n",
       "            color:  #000000;\n",
       "        }    #T_3a8d9134_7ac0_11ea_bbaa_71228d5ab6b3row0_col7 {\n",
       "            background-color:  #453581;\n",
       "            color:  #f1f1f1;\n",
       "        }    #T_3a8d9134_7ac0_11ea_bbaa_71228d5ab6b3row0_col8 {\n",
       "            background-color:  #3dbc74;\n",
       "            color:  #000000;\n",
       "        }    #T_3a8d9134_7ac0_11ea_bbaa_71228d5ab6b3row0_col9 {\n",
       "            background-color:  #3bbb75;\n",
       "            color:  #000000;\n",
       "        }    #T_3a8d9134_7ac0_11ea_bbaa_71228d5ab6b3row0_col10 {\n",
       "            background-color:  #21918c;\n",
       "            color:  #000000;\n",
       "        }    #T_3a8d9134_7ac0_11ea_bbaa_71228d5ab6b3row0_col11 {\n",
       "            background-color:  #472c7a;\n",
       "            color:  #f1f1f1;\n",
       "        }    #T_3a8d9134_7ac0_11ea_bbaa_71228d5ab6b3row0_col12 {\n",
       "            background-color:  #2cb17e;\n",
       "            color:  #000000;\n",
       "        }    #T_3a8d9134_7ac0_11ea_bbaa_71228d5ab6b3row0_col13 {\n",
       "            background-color:  #375b8d;\n",
       "            color:  #f1f1f1;\n",
       "        }    #T_3a8d9134_7ac0_11ea_bbaa_71228d5ab6b3row1_col0 {\n",
       "            background-color:  #481c6e;\n",
       "            color:  #f1f1f1;\n",
       "        }    #T_3a8d9134_7ac0_11ea_bbaa_71228d5ab6b3row1_col1 {\n",
       "            background-color:  #fde725;\n",
       "            color:  #000000;\n",
       "        }    #T_3a8d9134_7ac0_11ea_bbaa_71228d5ab6b3row1_col2 {\n",
       "            background-color:  #482576;\n",
       "            color:  #f1f1f1;\n",
       "        }    #T_3a8d9134_7ac0_11ea_bbaa_71228d5ab6b3row1_col3 {\n",
       "            background-color:  #481a6c;\n",
       "            color:  #f1f1f1;\n",
       "        }    #T_3a8d9134_7ac0_11ea_bbaa_71228d5ab6b3row1_col4 {\n",
       "            background-color:  #46327e;\n",
       "            color:  #f1f1f1;\n",
       "        }    #T_3a8d9134_7ac0_11ea_bbaa_71228d5ab6b3row1_col5 {\n",
       "            background-color:  #1fa187;\n",
       "            color:  #000000;\n",
       "        }    #T_3a8d9134_7ac0_11ea_bbaa_71228d5ab6b3row1_col6 {\n",
       "            background-color:  #482576;\n",
       "            color:  #f1f1f1;\n",
       "        }    #T_3a8d9134_7ac0_11ea_bbaa_71228d5ab6b3row1_col7 {\n",
       "            background-color:  #81d34d;\n",
       "            color:  #000000;\n",
       "        }    #T_3a8d9134_7ac0_11ea_bbaa_71228d5ab6b3row1_col8 {\n",
       "            background-color:  #472c7a;\n",
       "            color:  #f1f1f1;\n",
       "        }    #T_3a8d9134_7ac0_11ea_bbaa_71228d5ab6b3row1_col9 {\n",
       "            background-color:  #46327e;\n",
       "            color:  #f1f1f1;\n",
       "        }    #T_3a8d9134_7ac0_11ea_bbaa_71228d5ab6b3row1_col10 {\n",
       "            background-color:  #481c6e;\n",
       "            color:  #f1f1f1;\n",
       "        }    #T_3a8d9134_7ac0_11ea_bbaa_71228d5ab6b3row1_col11 {\n",
       "            background-color:  #277f8e;\n",
       "            color:  #000000;\n",
       "        }    #T_3a8d9134_7ac0_11ea_bbaa_71228d5ab6b3row1_col12 {\n",
       "            background-color:  #423f85;\n",
       "            color:  #f1f1f1;\n",
       "        }    #T_3a8d9134_7ac0_11ea_bbaa_71228d5ab6b3row1_col13 {\n",
       "            background-color:  #29af7f;\n",
       "            color:  #000000;\n",
       "        }    #T_3a8d9134_7ac0_11ea_bbaa_71228d5ab6b3row2_col0 {\n",
       "            background-color:  #2fb47c;\n",
       "            color:  #000000;\n",
       "        }    #T_3a8d9134_7ac0_11ea_bbaa_71228d5ab6b3row2_col1 {\n",
       "            background-color:  #46085c;\n",
       "            color:  #f1f1f1;\n",
       "        }    #T_3a8d9134_7ac0_11ea_bbaa_71228d5ab6b3row2_col2 {\n",
       "            background-color:  #fde725;\n",
       "            color:  #000000;\n",
       "        }    #T_3a8d9134_7ac0_11ea_bbaa_71228d5ab6b3row2_col3 {\n",
       "            background-color:  #443983;\n",
       "            color:  #f1f1f1;\n",
       "        }    #T_3a8d9134_7ac0_11ea_bbaa_71228d5ab6b3row2_col4 {\n",
       "            background-color:  #a5db36;\n",
       "            color:  #000000;\n",
       "        }    #T_3a8d9134_7ac0_11ea_bbaa_71228d5ab6b3row2_col5 {\n",
       "            background-color:  #46307e;\n",
       "            color:  #f1f1f1;\n",
       "        }    #T_3a8d9134_7ac0_11ea_bbaa_71228d5ab6b3row2_col6 {\n",
       "            background-color:  #77d153;\n",
       "            color:  #000000;\n",
       "        }    #T_3a8d9134_7ac0_11ea_bbaa_71228d5ab6b3row2_col7 {\n",
       "            background-color:  #470d60;\n",
       "            color:  #f1f1f1;\n",
       "        }    #T_3a8d9134_7ac0_11ea_bbaa_71228d5ab6b3row2_col8 {\n",
       "            background-color:  #52c569;\n",
       "            color:  #000000;\n",
       "        }    #T_3a8d9134_7ac0_11ea_bbaa_71228d5ab6b3row2_col9 {\n",
       "            background-color:  #86d549;\n",
       "            color:  #000000;\n",
       "        }    #T_3a8d9134_7ac0_11ea_bbaa_71228d5ab6b3row2_col10 {\n",
       "            background-color:  #21a685;\n",
       "            color:  #000000;\n",
       "        }    #T_3a8d9134_7ac0_11ea_bbaa_71228d5ab6b3row2_col11 {\n",
       "            background-color:  #481769;\n",
       "            color:  #f1f1f1;\n",
       "        }    #T_3a8d9134_7ac0_11ea_bbaa_71228d5ab6b3row2_col12 {\n",
       "            background-color:  #69cd5b;\n",
       "            color:  #000000;\n",
       "        }    #T_3a8d9134_7ac0_11ea_bbaa_71228d5ab6b3row2_col13 {\n",
       "            background-color:  #46337f;\n",
       "            color:  #f1f1f1;\n",
       "        }    #T_3a8d9134_7ac0_11ea_bbaa_71228d5ab6b3row3_col0 {\n",
       "            background-color:  #2e6e8e;\n",
       "            color:  #f1f1f1;\n",
       "        }    #T_3a8d9134_7ac0_11ea_bbaa_71228d5ab6b3row3_col1 {\n",
       "            background-color:  #31688e;\n",
       "            color:  #f1f1f1;\n",
       "        }    #T_3a8d9134_7ac0_11ea_bbaa_71228d5ab6b3row3_col2 {\n",
       "            background-color:  #25848e;\n",
       "            color:  #000000;\n",
       "        }    #T_3a8d9134_7ac0_11ea_bbaa_71228d5ab6b3row3_col3 {\n",
       "            background-color:  #fde725;\n",
       "            color:  #000000;\n",
       "        }    #T_3a8d9134_7ac0_11ea_bbaa_71228d5ab6b3row3_col4 {\n",
       "            background-color:  #228d8d;\n",
       "            color:  #000000;\n",
       "        }    #T_3a8d9134_7ac0_11ea_bbaa_71228d5ab6b3row3_col5 {\n",
       "            background-color:  #26818e;\n",
       "            color:  #000000;\n",
       "        }    #T_3a8d9134_7ac0_11ea_bbaa_71228d5ab6b3row3_col6 {\n",
       "            background-color:  #228b8d;\n",
       "            color:  #000000;\n",
       "        }    #T_3a8d9134_7ac0_11ea_bbaa_71228d5ab6b3row3_col7 {\n",
       "            background-color:  #2c728e;\n",
       "            color:  #f1f1f1;\n",
       "        }    #T_3a8d9134_7ac0_11ea_bbaa_71228d5ab6b3row3_col8 {\n",
       "            background-color:  #31668e;\n",
       "            color:  #f1f1f1;\n",
       "        }    #T_3a8d9134_7ac0_11ea_bbaa_71228d5ab6b3row3_col9 {\n",
       "            background-color:  #31668e;\n",
       "            color:  #f1f1f1;\n",
       "        }    #T_3a8d9134_7ac0_11ea_bbaa_71228d5ab6b3row3_col10 {\n",
       "            background-color:  #3a538b;\n",
       "            color:  #f1f1f1;\n",
       "        }    #T_3a8d9134_7ac0_11ea_bbaa_71228d5ab6b3row3_col11 {\n",
       "            background-color:  #306a8e;\n",
       "            color:  #f1f1f1;\n",
       "        }    #T_3a8d9134_7ac0_11ea_bbaa_71228d5ab6b3row3_col12 {\n",
       "            background-color:  #2a768e;\n",
       "            color:  #f1f1f1;\n",
       "        }    #T_3a8d9134_7ac0_11ea_bbaa_71228d5ab6b3row3_col13 {\n",
       "            background-color:  #1f968b;\n",
       "            color:  #000000;\n",
       "        }    #T_3a8d9134_7ac0_11ea_bbaa_71228d5ab6b3row4_col0 {\n",
       "            background-color:  #4ec36b;\n",
       "            color:  #000000;\n",
       "        }    #T_3a8d9134_7ac0_11ea_bbaa_71228d5ab6b3row4_col1 {\n",
       "            background-color:  #470d60;\n",
       "            color:  #f1f1f1;\n",
       "        }    #T_3a8d9134_7ac0_11ea_bbaa_71228d5ab6b3row4_col2 {\n",
       "            background-color:  #a2da37;\n",
       "            color:  #000000;\n",
       "        }    #T_3a8d9134_7ac0_11ea_bbaa_71228d5ab6b3row4_col3 {\n",
       "            background-color:  #424086;\n",
       "            color:  #f1f1f1;\n",
       "        }    #T_3a8d9134_7ac0_11ea_bbaa_71228d5ab6b3row4_col4 {\n",
       "            background-color:  #fde725;\n",
       "            color:  #000000;\n",
       "        }    #T_3a8d9134_7ac0_11ea_bbaa_71228d5ab6b3row4_col5 {\n",
       "            background-color:  #424186;\n",
       "            color:  #f1f1f1;\n",
       "        }    #T_3a8d9134_7ac0_11ea_bbaa_71228d5ab6b3row4_col6 {\n",
       "            background-color:  #98d83e;\n",
       "            color:  #000000;\n",
       "        }    #T_3a8d9134_7ac0_11ea_bbaa_71228d5ab6b3row4_col7 {\n",
       "            background-color:  #440154;\n",
       "            color:  #f1f1f1;\n",
       "        }    #T_3a8d9134_7ac0_11ea_bbaa_71228d5ab6b3row4_col8 {\n",
       "            background-color:  #58c765;\n",
       "            color:  #000000;\n",
       "        }    #T_3a8d9134_7ac0_11ea_bbaa_71228d5ab6b3row4_col9 {\n",
       "            background-color:  #70cf57;\n",
       "            color:  #000000;\n",
       "        }    #T_3a8d9134_7ac0_11ea_bbaa_71228d5ab6b3row4_col10 {\n",
       "            background-color:  #24878e;\n",
       "            color:  #000000;\n",
       "        }    #T_3a8d9134_7ac0_11ea_bbaa_71228d5ab6b3row4_col11 {\n",
       "            background-color:  #471164;\n",
       "            color:  #f1f1f1;\n",
       "        }    #T_3a8d9134_7ac0_11ea_bbaa_71228d5ab6b3row4_col12 {\n",
       "            background-color:  #65cb5e;\n",
       "            color:  #000000;\n",
       "        }    #T_3a8d9134_7ac0_11ea_bbaa_71228d5ab6b3row4_col13 {\n",
       "            background-color:  #433d84;\n",
       "            color:  #f1f1f1;\n",
       "        }    #T_3a8d9134_7ac0_11ea_bbaa_71228d5ab6b3row5_col0 {\n",
       "            background-color:  #3d4d8a;\n",
       "            color:  #f1f1f1;\n",
       "        }    #T_3a8d9134_7ac0_11ea_bbaa_71228d5ab6b3row5_col1 {\n",
       "            background-color:  #1f9f88;\n",
       "            color:  #000000;\n",
       "        }    #T_3a8d9134_7ac0_11ea_bbaa_71228d5ab6b3row5_col2 {\n",
       "            background-color:  #423f85;\n",
       "            color:  #f1f1f1;\n",
       "        }    #T_3a8d9134_7ac0_11ea_bbaa_71228d5ab6b3row5_col3 {\n",
       "            background-color:  #424086;\n",
       "            color:  #f1f1f1;\n",
       "        }    #T_3a8d9134_7ac0_11ea_bbaa_71228d5ab6b3row5_col4 {\n",
       "            background-color:  #39558c;\n",
       "            color:  #f1f1f1;\n",
       "        }    #T_3a8d9134_7ac0_11ea_bbaa_71228d5ab6b3row5_col5 {\n",
       "            background-color:  #fde725;\n",
       "            color:  #000000;\n",
       "        }    #T_3a8d9134_7ac0_11ea_bbaa_71228d5ab6b3row5_col6 {\n",
       "            background-color:  #365d8d;\n",
       "            color:  #f1f1f1;\n",
       "        }    #T_3a8d9134_7ac0_11ea_bbaa_71228d5ab6b3row5_col7 {\n",
       "            background-color:  #1e9d89;\n",
       "            color:  #000000;\n",
       "        }    #T_3a8d9134_7ac0_11ea_bbaa_71228d5ab6b3row5_col8 {\n",
       "            background-color:  #424086;\n",
       "            color:  #f1f1f1;\n",
       "        }    #T_3a8d9134_7ac0_11ea_bbaa_71228d5ab6b3row5_col9 {\n",
       "            background-color:  #453781;\n",
       "            color:  #f1f1f1;\n",
       "        }    #T_3a8d9134_7ac0_11ea_bbaa_71228d5ab6b3row5_col10 {\n",
       "            background-color:  #482475;\n",
       "            color:  #f1f1f1;\n",
       "        }    #T_3a8d9134_7ac0_11ea_bbaa_71228d5ab6b3row5_col11 {\n",
       "            background-color:  #2a778e;\n",
       "            color:  #000000;\n",
       "        }    #T_3a8d9134_7ac0_11ea_bbaa_71228d5ab6b3row5_col12 {\n",
       "            background-color:  #481b6d;\n",
       "            color:  #f1f1f1;\n",
       "        }    #T_3a8d9134_7ac0_11ea_bbaa_71228d5ab6b3row5_col13 {\n",
       "            background-color:  #8bd646;\n",
       "            color:  #000000;\n",
       "        }    #T_3a8d9134_7ac0_11ea_bbaa_71228d5ab6b3row6_col0 {\n",
       "            background-color:  #35b779;\n",
       "            color:  #000000;\n",
       "        }    #T_3a8d9134_7ac0_11ea_bbaa_71228d5ab6b3row6_col1 {\n",
       "            background-color:  #440154;\n",
       "            color:  #f1f1f1;\n",
       "        }    #T_3a8d9134_7ac0_11ea_bbaa_71228d5ab6b3row6_col2 {\n",
       "            background-color:  #75d054;\n",
       "            color:  #000000;\n",
       "        }    #T_3a8d9134_7ac0_11ea_bbaa_71228d5ab6b3row6_col3 {\n",
       "            background-color:  #423f85;\n",
       "            color:  #f1f1f1;\n",
       "        }    #T_3a8d9134_7ac0_11ea_bbaa_71228d5ab6b3row6_col4 {\n",
       "            background-color:  #9bd93c;\n",
       "            color:  #000000;\n",
       "        }    #T_3a8d9134_7ac0_11ea_bbaa_71228d5ab6b3row6_col5 {\n",
       "            background-color:  #3d4d8a;\n",
       "            color:  #f1f1f1;\n",
       "        }    #T_3a8d9134_7ac0_11ea_bbaa_71228d5ab6b3row6_col6 {\n",
       "            background-color:  #fde725;\n",
       "            color:  #000000;\n",
       "        }    #T_3a8d9134_7ac0_11ea_bbaa_71228d5ab6b3row6_col7 {\n",
       "            background-color:  #450559;\n",
       "            color:  #f1f1f1;\n",
       "        }    #T_3a8d9134_7ac0_11ea_bbaa_71228d5ab6b3row6_col8 {\n",
       "            background-color:  #2ab07f;\n",
       "            color:  #000000;\n",
       "        }    #T_3a8d9134_7ac0_11ea_bbaa_71228d5ab6b3row6_col9 {\n",
       "            background-color:  #3aba76;\n",
       "            color:  #000000;\n",
       "        }    #T_3a8d9134_7ac0_11ea_bbaa_71228d5ab6b3row6_col10 {\n",
       "            background-color:  #20928c;\n",
       "            color:  #000000;\n",
       "        }    #T_3a8d9134_7ac0_11ea_bbaa_71228d5ab6b3row6_col11 {\n",
       "            background-color:  #472a7a;\n",
       "            color:  #f1f1f1;\n",
       "        }    #T_3a8d9134_7ac0_11ea_bbaa_71228d5ab6b3row6_col12 {\n",
       "            background-color:  #69cd5b;\n",
       "            color:  #000000;\n",
       "        }    #T_3a8d9134_7ac0_11ea_bbaa_71228d5ab6b3row6_col13 {\n",
       "            background-color:  #404688;\n",
       "            color:  #f1f1f1;\n",
       "        }    #T_3a8d9134_7ac0_11ea_bbaa_71228d5ab6b3row7_col0 {\n",
       "            background-color:  #440154;\n",
       "            color:  #f1f1f1;\n",
       "        }    #T_3a8d9134_7ac0_11ea_bbaa_71228d5ab6b3row7_col1 {\n",
       "            background-color:  #73d056;\n",
       "            color:  #000000;\n",
       "        }    #T_3a8d9134_7ac0_11ea_bbaa_71228d5ab6b3row7_col2 {\n",
       "            background-color:  #440154;\n",
       "            color:  #f1f1f1;\n",
       "        }    #T_3a8d9134_7ac0_11ea_bbaa_71228d5ab6b3row7_col3 {\n",
       "            background-color:  #46085c;\n",
       "            color:  #f1f1f1;\n",
       "        }    #T_3a8d9134_7ac0_11ea_bbaa_71228d5ab6b3row7_col4 {\n",
       "            background-color:  #440154;\n",
       "            color:  #f1f1f1;\n",
       "        }    #T_3a8d9134_7ac0_11ea_bbaa_71228d5ab6b3row7_col5 {\n",
       "            background-color:  #20928c;\n",
       "            color:  #000000;\n",
       "        }    #T_3a8d9134_7ac0_11ea_bbaa_71228d5ab6b3row7_col6 {\n",
       "            background-color:  #440154;\n",
       "            color:  #f1f1f1;\n",
       "        }    #T_3a8d9134_7ac0_11ea_bbaa_71228d5ab6b3row7_col7 {\n",
       "            background-color:  #fde725;\n",
       "            color:  #000000;\n",
       "        }    #T_3a8d9134_7ac0_11ea_bbaa_71228d5ab6b3row7_col8 {\n",
       "            background-color:  #440154;\n",
       "            color:  #f1f1f1;\n",
       "        }    #T_3a8d9134_7ac0_11ea_bbaa_71228d5ab6b3row7_col9 {\n",
       "            background-color:  #440154;\n",
       "            color:  #f1f1f1;\n",
       "        }    #T_3a8d9134_7ac0_11ea_bbaa_71228d5ab6b3row7_col10 {\n",
       "            background-color:  #433e85;\n",
       "            color:  #f1f1f1;\n",
       "        }    #T_3a8d9134_7ac0_11ea_bbaa_71228d5ab6b3row7_col11 {\n",
       "            background-color:  #20928c;\n",
       "            color:  #000000;\n",
       "        }    #T_3a8d9134_7ac0_11ea_bbaa_71228d5ab6b3row7_col12 {\n",
       "            background-color:  #46307e;\n",
       "            color:  #f1f1f1;\n",
       "        }    #T_3a8d9134_7ac0_11ea_bbaa_71228d5ab6b3row7_col13 {\n",
       "            background-color:  #1fa188;\n",
       "            color:  #000000;\n",
       "        }    #T_3a8d9134_7ac0_11ea_bbaa_71228d5ab6b3row8_col0 {\n",
       "            background-color:  #3dbc74;\n",
       "            color:  #000000;\n",
       "        }    #T_3a8d9134_7ac0_11ea_bbaa_71228d5ab6b3row8_col1 {\n",
       "            background-color:  #443983;\n",
       "            color:  #f1f1f1;\n",
       "        }    #T_3a8d9134_7ac0_11ea_bbaa_71228d5ab6b3row8_col2 {\n",
       "            background-color:  #65cb5e;\n",
       "            color:  #000000;\n",
       "        }    #T_3a8d9134_7ac0_11ea_bbaa_71228d5ab6b3row8_col3 {\n",
       "            background-color:  #482576;\n",
       "            color:  #f1f1f1;\n",
       "        }    #T_3a8d9134_7ac0_11ea_bbaa_71228d5ab6b3row8_col4 {\n",
       "            background-color:  #6ece58;\n",
       "            color:  #000000;\n",
       "        }    #T_3a8d9134_7ac0_11ea_bbaa_71228d5ab6b3row8_col5 {\n",
       "            background-color:  #3b528b;\n",
       "            color:  #f1f1f1;\n",
       "        }    #T_3a8d9134_7ac0_11ea_bbaa_71228d5ab6b3row8_col6 {\n",
       "            background-color:  #3fbc73;\n",
       "            color:  #000000;\n",
       "        }    #T_3a8d9134_7ac0_11ea_bbaa_71228d5ab6b3row8_col7 {\n",
       "            background-color:  #453581;\n",
       "            color:  #f1f1f1;\n",
       "        }    #T_3a8d9134_7ac0_11ea_bbaa_71228d5ab6b3row8_col8 {\n",
       "            background-color:  #fde725;\n",
       "            color:  #000000;\n",
       "        }    #T_3a8d9134_7ac0_11ea_bbaa_71228d5ab6b3row8_col9 {\n",
       "            background-color:  #dae319;\n",
       "            color:  #000000;\n",
       "        }    #T_3a8d9134_7ac0_11ea_bbaa_71228d5ab6b3row8_col10 {\n",
       "            background-color:  #2eb37c;\n",
       "            color:  #000000;\n",
       "        }    #T_3a8d9134_7ac0_11ea_bbaa_71228d5ab6b3row8_col11 {\n",
       "            background-color:  #440154;\n",
       "            color:  #f1f1f1;\n",
       "        }    #T_3a8d9134_7ac0_11ea_bbaa_71228d5ab6b3row8_col12 {\n",
       "            background-color:  #46c06f;\n",
       "            color:  #000000;\n",
       "        }    #T_3a8d9134_7ac0_11ea_bbaa_71228d5ab6b3row8_col13 {\n",
       "            background-color:  #404588;\n",
       "            color:  #f1f1f1;\n",
       "        }    #T_3a8d9134_7ac0_11ea_bbaa_71228d5ab6b3row9_col0 {\n",
       "            background-color:  #37b878;\n",
       "            color:  #000000;\n",
       "        }    #T_3a8d9134_7ac0_11ea_bbaa_71228d5ab6b3row9_col1 {\n",
       "            background-color:  #453882;\n",
       "            color:  #f1f1f1;\n",
       "        }    #T_3a8d9134_7ac0_11ea_bbaa_71228d5ab6b3row9_col2 {\n",
       "            background-color:  #93d741;\n",
       "            color:  #000000;\n",
       "        }    #T_3a8d9134_7ac0_11ea_bbaa_71228d5ab6b3row9_col3 {\n",
       "            background-color:  #481c6e;\n",
       "            color:  #f1f1f1;\n",
       "        }    #T_3a8d9134_7ac0_11ea_bbaa_71228d5ab6b3row9_col4 {\n",
       "            background-color:  #81d34d;\n",
       "            color:  #000000;\n",
       "        }    #T_3a8d9134_7ac0_11ea_bbaa_71228d5ab6b3row9_col5 {\n",
       "            background-color:  #414487;\n",
       "            color:  #f1f1f1;\n",
       "        }    #T_3a8d9134_7ac0_11ea_bbaa_71228d5ab6b3row9_col6 {\n",
       "            background-color:  #4cc26c;\n",
       "            color:  #000000;\n",
       "        }    #T_3a8d9134_7ac0_11ea_bbaa_71228d5ab6b3row9_col7 {\n",
       "            background-color:  #472e7c;\n",
       "            color:  #f1f1f1;\n",
       "        }    #T_3a8d9134_7ac0_11ea_bbaa_71228d5ab6b3row9_col8 {\n",
       "            background-color:  #d8e219;\n",
       "            color:  #000000;\n",
       "        }    #T_3a8d9134_7ac0_11ea_bbaa_71228d5ab6b3row9_col9 {\n",
       "            background-color:  #fde725;\n",
       "            color:  #000000;\n",
       "        }    #T_3a8d9134_7ac0_11ea_bbaa_71228d5ab6b3row9_col10 {\n",
       "            background-color:  #2db27d;\n",
       "            color:  #000000;\n",
       "        }    #T_3a8d9134_7ac0_11ea_bbaa_71228d5ab6b3row9_col11 {\n",
       "            background-color:  #440154;\n",
       "            color:  #f1f1f1;\n",
       "        }    #T_3a8d9134_7ac0_11ea_bbaa_71228d5ab6b3row9_col12 {\n",
       "            background-color:  #56c667;\n",
       "            color:  #000000;\n",
       "        }    #T_3a8d9134_7ac0_11ea_bbaa_71228d5ab6b3row9_col13 {\n",
       "            background-color:  #453581;\n",
       "            color:  #f1f1f1;\n",
       "        }    #T_3a8d9134_7ac0_11ea_bbaa_71228d5ab6b3row10_col0 {\n",
       "            background-color:  #218f8d;\n",
       "            color:  #000000;\n",
       "        }    #T_3a8d9134_7ac0_11ea_bbaa_71228d5ab6b3row10_col1 {\n",
       "            background-color:  #482979;\n",
       "            color:  #f1f1f1;\n",
       "        }    #T_3a8d9134_7ac0_11ea_bbaa_71228d5ab6b3row10_col2 {\n",
       "            background-color:  #2cb17e;\n",
       "            color:  #000000;\n",
       "        }    #T_3a8d9134_7ac0_11ea_bbaa_71228d5ab6b3row10_col3 {\n",
       "            background-color:  #440154;\n",
       "            color:  #f1f1f1;\n",
       "        }    #T_3a8d9134_7ac0_11ea_bbaa_71228d5ab6b3row10_col4 {\n",
       "            background-color:  #1f9a8a;\n",
       "            color:  #000000;\n",
       "        }    #T_3a8d9134_7ac0_11ea_bbaa_71228d5ab6b3row10_col5 {\n",
       "            background-color:  #453781;\n",
       "            color:  #f1f1f1;\n",
       "        }    #T_3a8d9134_7ac0_11ea_bbaa_71228d5ab6b3row10_col6 {\n",
       "            background-color:  #1fa287;\n",
       "            color:  #000000;\n",
       "        }    #T_3a8d9134_7ac0_11ea_bbaa_71228d5ab6b3row10_col7 {\n",
       "            background-color:  #34608d;\n",
       "            color:  #f1f1f1;\n",
       "        }    #T_3a8d9134_7ac0_11ea_bbaa_71228d5ab6b3row10_col8 {\n",
       "            background-color:  #2db27d;\n",
       "            color:  #000000;\n",
       "        }    #T_3a8d9134_7ac0_11ea_bbaa_71228d5ab6b3row10_col9 {\n",
       "            background-color:  #2fb47c;\n",
       "            color:  #000000;\n",
       "        }    #T_3a8d9134_7ac0_11ea_bbaa_71228d5ab6b3row10_col10 {\n",
       "            background-color:  #fde725;\n",
       "            color:  #000000;\n",
       "        }    #T_3a8d9134_7ac0_11ea_bbaa_71228d5ab6b3row10_col11 {\n",
       "            background-color:  #423f85;\n",
       "            color:  #f1f1f1;\n",
       "        }    #T_3a8d9134_7ac0_11ea_bbaa_71228d5ab6b3row10_col12 {\n",
       "            background-color:  #2cb17e;\n",
       "            color:  #000000;\n",
       "        }    #T_3a8d9134_7ac0_11ea_bbaa_71228d5ab6b3row10_col13 {\n",
       "            background-color:  #472e7c;\n",
       "            color:  #f1f1f1;\n",
       "        }    #T_3a8d9134_7ac0_11ea_bbaa_71228d5ab6b3row11_col0 {\n",
       "            background-color:  #463480;\n",
       "            color:  #f1f1f1;\n",
       "        }    #T_3a8d9134_7ac0_11ea_bbaa_71228d5ab6b3row11_col1 {\n",
       "            background-color:  #238a8d;\n",
       "            color:  #000000;\n",
       "        }    #T_3a8d9134_7ac0_11ea_bbaa_71228d5ab6b3row11_col2 {\n",
       "            background-color:  #404588;\n",
       "            color:  #f1f1f1;\n",
       "        }    #T_3a8d9134_7ac0_11ea_bbaa_71228d5ab6b3row11_col3 {\n",
       "            background-color:  #463480;\n",
       "            color:  #f1f1f1;\n",
       "        }    #T_3a8d9134_7ac0_11ea_bbaa_71228d5ab6b3row11_col4 {\n",
       "            background-color:  #3e4989;\n",
       "            color:  #f1f1f1;\n",
       "        }    #T_3a8d9134_7ac0_11ea_bbaa_71228d5ab6b3row11_col5 {\n",
       "            background-color:  #24868e;\n",
       "            color:  #000000;\n",
       "        }    #T_3a8d9134_7ac0_11ea_bbaa_71228d5ab6b3row11_col6 {\n",
       "            background-color:  #38588c;\n",
       "            color:  #f1f1f1;\n",
       "        }    #T_3a8d9134_7ac0_11ea_bbaa_71228d5ab6b3row11_col7 {\n",
       "            background-color:  #22a884;\n",
       "            color:  #000000;\n",
       "        }    #T_3a8d9134_7ac0_11ea_bbaa_71228d5ab6b3row11_col8 {\n",
       "            background-color:  #470d60;\n",
       "            color:  #f1f1f1;\n",
       "        }    #T_3a8d9134_7ac0_11ea_bbaa_71228d5ab6b3row11_col9 {\n",
       "            background-color:  #481769;\n",
       "            color:  #f1f1f1;\n",
       "        }    #T_3a8d9134_7ac0_11ea_bbaa_71228d5ab6b3row11_col10 {\n",
       "            background-color:  #3e4989;\n",
       "            color:  #f1f1f1;\n",
       "        }    #T_3a8d9134_7ac0_11ea_bbaa_71228d5ab6b3row11_col11 {\n",
       "            background-color:  #fde725;\n",
       "            color:  #000000;\n",
       "        }    #T_3a8d9134_7ac0_11ea_bbaa_71228d5ab6b3row11_col12 {\n",
       "            background-color:  #3f4788;\n",
       "            color:  #f1f1f1;\n",
       "        }    #T_3a8d9134_7ac0_11ea_bbaa_71228d5ab6b3row11_col13 {\n",
       "            background-color:  #25ac82;\n",
       "            color:  #000000;\n",
       "        }    #T_3a8d9134_7ac0_11ea_bbaa_71228d5ab6b3row12_col0 {\n",
       "            background-color:  #20a386;\n",
       "            color:  #000000;\n",
       "        }    #T_3a8d9134_7ac0_11ea_bbaa_71228d5ab6b3row12_col1 {\n",
       "            background-color:  #482475;\n",
       "            color:  #f1f1f1;\n",
       "        }    #T_3a8d9134_7ac0_11ea_bbaa_71228d5ab6b3row12_col2 {\n",
       "            background-color:  #67cc5c;\n",
       "            color:  #000000;\n",
       "        }    #T_3a8d9134_7ac0_11ea_bbaa_71228d5ab6b3row12_col3 {\n",
       "            background-color:  #481769;\n",
       "            color:  #f1f1f1;\n",
       "        }    #T_3a8d9134_7ac0_11ea_bbaa_71228d5ab6b3row12_col4 {\n",
       "            background-color:  #67cc5c;\n",
       "            color:  #000000;\n",
       "        }    #T_3a8d9134_7ac0_11ea_bbaa_71228d5ab6b3row12_col5 {\n",
       "            background-color:  #440154;\n",
       "            color:  #f1f1f1;\n",
       "        }    #T_3a8d9134_7ac0_11ea_bbaa_71228d5ab6b3row12_col6 {\n",
       "            background-color:  #69cd5b;\n",
       "            color:  #000000;\n",
       "        }    #T_3a8d9134_7ac0_11ea_bbaa_71228d5ab6b3row12_col7 {\n",
       "            background-color:  #453581;\n",
       "            color:  #f1f1f1;\n",
       "        }    #T_3a8d9134_7ac0_11ea_bbaa_71228d5ab6b3row12_col8 {\n",
       "            background-color:  #32b67a;\n",
       "            color:  #000000;\n",
       "        }    #T_3a8d9134_7ac0_11ea_bbaa_71228d5ab6b3row12_col9 {\n",
       "            background-color:  #44bf70;\n",
       "            color:  #000000;\n",
       "        }    #T_3a8d9134_7ac0_11ea_bbaa_71228d5ab6b3row12_col10 {\n",
       "            background-color:  #20a486;\n",
       "            color:  #000000;\n",
       "        }    #T_3a8d9134_7ac0_11ea_bbaa_71228d5ab6b3row12_col11 {\n",
       "            background-color:  #481467;\n",
       "            color:  #f1f1f1;\n",
       "        }    #T_3a8d9134_7ac0_11ea_bbaa_71228d5ab6b3row12_col12 {\n",
       "            background-color:  #fde725;\n",
       "            color:  #000000;\n",
       "        }    #T_3a8d9134_7ac0_11ea_bbaa_71228d5ab6b3row12_col13 {\n",
       "            background-color:  #440154;\n",
       "            color:  #f1f1f1;\n",
       "        }    #T_3a8d9134_7ac0_11ea_bbaa_71228d5ab6b3row13_col0 {\n",
       "            background-color:  #443983;\n",
       "            color:  #f1f1f1;\n",
       "        }    #T_3a8d9134_7ac0_11ea_bbaa_71228d5ab6b3row13_col1 {\n",
       "            background-color:  #21a685;\n",
       "            color:  #000000;\n",
       "        }    #T_3a8d9134_7ac0_11ea_bbaa_71228d5ab6b3row13_col2 {\n",
       "            background-color:  #472e7c;\n",
       "            color:  #f1f1f1;\n",
       "        }    #T_3a8d9134_7ac0_11ea_bbaa_71228d5ab6b3row13_col3 {\n",
       "            background-color:  #39558c;\n",
       "            color:  #f1f1f1;\n",
       "        }    #T_3a8d9134_7ac0_11ea_bbaa_71228d5ab6b3row13_col4 {\n",
       "            background-color:  #424186;\n",
       "            color:  #f1f1f1;\n",
       "        }    #T_3a8d9134_7ac0_11ea_bbaa_71228d5ab6b3row13_col5 {\n",
       "            background-color:  #81d34d;\n",
       "            color:  #000000;\n",
       "        }    #T_3a8d9134_7ac0_11ea_bbaa_71228d5ab6b3row13_col6 {\n",
       "            background-color:  #3f4788;\n",
       "            color:  #f1f1f1;\n",
       "        }    #T_3a8d9134_7ac0_11ea_bbaa_71228d5ab6b3row13_col7 {\n",
       "            background-color:  #1fa287;\n",
       "            color:  #000000;\n",
       "        }    #T_3a8d9134_7ac0_11ea_bbaa_71228d5ab6b3row13_col8 {\n",
       "            background-color:  #481c6e;\n",
       "            color:  #f1f1f1;\n",
       "        }    #T_3a8d9134_7ac0_11ea_bbaa_71228d5ab6b3row13_col9 {\n",
       "            background-color:  #471063;\n",
       "            color:  #f1f1f1;\n",
       "        }    #T_3a8d9134_7ac0_11ea_bbaa_71228d5ab6b3row13_col10 {\n",
       "            background-color:  #440154;\n",
       "            color:  #f1f1f1;\n",
       "        }    #T_3a8d9134_7ac0_11ea_bbaa_71228d5ab6b3row13_col11 {\n",
       "            background-color:  #1f998a;\n",
       "            color:  #000000;\n",
       "        }    #T_3a8d9134_7ac0_11ea_bbaa_71228d5ab6b3row13_col12 {\n",
       "            background-color:  #440154;\n",
       "            color:  #f1f1f1;\n",
       "        }    #T_3a8d9134_7ac0_11ea_bbaa_71228d5ab6b3row13_col13 {\n",
       "            background-color:  #fde725;\n",
       "            color:  #000000;\n",
       "        }</style><table id=\"T_3a8d9134_7ac0_11ea_bbaa_71228d5ab6b3\" ><thead>    <tr>        <th class=\"blank level0\" ></th>        <th class=\"col_heading level0 col0\" >CRIM</th>        <th class=\"col_heading level0 col1\" >ZN</th>        <th class=\"col_heading level0 col2\" >INDUS</th>        <th class=\"col_heading level0 col3\" >CHAS</th>        <th class=\"col_heading level0 col4\" >NOX</th>        <th class=\"col_heading level0 col5\" >RM</th>        <th class=\"col_heading level0 col6\" >AGE</th>        <th class=\"col_heading level0 col7\" >DIS</th>        <th class=\"col_heading level0 col8\" >RAD</th>        <th class=\"col_heading level0 col9\" >TAX</th>        <th class=\"col_heading level0 col10\" >PTRATIO</th>        <th class=\"col_heading level0 col11\" >B</th>        <th class=\"col_heading level0 col12\" >LSTAT</th>        <th class=\"col_heading level0 col13\" >MEDV</th>    </tr></thead><tbody>\n",
       "                <tr>\n",
       "                        <th id=\"T_3a8d9134_7ac0_11ea_bbaa_71228d5ab6b3level0_row0\" class=\"row_heading level0 row0\" >CRIM</th>\n",
       "                        <td id=\"T_3a8d9134_7ac0_11ea_bbaa_71228d5ab6b3row0_col0\" class=\"data row0 col0\" >1.000000</td>\n",
       "                        <td id=\"T_3a8d9134_7ac0_11ea_bbaa_71228d5ab6b3row0_col1\" class=\"data row0 col1\" >-0.382541</td>\n",
       "                        <td id=\"T_3a8d9134_7ac0_11ea_bbaa_71228d5ab6b3row0_col2\" class=\"data row0 col2\" >0.476675</td>\n",
       "                        <td id=\"T_3a8d9134_7ac0_11ea_bbaa_71228d5ab6b3row0_col3\" class=\"data row0 col3\" >0.039696</td>\n",
       "                        <td id=\"T_3a8d9134_7ac0_11ea_bbaa_71228d5ab6b3row0_col4\" class=\"data row0 col4\" >0.580282</td>\n",
       "                        <td id=\"T_3a8d9134_7ac0_11ea_bbaa_71228d5ab6b3row0_col5\" class=\"data row0 col5\" >-0.145551</td>\n",
       "                        <td id=\"T_3a8d9134_7ac0_11ea_bbaa_71228d5ab6b3row0_col6\" class=\"data row0 col6\" >0.499808</td>\n",
       "                        <td id=\"T_3a8d9134_7ac0_11ea_bbaa_71228d5ab6b3row0_col7\" class=\"data row0 col7\" >-0.494003</td>\n",
       "                        <td id=\"T_3a8d9134_7ac0_11ea_bbaa_71228d5ab6b3row0_col8\" class=\"data row0 col8\" >0.527667</td>\n",
       "                        <td id=\"T_3a8d9134_7ac0_11ea_bbaa_71228d5ab6b3row0_col9\" class=\"data row0 col9\" >0.509148</td>\n",
       "                        <td id=\"T_3a8d9134_7ac0_11ea_bbaa_71228d5ab6b3row0_col10\" class=\"data row0 col10\" >0.246912</td>\n",
       "                        <td id=\"T_3a8d9134_7ac0_11ea_bbaa_71228d5ab6b3row0_col11\" class=\"data row0 col11\" >-0.266633</td>\n",
       "                        <td id=\"T_3a8d9134_7ac0_11ea_bbaa_71228d5ab6b3row0_col12\" class=\"data row0 col12\" >0.374661</td>\n",
       "                        <td id=\"T_3a8d9134_7ac0_11ea_bbaa_71228d5ab6b3row0_col13\" class=\"data row0 col13\" >-0.245627</td>\n",
       "            </tr>\n",
       "            <tr>\n",
       "                        <th id=\"T_3a8d9134_7ac0_11ea_bbaa_71228d5ab6b3level0_row1\" class=\"row_heading level0 row1\" >ZN</th>\n",
       "                        <td id=\"T_3a8d9134_7ac0_11ea_bbaa_71228d5ab6b3row1_col0\" class=\"data row1 col0\" >-0.382541</td>\n",
       "                        <td id=\"T_3a8d9134_7ac0_11ea_bbaa_71228d5ab6b3row1_col1\" class=\"data row1 col1\" >1.000000</td>\n",
       "                        <td id=\"T_3a8d9134_7ac0_11ea_bbaa_71228d5ab6b3row1_col2\" class=\"data row1 col2\" >-0.533828</td>\n",
       "                        <td id=\"T_3a8d9134_7ac0_11ea_bbaa_71228d5ab6b3row1_col3\" class=\"data row1 col3\" >-0.042697</td>\n",
       "                        <td id=\"T_3a8d9134_7ac0_11ea_bbaa_71228d5ab6b3row1_col4\" class=\"data row1 col4\" >-0.516604</td>\n",
       "                        <td id=\"T_3a8d9134_7ac0_11ea_bbaa_71228d5ab6b3row1_col5\" class=\"data row1 col5\" >0.311991</td>\n",
       "                        <td id=\"T_3a8d9134_7ac0_11ea_bbaa_71228d5ab6b3row1_col6\" class=\"data row1 col6\" >-0.569537</td>\n",
       "                        <td id=\"T_3a8d9134_7ac0_11ea_bbaa_71228d5ab6b3row1_col7\" class=\"data row1 col7\" >0.664408</td>\n",
       "                        <td id=\"T_3a8d9134_7ac0_11ea_bbaa_71228d5ab6b3row1_col8\" class=\"data row1 col8\" >-0.311948</td>\n",
       "                        <td id=\"T_3a8d9134_7ac0_11ea_bbaa_71228d5ab6b3row1_col9\" class=\"data row1 col9\" >-0.314563</td>\n",
       "                        <td id=\"T_3a8d9134_7ac0_11ea_bbaa_71228d5ab6b3row1_col10\" class=\"data row1 col10\" >-0.391679</td>\n",
       "                        <td id=\"T_3a8d9134_7ac0_11ea_bbaa_71228d5ab6b3row1_col11\" class=\"data row1 col11\" >0.175520</td>\n",
       "                        <td id=\"T_3a8d9134_7ac0_11ea_bbaa_71228d5ab6b3row1_col12\" class=\"data row1 col12\" >-0.412995</td>\n",
       "                        <td id=\"T_3a8d9134_7ac0_11ea_bbaa_71228d5ab6b3row1_col13\" class=\"data row1 col13\" >0.360445</td>\n",
       "            </tr>\n",
       "            <tr>\n",
       "                        <th id=\"T_3a8d9134_7ac0_11ea_bbaa_71228d5ab6b3level0_row2\" class=\"row_heading level0 row2\" >INDUS</th>\n",
       "                        <td id=\"T_3a8d9134_7ac0_11ea_bbaa_71228d5ab6b3row2_col0\" class=\"data row2 col0\" >0.476675</td>\n",
       "                        <td id=\"T_3a8d9134_7ac0_11ea_bbaa_71228d5ab6b3row2_col1\" class=\"data row2 col1\" >-0.533828</td>\n",
       "                        <td id=\"T_3a8d9134_7ac0_11ea_bbaa_71228d5ab6b3row2_col2\" class=\"data row2 col2\" >1.000000</td>\n",
       "                        <td id=\"T_3a8d9134_7ac0_11ea_bbaa_71228d5ab6b3row2_col3\" class=\"data row2 col3\" >0.062938</td>\n",
       "                        <td id=\"T_3a8d9134_7ac0_11ea_bbaa_71228d5ab6b3row2_col4\" class=\"data row2 col4\" >0.763651</td>\n",
       "                        <td id=\"T_3a8d9134_7ac0_11ea_bbaa_71228d5ab6b3row2_col5\" class=\"data row2 col5\" >-0.391676</td>\n",
       "                        <td id=\"T_3a8d9134_7ac0_11ea_bbaa_71228d5ab6b3row2_col6\" class=\"data row2 col6\" >0.644779</td>\n",
       "                        <td id=\"T_3a8d9134_7ac0_11ea_bbaa_71228d5ab6b3row2_col7\" class=\"data row2 col7\" >-0.708027</td>\n",
       "                        <td id=\"T_3a8d9134_7ac0_11ea_bbaa_71228d5ab6b3row2_col8\" class=\"data row2 col8\" >0.595129</td>\n",
       "                        <td id=\"T_3a8d9134_7ac0_11ea_bbaa_71228d5ab6b3row2_col9\" class=\"data row2 col9\" >0.720760</td>\n",
       "                        <td id=\"T_3a8d9134_7ac0_11ea_bbaa_71228d5ab6b3row2_col10\" class=\"data row2 col10\" >0.383248</td>\n",
       "                        <td id=\"T_3a8d9134_7ac0_11ea_bbaa_71228d5ab6b3row2_col11\" class=\"data row2 col11\" >-0.356977</td>\n",
       "                        <td id=\"T_3a8d9134_7ac0_11ea_bbaa_71228d5ab6b3row2_col12\" class=\"data row2 col12\" >0.603800</td>\n",
       "                        <td id=\"T_3a8d9134_7ac0_11ea_bbaa_71228d5ab6b3row2_col13\" class=\"data row2 col13\" >-0.483725</td>\n",
       "            </tr>\n",
       "            <tr>\n",
       "                        <th id=\"T_3a8d9134_7ac0_11ea_bbaa_71228d5ab6b3level0_row3\" class=\"row_heading level0 row3\" >CHAS</th>\n",
       "                        <td id=\"T_3a8d9134_7ac0_11ea_bbaa_71228d5ab6b3row3_col0\" class=\"data row3 col0\" >0.039696</td>\n",
       "                        <td id=\"T_3a8d9134_7ac0_11ea_bbaa_71228d5ab6b3row3_col1\" class=\"data row3 col1\" >-0.042697</td>\n",
       "                        <td id=\"T_3a8d9134_7ac0_11ea_bbaa_71228d5ab6b3row3_col2\" class=\"data row3 col2\" >0.062938</td>\n",
       "                        <td id=\"T_3a8d9134_7ac0_11ea_bbaa_71228d5ab6b3row3_col3\" class=\"data row3 col3\" >1.000000</td>\n",
       "                        <td id=\"T_3a8d9134_7ac0_11ea_bbaa_71228d5ab6b3row3_col4\" class=\"data row3 col4\" >0.091203</td>\n",
       "                        <td id=\"T_3a8d9134_7ac0_11ea_bbaa_71228d5ab6b3row3_col5\" class=\"data row3 col5\" >0.091251</td>\n",
       "                        <td id=\"T_3a8d9134_7ac0_11ea_bbaa_71228d5ab6b3row3_col6\" class=\"data row3 col6\" >0.086518</td>\n",
       "                        <td id=\"T_3a8d9134_7ac0_11ea_bbaa_71228d5ab6b3row3_col7\" class=\"data row3 col7\" >-0.099176</td>\n",
       "                        <td id=\"T_3a8d9134_7ac0_11ea_bbaa_71228d5ab6b3row3_col8\" class=\"data row3 col8\" >-0.007368</td>\n",
       "                        <td id=\"T_3a8d9134_7ac0_11ea_bbaa_71228d5ab6b3row3_col9\" class=\"data row3 col9\" >-0.035587</td>\n",
       "                        <td id=\"T_3a8d9134_7ac0_11ea_bbaa_71228d5ab6b3row3_col10\" class=\"data row3 col10\" >-0.121515</td>\n",
       "                        <td id=\"T_3a8d9134_7ac0_11ea_bbaa_71228d5ab6b3row3_col11\" class=\"data row3 col11\" >0.048788</td>\n",
       "                        <td id=\"T_3a8d9134_7ac0_11ea_bbaa_71228d5ab6b3row3_col12\" class=\"data row3 col12\" >-0.053929</td>\n",
       "                        <td id=\"T_3a8d9134_7ac0_11ea_bbaa_71228d5ab6b3row3_col13\" class=\"data row3 col13\" >0.175260</td>\n",
       "            </tr>\n",
       "            <tr>\n",
       "                        <th id=\"T_3a8d9134_7ac0_11ea_bbaa_71228d5ab6b3level0_row4\" class=\"row_heading level0 row4\" >NOX</th>\n",
       "                        <td id=\"T_3a8d9134_7ac0_11ea_bbaa_71228d5ab6b3row4_col0\" class=\"data row4 col0\" >0.580282</td>\n",
       "                        <td id=\"T_3a8d9134_7ac0_11ea_bbaa_71228d5ab6b3row4_col1\" class=\"data row4 col1\" >-0.516604</td>\n",
       "                        <td id=\"T_3a8d9134_7ac0_11ea_bbaa_71228d5ab6b3row4_col2\" class=\"data row4 col2\" >0.763651</td>\n",
       "                        <td id=\"T_3a8d9134_7ac0_11ea_bbaa_71228d5ab6b3row4_col3\" class=\"data row4 col3\" >0.091203</td>\n",
       "                        <td id=\"T_3a8d9134_7ac0_11ea_bbaa_71228d5ab6b3row4_col4\" class=\"data row4 col4\" >1.000000</td>\n",
       "                        <td id=\"T_3a8d9134_7ac0_11ea_bbaa_71228d5ab6b3row4_col5\" class=\"data row4 col5\" >-0.302188</td>\n",
       "                        <td id=\"T_3a8d9134_7ac0_11ea_bbaa_71228d5ab6b3row4_col6\" class=\"data row4 col6\" >0.731470</td>\n",
       "                        <td id=\"T_3a8d9134_7ac0_11ea_bbaa_71228d5ab6b3row4_col7\" class=\"data row4 col7\" >-0.769230</td>\n",
       "                        <td id=\"T_3a8d9134_7ac0_11ea_bbaa_71228d5ab6b3row4_col8\" class=\"data row4 col8\" >0.611441</td>\n",
       "                        <td id=\"T_3a8d9134_7ac0_11ea_bbaa_71228d5ab6b3row4_col9\" class=\"data row4 col9\" >0.668023</td>\n",
       "                        <td id=\"T_3a8d9134_7ac0_11ea_bbaa_71228d5ab6b3row4_col10\" class=\"data row4 col10\" >0.188933</td>\n",
       "                        <td id=\"T_3a8d9134_7ac0_11ea_bbaa_71228d5ab6b3row4_col11\" class=\"data row4 col11\" >-0.380051</td>\n",
       "                        <td id=\"T_3a8d9134_7ac0_11ea_bbaa_71228d5ab6b3row4_col12\" class=\"data row4 col12\" >0.590879</td>\n",
       "                        <td id=\"T_3a8d9134_7ac0_11ea_bbaa_71228d5ab6b3row4_col13\" class=\"data row4 col13\" >-0.427321</td>\n",
       "            </tr>\n",
       "            <tr>\n",
       "                        <th id=\"T_3a8d9134_7ac0_11ea_bbaa_71228d5ab6b3level0_row5\" class=\"row_heading level0 row5\" >RM</th>\n",
       "                        <td id=\"T_3a8d9134_7ac0_11ea_bbaa_71228d5ab6b3row5_col0\" class=\"data row5 col0\" >-0.145551</td>\n",
       "                        <td id=\"T_3a8d9134_7ac0_11ea_bbaa_71228d5ab6b3row5_col1\" class=\"data row5 col1\" >0.311991</td>\n",
       "                        <td id=\"T_3a8d9134_7ac0_11ea_bbaa_71228d5ab6b3row5_col2\" class=\"data row5 col2\" >-0.391676</td>\n",
       "                        <td id=\"T_3a8d9134_7ac0_11ea_bbaa_71228d5ab6b3row5_col3\" class=\"data row5 col3\" >0.091251</td>\n",
       "                        <td id=\"T_3a8d9134_7ac0_11ea_bbaa_71228d5ab6b3row5_col4\" class=\"data row5 col4\" >-0.302188</td>\n",
       "                        <td id=\"T_3a8d9134_7ac0_11ea_bbaa_71228d5ab6b3row5_col5\" class=\"data row5 col5\" >1.000000</td>\n",
       "                        <td id=\"T_3a8d9134_7ac0_11ea_bbaa_71228d5ab6b3row5_col6\" class=\"data row5 col6\" >-0.240265</td>\n",
       "                        <td id=\"T_3a8d9134_7ac0_11ea_bbaa_71228d5ab6b3row5_col7\" class=\"data row5 col7\" >0.205246</td>\n",
       "                        <td id=\"T_3a8d9134_7ac0_11ea_bbaa_71228d5ab6b3row5_col8\" class=\"data row5 col8\" >-0.209847</td>\n",
       "                        <td id=\"T_3a8d9134_7ac0_11ea_bbaa_71228d5ab6b3row5_col9\" class=\"data row5 col9\" >-0.292048</td>\n",
       "                        <td id=\"T_3a8d9134_7ac0_11ea_bbaa_71228d5ab6b3row5_col10\" class=\"data row5 col10\" >-0.355501</td>\n",
       "                        <td id=\"T_3a8d9134_7ac0_11ea_bbaa_71228d5ab6b3row5_col11\" class=\"data row5 col11\" >0.128069</td>\n",
       "                        <td id=\"T_3a8d9134_7ac0_11ea_bbaa_71228d5ab6b3row5_col12\" class=\"data row5 col12\" >-0.613808</td>\n",
       "                        <td id=\"T_3a8d9134_7ac0_11ea_bbaa_71228d5ab6b3row5_col13\" class=\"data row5 col13\" >0.695360</td>\n",
       "            </tr>\n",
       "            <tr>\n",
       "                        <th id=\"T_3a8d9134_7ac0_11ea_bbaa_71228d5ab6b3level0_row6\" class=\"row_heading level0 row6\" >AGE</th>\n",
       "                        <td id=\"T_3a8d9134_7ac0_11ea_bbaa_71228d5ab6b3row6_col0\" class=\"data row6 col0\" >0.499808</td>\n",
       "                        <td id=\"T_3a8d9134_7ac0_11ea_bbaa_71228d5ab6b3row6_col1\" class=\"data row6 col1\" >-0.569537</td>\n",
       "                        <td id=\"T_3a8d9134_7ac0_11ea_bbaa_71228d5ab6b3row6_col2\" class=\"data row6 col2\" >0.644779</td>\n",
       "                        <td id=\"T_3a8d9134_7ac0_11ea_bbaa_71228d5ab6b3row6_col3\" class=\"data row6 col3\" >0.086518</td>\n",
       "                        <td id=\"T_3a8d9134_7ac0_11ea_bbaa_71228d5ab6b3row6_col4\" class=\"data row6 col4\" >0.731470</td>\n",
       "                        <td id=\"T_3a8d9134_7ac0_11ea_bbaa_71228d5ab6b3row6_col5\" class=\"data row6 col5\" >-0.240265</td>\n",
       "                        <td id=\"T_3a8d9134_7ac0_11ea_bbaa_71228d5ab6b3row6_col6\" class=\"data row6 col6\" >1.000000</td>\n",
       "                        <td id=\"T_3a8d9134_7ac0_11ea_bbaa_71228d5ab6b3row6_col7\" class=\"data row6 col7\" >-0.747881</td>\n",
       "                        <td id=\"T_3a8d9134_7ac0_11ea_bbaa_71228d5ab6b3row6_col8\" class=\"data row6 col8\" >0.456022</td>\n",
       "                        <td id=\"T_3a8d9134_7ac0_11ea_bbaa_71228d5ab6b3row6_col9\" class=\"data row6 col9\" >0.506456</td>\n",
       "                        <td id=\"T_3a8d9134_7ac0_11ea_bbaa_71228d5ab6b3row6_col10\" class=\"data row6 col10\" >0.261515</td>\n",
       "                        <td id=\"T_3a8d9134_7ac0_11ea_bbaa_71228d5ab6b3row6_col11\" class=\"data row6 col11\" >-0.273534</td>\n",
       "                        <td id=\"T_3a8d9134_7ac0_11ea_bbaa_71228d5ab6b3row6_col12\" class=\"data row6 col12\" >0.602339</td>\n",
       "                        <td id=\"T_3a8d9134_7ac0_11ea_bbaa_71228d5ab6b3row6_col13\" class=\"data row6 col13\" >-0.376955</td>\n",
       "            </tr>\n",
       "            <tr>\n",
       "                        <th id=\"T_3a8d9134_7ac0_11ea_bbaa_71228d5ab6b3level0_row7\" class=\"row_heading level0 row7\" >DIS</th>\n",
       "                        <td id=\"T_3a8d9134_7ac0_11ea_bbaa_71228d5ab6b3row7_col0\" class=\"data row7 col0\" >-0.494003</td>\n",
       "                        <td id=\"T_3a8d9134_7ac0_11ea_bbaa_71228d5ab6b3row7_col1\" class=\"data row7 col1\" >0.664408</td>\n",
       "                        <td id=\"T_3a8d9134_7ac0_11ea_bbaa_71228d5ab6b3row7_col2\" class=\"data row7 col2\" >-0.708027</td>\n",
       "                        <td id=\"T_3a8d9134_7ac0_11ea_bbaa_71228d5ab6b3row7_col3\" class=\"data row7 col3\" >-0.099176</td>\n",
       "                        <td id=\"T_3a8d9134_7ac0_11ea_bbaa_71228d5ab6b3row7_col4\" class=\"data row7 col4\" >-0.769230</td>\n",
       "                        <td id=\"T_3a8d9134_7ac0_11ea_bbaa_71228d5ab6b3row7_col5\" class=\"data row7 col5\" >0.205246</td>\n",
       "                        <td id=\"T_3a8d9134_7ac0_11ea_bbaa_71228d5ab6b3row7_col6\" class=\"data row7 col6\" >-0.747881</td>\n",
       "                        <td id=\"T_3a8d9134_7ac0_11ea_bbaa_71228d5ab6b3row7_col7\" class=\"data row7 col7\" >1.000000</td>\n",
       "                        <td id=\"T_3a8d9134_7ac0_11ea_bbaa_71228d5ab6b3row7_col8\" class=\"data row7 col8\" >-0.494588</td>\n",
       "                        <td id=\"T_3a8d9134_7ac0_11ea_bbaa_71228d5ab6b3row7_col9\" class=\"data row7 col9\" >-0.534432</td>\n",
       "                        <td id=\"T_3a8d9134_7ac0_11ea_bbaa_71228d5ab6b3row7_col10\" class=\"data row7 col10\" >-0.232471</td>\n",
       "                        <td id=\"T_3a8d9134_7ac0_11ea_bbaa_71228d5ab6b3row7_col11\" class=\"data row7 col11\" >0.291512</td>\n",
       "                        <td id=\"T_3a8d9134_7ac0_11ea_bbaa_71228d5ab6b3row7_col12\" class=\"data row7 col12\" >-0.496996</td>\n",
       "                        <td id=\"T_3a8d9134_7ac0_11ea_bbaa_71228d5ab6b3row7_col13\" class=\"data row7 col13\" >0.249929</td>\n",
       "            </tr>\n",
       "            <tr>\n",
       "                        <th id=\"T_3a8d9134_7ac0_11ea_bbaa_71228d5ab6b3level0_row8\" class=\"row_heading level0 row8\" >RAD</th>\n",
       "                        <td id=\"T_3a8d9134_7ac0_11ea_bbaa_71228d5ab6b3row8_col0\" class=\"data row8 col0\" >0.527667</td>\n",
       "                        <td id=\"T_3a8d9134_7ac0_11ea_bbaa_71228d5ab6b3row8_col1\" class=\"data row8 col1\" >-0.311948</td>\n",
       "                        <td id=\"T_3a8d9134_7ac0_11ea_bbaa_71228d5ab6b3row8_col2\" class=\"data row8 col2\" >0.595129</td>\n",
       "                        <td id=\"T_3a8d9134_7ac0_11ea_bbaa_71228d5ab6b3row8_col3\" class=\"data row8 col3\" >-0.007368</td>\n",
       "                        <td id=\"T_3a8d9134_7ac0_11ea_bbaa_71228d5ab6b3row8_col4\" class=\"data row8 col4\" >0.611441</td>\n",
       "                        <td id=\"T_3a8d9134_7ac0_11ea_bbaa_71228d5ab6b3row8_col5\" class=\"data row8 col5\" >-0.209847</td>\n",
       "                        <td id=\"T_3a8d9134_7ac0_11ea_bbaa_71228d5ab6b3row8_col6\" class=\"data row8 col6\" >0.456022</td>\n",
       "                        <td id=\"T_3a8d9134_7ac0_11ea_bbaa_71228d5ab6b3row8_col7\" class=\"data row8 col7\" >-0.494588</td>\n",
       "                        <td id=\"T_3a8d9134_7ac0_11ea_bbaa_71228d5ab6b3row8_col8\" class=\"data row8 col8\" >1.000000</td>\n",
       "                        <td id=\"T_3a8d9134_7ac0_11ea_bbaa_71228d5ab6b3row8_col9\" class=\"data row8 col9\" >0.910228</td>\n",
       "                        <td id=\"T_3a8d9134_7ac0_11ea_bbaa_71228d5ab6b3row8_col10\" class=\"data row8 col10\" >0.464741</td>\n",
       "                        <td id=\"T_3a8d9134_7ac0_11ea_bbaa_71228d5ab6b3row8_col11\" class=\"data row8 col11\" >-0.444413</td>\n",
       "                        <td id=\"T_3a8d9134_7ac0_11ea_bbaa_71228d5ab6b3row8_col12\" class=\"data row8 col12\" >0.488676</td>\n",
       "                        <td id=\"T_3a8d9134_7ac0_11ea_bbaa_71228d5ab6b3row8_col13\" class=\"data row8 col13\" >-0.381626</td>\n",
       "            </tr>\n",
       "            <tr>\n",
       "                        <th id=\"T_3a8d9134_7ac0_11ea_bbaa_71228d5ab6b3level0_row9\" class=\"row_heading level0 row9\" >TAX</th>\n",
       "                        <td id=\"T_3a8d9134_7ac0_11ea_bbaa_71228d5ab6b3row9_col0\" class=\"data row9 col0\" >0.509148</td>\n",
       "                        <td id=\"T_3a8d9134_7ac0_11ea_bbaa_71228d5ab6b3row9_col1\" class=\"data row9 col1\" >-0.314563</td>\n",
       "                        <td id=\"T_3a8d9134_7ac0_11ea_bbaa_71228d5ab6b3row9_col2\" class=\"data row9 col2\" >0.720760</td>\n",
       "                        <td id=\"T_3a8d9134_7ac0_11ea_bbaa_71228d5ab6b3row9_col3\" class=\"data row9 col3\" >-0.035587</td>\n",
       "                        <td id=\"T_3a8d9134_7ac0_11ea_bbaa_71228d5ab6b3row9_col4\" class=\"data row9 col4\" >0.668023</td>\n",
       "                        <td id=\"T_3a8d9134_7ac0_11ea_bbaa_71228d5ab6b3row9_col5\" class=\"data row9 col5\" >-0.292048</td>\n",
       "                        <td id=\"T_3a8d9134_7ac0_11ea_bbaa_71228d5ab6b3row9_col6\" class=\"data row9 col6\" >0.506456</td>\n",
       "                        <td id=\"T_3a8d9134_7ac0_11ea_bbaa_71228d5ab6b3row9_col7\" class=\"data row9 col7\" >-0.534432</td>\n",
       "                        <td id=\"T_3a8d9134_7ac0_11ea_bbaa_71228d5ab6b3row9_col8\" class=\"data row9 col8\" >0.910228</td>\n",
       "                        <td id=\"T_3a8d9134_7ac0_11ea_bbaa_71228d5ab6b3row9_col9\" class=\"data row9 col9\" >1.000000</td>\n",
       "                        <td id=\"T_3a8d9134_7ac0_11ea_bbaa_71228d5ab6b3row9_col10\" class=\"data row9 col10\" >0.460853</td>\n",
       "                        <td id=\"T_3a8d9134_7ac0_11ea_bbaa_71228d5ab6b3row9_col11\" class=\"data row9 col11\" >-0.441808</td>\n",
       "                        <td id=\"T_3a8d9134_7ac0_11ea_bbaa_71228d5ab6b3row9_col12\" class=\"data row9 col12\" >0.543993</td>\n",
       "                        <td id=\"T_3a8d9134_7ac0_11ea_bbaa_71228d5ab6b3row9_col13\" class=\"data row9 col13\" >-0.468536</td>\n",
       "            </tr>\n",
       "            <tr>\n",
       "                        <th id=\"T_3a8d9134_7ac0_11ea_bbaa_71228d5ab6b3level0_row10\" class=\"row_heading level0 row10\" >PTRATIO</th>\n",
       "                        <td id=\"T_3a8d9134_7ac0_11ea_bbaa_71228d5ab6b3row10_col0\" class=\"data row10 col0\" >0.246912</td>\n",
       "                        <td id=\"T_3a8d9134_7ac0_11ea_bbaa_71228d5ab6b3row10_col1\" class=\"data row10 col1\" >-0.391679</td>\n",
       "                        <td id=\"T_3a8d9134_7ac0_11ea_bbaa_71228d5ab6b3row10_col2\" class=\"data row10 col2\" >0.383248</td>\n",
       "                        <td id=\"T_3a8d9134_7ac0_11ea_bbaa_71228d5ab6b3row10_col3\" class=\"data row10 col3\" >-0.121515</td>\n",
       "                        <td id=\"T_3a8d9134_7ac0_11ea_bbaa_71228d5ab6b3row10_col4\" class=\"data row10 col4\" >0.188933</td>\n",
       "                        <td id=\"T_3a8d9134_7ac0_11ea_bbaa_71228d5ab6b3row10_col5\" class=\"data row10 col5\" >-0.355501</td>\n",
       "                        <td id=\"T_3a8d9134_7ac0_11ea_bbaa_71228d5ab6b3row10_col6\" class=\"data row10 col6\" >0.261515</td>\n",
       "                        <td id=\"T_3a8d9134_7ac0_11ea_bbaa_71228d5ab6b3row10_col7\" class=\"data row10 col7\" >-0.232471</td>\n",
       "                        <td id=\"T_3a8d9134_7ac0_11ea_bbaa_71228d5ab6b3row10_col8\" class=\"data row10 col8\" >0.464741</td>\n",
       "                        <td id=\"T_3a8d9134_7ac0_11ea_bbaa_71228d5ab6b3row10_col9\" class=\"data row10 col9\" >0.460853</td>\n",
       "                        <td id=\"T_3a8d9134_7ac0_11ea_bbaa_71228d5ab6b3row10_col10\" class=\"data row10 col10\" >1.000000</td>\n",
       "                        <td id=\"T_3a8d9134_7ac0_11ea_bbaa_71228d5ab6b3row10_col11\" class=\"data row10 col11\" >-0.177383</td>\n",
       "                        <td id=\"T_3a8d9134_7ac0_11ea_bbaa_71228d5ab6b3row10_col12\" class=\"data row10 col12\" >0.374044</td>\n",
       "                        <td id=\"T_3a8d9134_7ac0_11ea_bbaa_71228d5ab6b3row10_col13\" class=\"data row10 col13\" >-0.507787</td>\n",
       "            </tr>\n",
       "            <tr>\n",
       "                        <th id=\"T_3a8d9134_7ac0_11ea_bbaa_71228d5ab6b3level0_row11\" class=\"row_heading level0 row11\" >B</th>\n",
       "                        <td id=\"T_3a8d9134_7ac0_11ea_bbaa_71228d5ab6b3row11_col0\" class=\"data row11 col0\" >-0.266633</td>\n",
       "                        <td id=\"T_3a8d9134_7ac0_11ea_bbaa_71228d5ab6b3row11_col1\" class=\"data row11 col1\" >0.175520</td>\n",
       "                        <td id=\"T_3a8d9134_7ac0_11ea_bbaa_71228d5ab6b3row11_col2\" class=\"data row11 col2\" >-0.356977</td>\n",
       "                        <td id=\"T_3a8d9134_7ac0_11ea_bbaa_71228d5ab6b3row11_col3\" class=\"data row11 col3\" >0.048788</td>\n",
       "                        <td id=\"T_3a8d9134_7ac0_11ea_bbaa_71228d5ab6b3row11_col4\" class=\"data row11 col4\" >-0.380051</td>\n",
       "                        <td id=\"T_3a8d9134_7ac0_11ea_bbaa_71228d5ab6b3row11_col5\" class=\"data row11 col5\" >0.128069</td>\n",
       "                        <td id=\"T_3a8d9134_7ac0_11ea_bbaa_71228d5ab6b3row11_col6\" class=\"data row11 col6\" >-0.273534</td>\n",
       "                        <td id=\"T_3a8d9134_7ac0_11ea_bbaa_71228d5ab6b3row11_col7\" class=\"data row11 col7\" >0.291512</td>\n",
       "                        <td id=\"T_3a8d9134_7ac0_11ea_bbaa_71228d5ab6b3row11_col8\" class=\"data row11 col8\" >-0.444413</td>\n",
       "                        <td id=\"T_3a8d9134_7ac0_11ea_bbaa_71228d5ab6b3row11_col9\" class=\"data row11 col9\" >-0.441808</td>\n",
       "                        <td id=\"T_3a8d9134_7ac0_11ea_bbaa_71228d5ab6b3row11_col10\" class=\"data row11 col10\" >-0.177383</td>\n",
       "                        <td id=\"T_3a8d9134_7ac0_11ea_bbaa_71228d5ab6b3row11_col11\" class=\"data row11 col11\" >1.000000</td>\n",
       "                        <td id=\"T_3a8d9134_7ac0_11ea_bbaa_71228d5ab6b3row11_col12\" class=\"data row11 col12\" >-0.366087</td>\n",
       "                        <td id=\"T_3a8d9134_7ac0_11ea_bbaa_71228d5ab6b3row11_col13\" class=\"data row11 col13\" >0.333461</td>\n",
       "            </tr>\n",
       "            <tr>\n",
       "                        <th id=\"T_3a8d9134_7ac0_11ea_bbaa_71228d5ab6b3level0_row12\" class=\"row_heading level0 row12\" >LSTAT</th>\n",
       "                        <td id=\"T_3a8d9134_7ac0_11ea_bbaa_71228d5ab6b3row12_col0\" class=\"data row12 col0\" >0.374661</td>\n",
       "                        <td id=\"T_3a8d9134_7ac0_11ea_bbaa_71228d5ab6b3row12_col1\" class=\"data row12 col1\" >-0.412995</td>\n",
       "                        <td id=\"T_3a8d9134_7ac0_11ea_bbaa_71228d5ab6b3row12_col2\" class=\"data row12 col2\" >0.603800</td>\n",
       "                        <td id=\"T_3a8d9134_7ac0_11ea_bbaa_71228d5ab6b3row12_col3\" class=\"data row12 col3\" >-0.053929</td>\n",
       "                        <td id=\"T_3a8d9134_7ac0_11ea_bbaa_71228d5ab6b3row12_col4\" class=\"data row12 col4\" >0.590879</td>\n",
       "                        <td id=\"T_3a8d9134_7ac0_11ea_bbaa_71228d5ab6b3row12_col5\" class=\"data row12 col5\" >-0.613808</td>\n",
       "                        <td id=\"T_3a8d9134_7ac0_11ea_bbaa_71228d5ab6b3row12_col6\" class=\"data row12 col6\" >0.602339</td>\n",
       "                        <td id=\"T_3a8d9134_7ac0_11ea_bbaa_71228d5ab6b3row12_col7\" class=\"data row12 col7\" >-0.496996</td>\n",
       "                        <td id=\"T_3a8d9134_7ac0_11ea_bbaa_71228d5ab6b3row12_col8\" class=\"data row12 col8\" >0.488676</td>\n",
       "                        <td id=\"T_3a8d9134_7ac0_11ea_bbaa_71228d5ab6b3row12_col9\" class=\"data row12 col9\" >0.543993</td>\n",
       "                        <td id=\"T_3a8d9134_7ac0_11ea_bbaa_71228d5ab6b3row12_col10\" class=\"data row12 col10\" >0.374044</td>\n",
       "                        <td id=\"T_3a8d9134_7ac0_11ea_bbaa_71228d5ab6b3row12_col11\" class=\"data row12 col11\" >-0.366087</td>\n",
       "                        <td id=\"T_3a8d9134_7ac0_11ea_bbaa_71228d5ab6b3row12_col12\" class=\"data row12 col12\" >1.000000</td>\n",
       "                        <td id=\"T_3a8d9134_7ac0_11ea_bbaa_71228d5ab6b3row12_col13\" class=\"data row12 col13\" >-0.737663</td>\n",
       "            </tr>\n",
       "            <tr>\n",
       "                        <th id=\"T_3a8d9134_7ac0_11ea_bbaa_71228d5ab6b3level0_row13\" class=\"row_heading level0 row13\" >MEDV</th>\n",
       "                        <td id=\"T_3a8d9134_7ac0_11ea_bbaa_71228d5ab6b3row13_col0\" class=\"data row13 col0\" >-0.245627</td>\n",
       "                        <td id=\"T_3a8d9134_7ac0_11ea_bbaa_71228d5ab6b3row13_col1\" class=\"data row13 col1\" >0.360445</td>\n",
       "                        <td id=\"T_3a8d9134_7ac0_11ea_bbaa_71228d5ab6b3row13_col2\" class=\"data row13 col2\" >-0.483725</td>\n",
       "                        <td id=\"T_3a8d9134_7ac0_11ea_bbaa_71228d5ab6b3row13_col3\" class=\"data row13 col3\" >0.175260</td>\n",
       "                        <td id=\"T_3a8d9134_7ac0_11ea_bbaa_71228d5ab6b3row13_col4\" class=\"data row13 col4\" >-0.427321</td>\n",
       "                        <td id=\"T_3a8d9134_7ac0_11ea_bbaa_71228d5ab6b3row13_col5\" class=\"data row13 col5\" >0.695360</td>\n",
       "                        <td id=\"T_3a8d9134_7ac0_11ea_bbaa_71228d5ab6b3row13_col6\" class=\"data row13 col6\" >-0.376955</td>\n",
       "                        <td id=\"T_3a8d9134_7ac0_11ea_bbaa_71228d5ab6b3row13_col7\" class=\"data row13 col7\" >0.249929</td>\n",
       "                        <td id=\"T_3a8d9134_7ac0_11ea_bbaa_71228d5ab6b3row13_col8\" class=\"data row13 col8\" >-0.381626</td>\n",
       "                        <td id=\"T_3a8d9134_7ac0_11ea_bbaa_71228d5ab6b3row13_col9\" class=\"data row13 col9\" >-0.468536</td>\n",
       "                        <td id=\"T_3a8d9134_7ac0_11ea_bbaa_71228d5ab6b3row13_col10\" class=\"data row13 col10\" >-0.507787</td>\n",
       "                        <td id=\"T_3a8d9134_7ac0_11ea_bbaa_71228d5ab6b3row13_col11\" class=\"data row13 col11\" >0.333461</td>\n",
       "                        <td id=\"T_3a8d9134_7ac0_11ea_bbaa_71228d5ab6b3row13_col12\" class=\"data row13 col12\" >-0.737663</td>\n",
       "                        <td id=\"T_3a8d9134_7ac0_11ea_bbaa_71228d5ab6b3row13_col13\" class=\"data row13 col13\" >1.000000</td>\n",
       "            </tr>\n",
       "    </tbody></table>"
      ],
      "text/plain": [
       "<pandas.io.formats.style.Styler at 0x7f86a064fc90>"
      ]
     },
     "execution_count": 6,
     "metadata": {},
     "output_type": "execute_result"
    }
   ],
   "source": [
    "dataset.corr().style.background_gradient(cmap='viridis')"
   ]
  },
  {
   "cell_type": "code",
   "execution_count": 7,
   "metadata": {},
   "outputs": [
    {
     "data": {
      "text/plain": [
       "<matplotlib.axes._subplots.AxesSubplot at 0x7f8673d59310>"
      ]
     },
     "execution_count": 7,
     "metadata": {},
     "output_type": "execute_result"
    },
    {
     "data": {
      "image/png": "[encoded data removed]",
      "text/plain": [
       "<Figure size 1440x360 with 1 Axes>"
      ]
     },
     "metadata": {
      "needs_background": "light"
     },
     "output_type": "display_data"
    }
   ],
   "source": [
    "dataset['MEDV'].hist(bins = 50, figsize=(20, 5))"
   ]
  },
  {
   "cell_type": "code",
   "execution_count": 8,
   "metadata": {},
   "outputs": [],
   "source": [
    "X = dataset.values[:, :-1]\n",
    "y = dataset.values[:, -1]"
   ]
  },
  {
   "cell_type": "markdown",
   "metadata": {},
   "source": [
    "###### Embaralhando os dados\n",
    "apesar de achar que não seja necessário, pois os dados não tem uma ordem."
   ]
  },
  {
   "cell_type": "code",
   "execution_count": 9,
   "metadata": {},
   "outputs": [],
   "source": [
    "rs = np.random.RandomState(1)\n",
    "shuffled_indices = rs.permutation(X.shape[0])\n",
    "X = X[shuffled_indices]\n",
    "y = y[shuffled_indices]"
   ]
  },
  {
   "cell_type": "markdown",
   "metadata": {},
   "source": [
    "###### 70% dos dados para treino"
   ]
  },
  {
   "cell_type": "code",
   "execution_count": 10,
   "metadata": {},
   "outputs": [],
   "source": [
    "n = int(0.7 * len(X))"
   ]
  },
  {
   "cell_type": "code",
   "execution_count": 11,
   "metadata": {},
   "outputs": [],
   "source": [
    "X_train = X[:n]\n",
    "y_train = y[:n]"
   ]
  },
  {
   "cell_type": "markdown",
   "metadata": {},
   "source": [
    "###### 30% dos dados para teste"
   ]
  },
  {
   "cell_type": "code",
   "execution_count": 12,
   "metadata": {},
   "outputs": [],
   "source": [
    "X_test = X[n:]\n",
    "y_test = y[n:]"
   ]
  },
  {
   "cell_type": "markdown",
   "metadata": {},
   "source": [
    "###### Verificando os dados:"
   ]
  },
  {
   "cell_type": "code",
   "execution_count": 13,
   "metadata": {},
   "outputs": [
    {
     "data": {
      "text/plain": [
       "(69.73880963494133, 70.00534072874494, 22.5274011299435, 22.545394736842105)"
      ]
     },
     "execution_count": 13,
     "metadata": {},
     "output_type": "execute_result"
    }
   ],
   "source": [
    "np.average(X_train), np.average(X_test), np.average(y_train), np.average(y_test)"
   ]
  },
  {
   "cell_type": "markdown",
   "metadata": {},
   "source": [
    "# Normal (Sem Normalização ou Standardização)"
   ]
  },
  {
   "cell_type": "markdown",
   "metadata": {},
   "source": [
    "###### Regressão Linear com Gradiente Descendente ( Módulo externo )"
   ]
  },
  {
   "cell_type": "code",
   "execution_count": 14,
   "metadata": {},
   "outputs": [],
   "source": [
    "from ml_libs import LinearRegressionGD\n",
    "from ml_libs import metrics"
   ]
  },
  {
   "cell_type": "code",
   "execution_count": 15,
   "metadata": {},
   "outputs": [
    {
     "data": {
      "text/plain": [
       "<module 'ml_libs.metrics' from '/home/lucas/Documentos/organizando/Aprendizado-de-Maquina/Lista 5 - Modulos normalizacao e standatizacao/ml_libs/metrics.py'>"
      ]
     },
     "execution_count": 15,
     "metadata": {},
     "output_type": "execute_result"
    }
   ],
   "source": [
    "reload(LinearRegressionGD)\n",
    "reload(metrics)"
   ]
  },
  {
   "cell_type": "code",
   "execution_count": 16,
   "metadata": {
    "scrolled": true
   },
   "outputs": [],
   "source": [
    "model_lrgd = LinearRegressionGD.LinearRegressionGD(eta = 0.000000001, n_iter = 500)\n",
    "model_lrgd.fit(X_train, y_train)\n",
    "lrgd_pred = model_lrgd.predict(X_test)\n",
    "lrgd_rmse = metrics.rmse(y_test, lrgd_pred)"
   ]
  },
  {
   "cell_type": "code",
   "execution_count": 17,
   "metadata": {},
   "outputs": [
    {
     "data": {
      "text/plain": [
       "9.33613825466297"
      ]
     },
     "execution_count": 17,
     "metadata": {},
     "output_type": "execute_result"
    }
   ],
   "source": [
    "lrgd_rmse"
   ]
  },
  {
   "cell_type": "markdown",
   "metadata": {},
   "source": [
    "###### Regressão Linear do Scikit-Learning"
   ]
  },
  {
   "cell_type": "code",
   "execution_count": 18,
   "metadata": {},
   "outputs": [],
   "source": [
    "from sklearn import linear_model"
   ]
  },
  {
   "cell_type": "code",
   "execution_count": 19,
   "metadata": {},
   "outputs": [],
   "source": [
    "rslk_model = linear_model.LinearRegression()\n",
    "rslk_model.fit(X_train, y_train)\n",
    "rslk_pred = rslk_model.predict(X_test)\n",
    "rslk_rmse = metrics.rmse(y_test,rslk_pred)"
   ]
  },
  {
   "cell_type": "code",
   "execution_count": 20,
   "metadata": {},
   "outputs": [
    {
     "data": {
      "text/plain": [
       "5.475431959557566"
      ]
     },
     "execution_count": 20,
     "metadata": {},
     "output_type": "execute_result"
    }
   ],
   "source": [
    "rslk_rmse"
   ]
  },
  {
   "cell_type": "markdown",
   "metadata": {},
   "source": [
    "###### Gradiente Descendente Estocástico Regressor do Scikit-Learning"
   ]
  },
  {
   "cell_type": "code",
   "execution_count": 21,
   "metadata": {
    "scrolled": false
   },
   "outputs": [],
   "source": [
    "sgdsk_model = linear_model.SGDRegressor(tol = 0.000001) # só consegui com que parasse de dar erro com o tol muito pequeno\n",
    "sgdsk_model.fit(X_train, y_train)\n",
    "sgdsk_pred = sgdsk_model.predict(X_test)\n",
    "sgdsk_rmse = metrics.rmse(y_test, sgdsk_pred)"
   ]
  },
  {
   "cell_type": "code",
   "execution_count": 22,
   "metadata": {},
   "outputs": [
    {
     "data": {
      "text/plain": [
       "144883070362435.94"
      ]
     },
     "execution_count": 22,
     "metadata": {},
     "output_type": "execute_result"
    }
   ],
   "source": [
    "sgdsk_rmse"
   ]
  },
  {
   "cell_type": "markdown",
   "metadata": {},
   "source": [
    "# Com Normalização"
   ]
  },
  {
   "cell_type": "markdown",
   "metadata": {},
   "source": [
    "#### Normalizando os dados:"
   ]
  },
  {
   "cell_type": "code",
   "execution_count": 23,
   "metadata": {},
   "outputs": [],
   "source": [
    "from ml_libs import escalonamentos"
   ]
  },
  {
   "cell_type": "code",
   "execution_count": 24,
   "metadata": {},
   "outputs": [
    {
     "data": {
      "text/plain": [
       "<module 'ml_libs.escalonamentos' from '/home/lucas/Documentos/organizando/Aprendizado-de-Maquina/Lista 5 - Modulos normalizacao e standatizacao/ml_libs/escalonamentos.py'>"
      ]
     },
     "execution_count": 24,
     "metadata": {},
     "output_type": "execute_result"
    }
   ],
   "source": [
    "reload(escalonamentos)"
   ]
  },
  {
   "cell_type": "code",
   "execution_count": 25,
   "metadata": {},
   "outputs": [],
   "source": [
    "X_norm_train = escalonamentos.normalize(X_train)\n",
    "X_norm_test = escalonamentos.normalize(X_test)"
   ]
  },
  {
   "cell_type": "markdown",
   "metadata": {},
   "source": [
    "Verificando consistência com o dos coleguinhas"
   ]
  },
  {
   "cell_type": "code",
   "execution_count": 26,
   "metadata": {},
   "outputs": [
    {
     "data": {
      "text/plain": [
       "(0.40818179155435613, 0.4046874327700594)"
      ]
     },
     "execution_count": 26,
     "metadata": {},
     "output_type": "execute_result"
    }
   ],
   "source": [
    "np.average(X_norm_train), np.average(X_norm_test)"
   ]
  },
  {
   "cell_type": "markdown",
   "metadata": {},
   "source": [
    "###### Regressão Linear com Gradiente Descendente ( Módulo externo )"
   ]
  },
  {
   "cell_type": "code",
   "execution_count": 27,
   "metadata": {},
   "outputs": [],
   "source": [
    "rlgd_n_model = LinearRegressionGD.LinearRegressionGD(eta = 0.01, n_iter = 20)\n",
    "rlgd_n_model.fit(X_norm_train, y_train)\n",
    "lrgd_n_pred = rlgd_n_model.predict(X_norm_test)\n",
    "lrgd_n_rmse = metrics.rmse(y_test, lrgd_n_pred)"
   ]
  },
  {
   "cell_type": "code",
   "execution_count": 28,
   "metadata": {},
   "outputs": [
    {
     "data": {
      "text/plain": [
       "2.6652065859435916e+23"
      ]
     },
     "execution_count": 28,
     "metadata": {},
     "output_type": "execute_result"
    }
   ],
   "source": [
    "lrgd_n_rmse"
   ]
  },
  {
   "cell_type": "markdown",
   "metadata": {},
   "source": [
    "###### Regressão linear do Scikit-learning"
   ]
  },
  {
   "cell_type": "code",
   "execution_count": 29,
   "metadata": {},
   "outputs": [],
   "source": [
    "rlsk_n_model = linear_model.LinearRegression()\n",
    "rlsk_n_model.fit(X_norm_train, y_train)\n",
    "rlsk_n_pred = rlsk_n_model.predict(X_norm_test)\n",
    "rlsk_n_rmse = metrics.rmse(y_test, rlsk_n_pred)"
   ]
  },
  {
   "cell_type": "code",
   "execution_count": 30,
   "metadata": {},
   "outputs": [
    {
     "data": {
      "text/plain": [
       "5.561371723913061"
      ]
     },
     "execution_count": 30,
     "metadata": {},
     "output_type": "execute_result"
    }
   ],
   "source": [
    "rlsk_n_rmse"
   ]
  },
  {
   "cell_type": "markdown",
   "metadata": {},
   "source": [
    "###### Gradiente Descendente Estocástico Regressor do Scikit-Learning"
   ]
  },
  {
   "cell_type": "code",
   "execution_count": 31,
   "metadata": {},
   "outputs": [],
   "source": [
    "gder_norm_model = linear_model.SGDRegressor(tol = 0.1)\n",
    "gder_norm_model.fit(X_norm_train, y_train)\n",
    "gder_norm_pred = gder_norm_model.predict(X_norm_test)\n",
    "gder_norm_rmse = metrics.rmse(y_test, gder_norm_pred)"
   ]
  },
  {
   "cell_type": "code",
   "execution_count": 32,
   "metadata": {},
   "outputs": [
    {
     "data": {
      "text/plain": [
       "6.360388230679915"
      ]
     },
     "execution_count": 32,
     "metadata": {},
     "output_type": "execute_result"
    }
   ],
   "source": [
    "gder_norm_rmse"
   ]
  },
  {
   "cell_type": "markdown",
   "metadata": {},
   "source": [
    "# Com Standardização"
   ]
  },
  {
   "cell_type": "markdown",
   "metadata": {},
   "source": [
    "#### Standartzando os dados"
   ]
  },
  {
   "cell_type": "code",
   "execution_count": 33,
   "metadata": {},
   "outputs": [],
   "source": [
    "X_stand_train = escalonamentos.standardize(X_train)\n",
    "X_stand_test = escalonamentos.standardize(X_test)"
   ]
  },
  {
   "cell_type": "markdown",
   "metadata": {},
   "source": [
    "Verificando consistência com o dos coleguinhas"
   ]
  },
  {
   "cell_type": "code",
   "execution_count": 34,
   "metadata": {},
   "outputs": [
    {
     "data": {
      "text/plain": [
       "(6.021548608136442e-17, -1.6720767820265516e-16)"
      ]
     },
     "execution_count": 34,
     "metadata": {},
     "output_type": "execute_result"
    }
   ],
   "source": [
    "np.average(X_stand_train), np.average(X_stand_test) "
   ]
  },
  {
   "cell_type": "markdown",
   "metadata": {},
   "source": [
    "###### Regressão Linear com Gradiente Descendente (Módulo externo)"
   ]
  },
  {
   "cell_type": "code",
   "execution_count": 35,
   "metadata": {},
   "outputs": [],
   "source": [
    "rlgd_s_model = LinearRegressionGD.LinearRegressionGD(eta = 0.001, n_iter=20)\n",
    "rlgd_s_model.fit(X_stand_train, y_train)\n",
    "rlgd_s_pred = rlgd_s_model.predict(X_stand_test)\n",
    "rlgd_s_rmse = metrics.rmse(y_test, rlgd_s_pred)"
   ]
  },
  {
   "cell_type": "code",
   "execution_count": 36,
   "metadata": {},
   "outputs": [
    {
     "data": {
      "text/plain": [
       "178.2027277145068"
      ]
     },
     "execution_count": 36,
     "metadata": {},
     "output_type": "execute_result"
    }
   ],
   "source": [
    "rlgd_s_rmse"
   ]
  },
  {
   "cell_type": "markdown",
   "metadata": {},
   "source": [
    "###### Regressão Linear do Scikit-Learning"
   ]
  },
  {
   "cell_type": "code",
   "execution_count": 37,
   "metadata": {},
   "outputs": [],
   "source": [
    "rlsk_s_model = linear_model.LinearRegression()\n",
    "rlsk_s_model.fit(X_stand_train, y_train)\n",
    "rlsk_s_pred = rlsk_s_model.predict(X_stand_test)\n",
    "rlsk_s_rmse = metrics.rmse(y_test, rlsk_s_pred)"
   ]
  },
  {
   "cell_type": "code",
   "execution_count": 38,
   "metadata": {},
   "outputs": [
    {
     "data": {
      "text/plain": [
       "5.458198608617613"
      ]
     },
     "execution_count": 38,
     "metadata": {},
     "output_type": "execute_result"
    }
   ],
   "source": [
    "rlsk_s_rmse"
   ]
  },
  {
   "cell_type": "markdown",
   "metadata": {},
   "source": [
    "###### Gradiente Descendente Estocástico Regressor do Scikit-Learning"
   ]
  },
  {
   "cell_type": "code",
   "execution_count": 39,
   "metadata": {},
   "outputs": [],
   "source": [
    "gder_s_model = linear_model.SGDRegressor(tol=0.001)\n",
    "gder_s_model.fit(X_stand_train, y_train)\n",
    "gder_s_pred = gder_s_model.predict(X_stand_test)\n",
    "gder_s_rmse = metrics.rmse(y_test, gder_s_pred)"
   ]
  },
  {
   "cell_type": "code",
   "execution_count": 40,
   "metadata": {},
   "outputs": [
    {
     "data": {
      "text/plain": [
       "5.489704270247056"
      ]
     },
     "execution_count": 40,
     "metadata": {},
     "output_type": "execute_result"
    }
   ],
   "source": [
    "gder_s_rmse"
   ]
  },
  {
   "cell_type": "markdown",
   "metadata": {},
   "source": [
    "#### Por motivos de meus resultados serem altamente discrepantes uns dos outros, Resolvi não fazer gráficos..."
   ]
  }
 ],
 "metadata": {
  "kernelspec": {
   "display_name": "Python 3",
   "language": "python",
   "name": "python3"
  },
  "language_info": {
   "codemirror_mode": {
    "name": "ipython",
    "version": 3
   },
   "file_extension": ".py",
   "mimetype": "text/x-python",
   "name": "python",
   "nbconvert_exporter": "python",
   "pygments_lexer": "ipython3",
   "version": "3.7.7"
  }
 },
 "nbformat": 4,
 "nbformat_minor": 2
}
