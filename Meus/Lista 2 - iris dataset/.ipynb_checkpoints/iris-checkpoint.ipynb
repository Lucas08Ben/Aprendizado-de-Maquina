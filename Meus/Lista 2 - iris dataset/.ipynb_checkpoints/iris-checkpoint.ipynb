{
 "cells": [
  {
   "cell_type": "code",
   "execution_count": 1,
   "metadata": {},
   "outputs": [],
   "source": [
    "%matplotlib inline\n",
    "import pandas as pd\n",
    "import numpy as np\n",
    "from matplotlib import pyplot as plt\n",
    "from sklearn import model_selection\n",
    "from sklearn import linear_model\n",
    "from sklearn.neighbors import KNeighborsClassifier\n",
    "from sklearn import metrics\n",
    "from sklearn import ensemble\n",
    "from sklearn import tree\n",
    "from sklearn import svm\n",
    "from sklearn import neighbors\n",
    "from sklearn import naive_bayes"
   ]
  },
  {
   "cell_type": "code",
   "execution_count": 2,
   "metadata": {
    "scrolled": false
   },
   "outputs": [],
   "source": [
    "columns = ['comprimentoSepal', 'larguraSepal', 'comprimentoPental', 'larguraPental', 'Tipo']\n",
    "data = pd.read_csv('iris-dataset.csv', names=columns, )"
   ]
  },
  {
   "cell_type": "code",
   "execution_count": 3,
   "metadata": {},
   "outputs": [
    {
     "data": {
      "text/html": [
       "<div>\n",
       "<style scoped>\n",
       "    .dataframe tbody tr th:only-of-type {\n",
       "        vertical-align: middle;\n",
       "    }\n",
       "\n",
       "    .dataframe tbody tr th {\n",
       "        vertical-align: top;\n",
       "    }\n",
       "\n",
       "    .dataframe thead th {\n",
       "        text-align: right;\n",
       "    }\n",
       "</style>\n",
       "<table border=\"1\" class=\"dataframe\">\n",
       "  <thead>\n",
       "    <tr style=\"text-align: right;\">\n",
       "      <th></th>\n",
       "      <th>comprimentoSepal</th>\n",
       "      <th>larguraSepal</th>\n",
       "      <th>comprimentoPental</th>\n",
       "      <th>larguraPental</th>\n",
       "      <th>Tipo</th>\n",
       "    </tr>\n",
       "  </thead>\n",
       "  <tbody>\n",
       "    <tr>\n",
       "      <th>0</th>\n",
       "      <td>5.1</td>\n",
       "      <td>3.5</td>\n",
       "      <td>1.4</td>\n",
       "      <td>0.2</td>\n",
       "      <td>Iris-setosa</td>\n",
       "    </tr>\n",
       "    <tr>\n",
       "      <th>1</th>\n",
       "      <td>4.9</td>\n",
       "      <td>3.0</td>\n",
       "      <td>1.4</td>\n",
       "      <td>0.2</td>\n",
       "      <td>Iris-setosa</td>\n",
       "    </tr>\n",
       "    <tr>\n",
       "      <th>2</th>\n",
       "      <td>4.7</td>\n",
       "      <td>3.2</td>\n",
       "      <td>1.3</td>\n",
       "      <td>0.2</td>\n",
       "      <td>Iris-setosa</td>\n",
       "    </tr>\n",
       "    <tr>\n",
       "      <th>3</th>\n",
       "      <td>4.6</td>\n",
       "      <td>3.1</td>\n",
       "      <td>1.5</td>\n",
       "      <td>0.2</td>\n",
       "      <td>Iris-setosa</td>\n",
       "    </tr>\n",
       "    <tr>\n",
       "      <th>4</th>\n",
       "      <td>5.0</td>\n",
       "      <td>3.6</td>\n",
       "      <td>1.4</td>\n",
       "      <td>0.2</td>\n",
       "      <td>Iris-setosa</td>\n",
       "    </tr>\n",
       "  </tbody>\n",
       "</table>\n",
       "</div>"
      ],
      "text/plain": [
       "   comprimentoSepal  larguraSepal  comprimentoPental  larguraPental  \\\n",
       "0               5.1           3.5                1.4            0.2   \n",
       "1               4.9           3.0                1.4            0.2   \n",
       "2               4.7           3.2                1.3            0.2   \n",
       "3               4.6           3.1                1.5            0.2   \n",
       "4               5.0           3.6                1.4            0.2   \n",
       "\n",
       "          Tipo  \n",
       "0  Iris-setosa  \n",
       "1  Iris-setosa  \n",
       "2  Iris-setosa  \n",
       "3  Iris-setosa  \n",
       "4  Iris-setosa  "
      ]
     },
     "execution_count": 3,
     "metadata": {},
     "output_type": "execute_result"
    }
   ],
   "source": [
    "data.head(5)"
   ]
  },
  {
   "cell_type": "code",
   "execution_count": 4,
   "metadata": {},
   "outputs": [
    {
     "data": {
      "text/html": [
       "<div>\n",
       "<style scoped>\n",
       "    .dataframe tbody tr th:only-of-type {\n",
       "        vertical-align: middle;\n",
       "    }\n",
       "\n",
       "    .dataframe tbody tr th {\n",
       "        vertical-align: top;\n",
       "    }\n",
       "\n",
       "    .dataframe thead th {\n",
       "        text-align: right;\n",
       "    }\n",
       "</style>\n",
       "<table border=\"1\" class=\"dataframe\">\n",
       "  <thead>\n",
       "    <tr style=\"text-align: right;\">\n",
       "      <th></th>\n",
       "      <th>comprimentoSepal</th>\n",
       "      <th>larguraSepal</th>\n",
       "      <th>comprimentoPental</th>\n",
       "      <th>larguraPental</th>\n",
       "    </tr>\n",
       "  </thead>\n",
       "  <tbody>\n",
       "    <tr>\n",
       "      <th>count</th>\n",
       "      <td>150.000000</td>\n",
       "      <td>150.000000</td>\n",
       "      <td>150.000000</td>\n",
       "      <td>150.000000</td>\n",
       "    </tr>\n",
       "    <tr>\n",
       "      <th>mean</th>\n",
       "      <td>5.843333</td>\n",
       "      <td>3.054000</td>\n",
       "      <td>3.758667</td>\n",
       "      <td>1.198667</td>\n",
       "    </tr>\n",
       "    <tr>\n",
       "      <th>std</th>\n",
       "      <td>0.828066</td>\n",
       "      <td>0.433594</td>\n",
       "      <td>1.764420</td>\n",
       "      <td>0.763161</td>\n",
       "    </tr>\n",
       "    <tr>\n",
       "      <th>min</th>\n",
       "      <td>4.300000</td>\n",
       "      <td>2.000000</td>\n",
       "      <td>1.000000</td>\n",
       "      <td>0.100000</td>\n",
       "    </tr>\n",
       "    <tr>\n",
       "      <th>25%</th>\n",
       "      <td>5.100000</td>\n",
       "      <td>2.800000</td>\n",
       "      <td>1.600000</td>\n",
       "      <td>0.300000</td>\n",
       "    </tr>\n",
       "    <tr>\n",
       "      <th>50%</th>\n",
       "      <td>5.800000</td>\n",
       "      <td>3.000000</td>\n",
       "      <td>4.350000</td>\n",
       "      <td>1.300000</td>\n",
       "    </tr>\n",
       "    <tr>\n",
       "      <th>75%</th>\n",
       "      <td>6.400000</td>\n",
       "      <td>3.300000</td>\n",
       "      <td>5.100000</td>\n",
       "      <td>1.800000</td>\n",
       "    </tr>\n",
       "    <tr>\n",
       "      <th>max</th>\n",
       "      <td>7.900000</td>\n",
       "      <td>4.400000</td>\n",
       "      <td>6.900000</td>\n",
       "      <td>2.500000</td>\n",
       "    </tr>\n",
       "  </tbody>\n",
       "</table>\n",
       "</div>"
      ],
      "text/plain": [
       "       comprimentoSepal  larguraSepal  comprimentoPental  larguraPental\n",
       "count        150.000000    150.000000         150.000000     150.000000\n",
       "mean           5.843333      3.054000           3.758667       1.198667\n",
       "std            0.828066      0.433594           1.764420       0.763161\n",
       "min            4.300000      2.000000           1.000000       0.100000\n",
       "25%            5.100000      2.800000           1.600000       0.300000\n",
       "50%            5.800000      3.000000           4.350000       1.300000\n",
       "75%            6.400000      3.300000           5.100000       1.800000\n",
       "max            7.900000      4.400000           6.900000       2.500000"
      ]
     },
     "execution_count": 4,
     "metadata": {},
     "output_type": "execute_result"
    }
   ],
   "source": [
    "data.describe()"
   ]
  },
  {
   "cell_type": "code",
   "execution_count": 5,
   "metadata": {},
   "outputs": [
    {
     "name": "stdout",
     "output_type": "stream",
     "text": [
      "(150, 5)\n"
     ]
    }
   ],
   "source": [
    "print(data.shape)"
   ]
  },
  {
   "cell_type": "code",
   "execution_count": 6,
   "metadata": {
    "scrolled": true
   },
   "outputs": [
    {
     "name": "stdout",
     "output_type": "stream",
     "text": [
      "Tipo\n",
      "Iris-setosa        50\n",
      "Iris-versicolor    50\n",
      "Iris-virginica     50\n",
      "dtype: int64\n"
     ]
    }
   ],
   "source": [
    "print(data.groupby('Tipo').size())"
   ]
  },
  {
   "cell_type": "code",
   "execution_count": 7,
   "metadata": {
    "scrolled": true
   },
   "outputs": [
    {
     "name": "stdout",
     "output_type": "stream",
     "text": [
      "<class 'pandas.core.frame.DataFrame'>\n",
      "RangeIndex: 150 entries, 0 to 149\n",
      "Data columns (total 5 columns):\n",
      "comprimentoSepal     150 non-null float64\n",
      "larguraSepal         150 non-null float64\n",
      "comprimentoPental    150 non-null float64\n",
      "larguraPental        150 non-null float64\n",
      "Tipo                 150 non-null object\n",
      "dtypes: float64(4), object(1)\n",
      "memory usage: 5.9+ KB\n"
     ]
    }
   ],
   "source": [
    "data.info()"
   ]
  },
  {
   "cell_type": "markdown",
   "metadata": {},
   "source": [
    "## Separando o Dataset\n",
    "#### Lembre-se:\n",
    "###### X = Caracteristicas\n",
    "###### y = Labels"
   ]
  },
  {
   "cell_type": "code",
   "execution_count": 8,
   "metadata": {},
   "outputs": [],
   "source": [
    "dataset = data.values\n",
    "np.random.seed(1)\n",
    "np.random.shuffle(dataset)"
   ]
  },
  {
   "cell_type": "code",
   "execution_count": 9,
   "metadata": {},
   "outputs": [],
   "source": [
    "X = dataset[:,:4] # Não entendi muito bem o que ta acontecendo\n",
    "y = dataset[:,4]  # aqui. (linguagem...) separando as features das labels"
   ]
  },
  {
   "cell_type": "code",
   "execution_count": 10,
   "metadata": {},
   "outputs": [],
   "source": [
    "n_train = int(round(len(y) * 0.70)) #Achando muito alto nivel\n",
    "X_train = X[:n_train, :] # separando os datasets....\n",
    "y_train = y[:n_train]\n",
    "X_test = X[n_train:,:]\n",
    "y_test = y[n_train:]"
   ]
  },
  {
   "cell_type": "code",
   "execution_count": 11,
   "metadata": {},
   "outputs": [
    {
     "data": {
      "text/plain": [
       "((150, 4), (150,), (105, 4), (105,), (45, 4), (45,))"
      ]
     },
     "execution_count": 11,
     "metadata": {},
     "output_type": "execute_result"
    }
   ],
   "source": [
    "X.shape, y.shape, X_train.shape, y_train.shape, X_test.shape, y_test.shape"
   ]
  },
  {
   "cell_type": "markdown",
   "metadata": {},
   "source": [
    "# Criação de modelos"
   ]
  },
  {
   "cell_type": "code",
   "execution_count": 12,
   "metadata": {},
   "outputs": [
    {
     "name": "stderr",
     "output_type": "stream",
     "text": [
      "/home/lucas/Programas/anaconda3/lib/python3.7/site-packages/sklearn/linear_model/stochastic_gradient.py:166: FutureWarning: max_iter and tol parameters have been added in SGDClassifier in 0.19. If both are left unset, they default to max_iter=5 and tol=None. If tol is not None, max_iter defaults to max_iter=1000. From 0.21, default max_iter will be 1000, and default tol will be 1e-3.\n",
      "  FutureWarning)\n"
     ]
    },
    {
     "data": {
      "text/plain": [
       "SGDClassifier(alpha=0.0001, average=False, class_weight=None,\n",
       "       early_stopping=False, epsilon=0.1, eta0=0.0, fit_intercept=True,\n",
       "       l1_ratio=0.15, learning_rate='optimal', loss='hinge', max_iter=None,\n",
       "       n_iter=None, n_iter_no_change=5, n_jobs=None, penalty='l2',\n",
       "       power_t=0.5, random_state=None, shuffle=True, tol=None,\n",
       "       validation_fraction=0.1, verbose=0, warm_start=False)"
      ]
     },
     "execution_count": 12,
     "metadata": {},
     "output_type": "execute_result"
    }
   ],
   "source": [
    "model_sgd = linear_model.SGDClassifier()\n",
    "model_sgd.fit(X_train, y_train)"
   ]
  },
  {
   "cell_type": "code",
   "execution_count": 13,
   "metadata": {},
   "outputs": [],
   "source": [
    "pred_sgd = model_sgd.predict(X_test)"
   ]
  },
  {
   "cell_type": "code",
   "execution_count": 14,
   "metadata": {
    "scrolled": false
   },
   "outputs": [
    {
     "name": "stdout",
     "output_type": "stream",
     "text": [
      "Predição \t -> \tLabel\n",
      "\n",
      "Iris-setosa\t -> \tIris-setosa\n",
      "Iris-versicolor\t -> \tIris-versicolor\n",
      "Iris-setosa\t -> \tIris-setosa\n",
      "Iris-setosa\t -> \tIris-setosa\n",
      "Iris-virginica\t -> \tIris-virginica\n",
      "Iris-virginica\t -> \tIris-virginica\n",
      "Iris-virginica\t -> \tIris-virginica\n",
      "Iris-setosa\t -> \tIris-setosa\n",
      "Iris-setosa\t -> \tIris-setosa\n",
      "Iris-virginica\t -> \tIris-versicolor\n",
      "Iris-setosa\t -> \tIris-setosa\n",
      "Iris-virginica\t -> \tIris-virginica\n",
      "Iris-setosa\t -> \tIris-setosa\n",
      "Iris-virginica\t -> \tIris-virginica\n",
      "Iris-virginica\t -> \tIris-virginica\n",
      "Iris-setosa\t -> \tIris-setosa\n",
      "Iris-virginica\t -> \tIris-virginica\n",
      "Iris-setosa\t -> \tIris-setosa\n",
      "Iris-versicolor\t -> \tIris-versicolor\n",
      "Iris-setosa\t -> \tIris-setosa\n",
      "Iris-versicolor\t -> \tIris-versicolor\n",
      "Iris-versicolor\t -> \tIris-versicolor\n",
      "Iris-setosa\t -> \tIris-setosa\n",
      "Iris-setosa\t -> \tIris-setosa\n",
      "Iris-versicolor\t -> \tIris-versicolor\n",
      "Iris-setosa\t -> \tIris-setosa\n",
      "Iris-versicolor\t -> \tIris-versicolor\n",
      "Iris-virginica\t -> \tIris-versicolor\n",
      "Iris-setosa\t -> \tIris-setosa\n",
      "Iris-versicolor\t -> \tIris-versicolor\n",
      "Iris-versicolor\t -> \tIris-versicolor\n",
      "Iris-virginica\t -> \tIris-versicolor\n",
      "Iris-versicolor\t -> \tIris-versicolor\n",
      "Iris-virginica\t -> \tIris-virginica\n",
      "Iris-setosa\t -> \tIris-setosa\n",
      "Iris-setosa\t -> \tIris-setosa\n",
      "Iris-virginica\t -> \tIris-virginica\n",
      "Iris-versicolor\t -> \tIris-versicolor\n",
      "Iris-virginica\t -> \tIris-virginica\n",
      "Iris-versicolor\t -> \tIris-versicolor\n",
      "Iris-virginica\t -> \tIris-virginica\n",
      "Iris-virginica\t -> \tIris-virginica\n",
      "Iris-virginica\t -> \tIris-versicolor\n",
      "Iris-virginica\t -> \tIris-virginica\n",
      "Iris-setosa\t -> \tIris-setosa\n"
     ]
    }
   ],
   "source": [
    "print('Predição \\t -> \\tLabel\\n')\n",
    "for i in range (len(y_test)):\n",
    "    print(pred_sgd[i] + '\\t -> \\t' + y_test[i])"
   ]
  },
  {
   "cell_type": "markdown",
   "metadata": {},
   "source": [
    "## Analisando a predição sobre os dados de teste"
   ]
  },
  {
   "cell_type": "code",
   "execution_count": 15,
   "metadata": {
    "scrolled": false
   },
   "outputs": [
    {
     "name": "stdout",
     "output_type": "stream",
     "text": [
      "                 precision    recall  f1-score   support\n",
      "\n",
      "    Iris-setosa       1.00      1.00      1.00        17\n",
      "Iris-versicolor       1.00      0.73      0.85        15\n",
      " Iris-virginica       0.76      1.00      0.87        13\n",
      "\n",
      "      micro avg       0.91      0.91      0.91        45\n",
      "      macro avg       0.92      0.91      0.90        45\n",
      "   weighted avg       0.93      0.91      0.91        45\n",
      "\n"
     ]
    }
   ],
   "source": [
    "print(metrics.classification_report(y_test, pred_sgd))"
   ]
  },
  {
   "cell_type": "markdown",
   "metadata": {},
   "source": [
    "## Acurácia sobre os dados de teste"
   ]
  },
  {
   "cell_type": "code",
   "execution_count": 16,
   "metadata": {},
   "outputs": [
    {
     "data": {
      "text/plain": [
       "0.9111111111111111"
      ]
     },
     "execution_count": 16,
     "metadata": {},
     "output_type": "execute_result"
    }
   ],
   "source": [
    "acc = metrics.accuracy_score(y_test, pred_sgd)\n",
    "acc"
   ]
  }
 ],
 "metadata": {
  "kernelspec": {
   "display_name": "Python 3",
   "language": "python",
   "name": "python3"
  },
  "language_info": {
   "codemirror_mode": {
    "name": "ipython",
    "version": 3
   },
   "file_extension": ".py",
   "mimetype": "text/x-python",
   "name": "python",
   "nbconvert_exporter": "python",
   "pygments_lexer": "ipython3",
   "version": "3.7.3"
  }
 },
 "nbformat": 4,
 "nbformat_minor": 2
}
