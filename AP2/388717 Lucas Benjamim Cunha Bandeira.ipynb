{
 "cells": [
  {
   "cell_type": "markdown",
   "metadata": {},
   "source": [
    "# 2ª AP de Aprendizado de Máquina\n",
    "\n",
    "Professor: Regis Pires Magalhães\n",
    "\n",
    "#### Observações:\n",
    "- Primeiramente faça uma cópia backup deste arquivo sem suas resoluções.\n",
    "- A segunda questão vale 1 ponto. As demais questões valem 1,5.\n",
    "- Desconecte o cabo de rede do computador.\n",
    "- Somente é permitida consulta à documentação contida na pasta mldocs.\n",
    "- Não é permitido o uso de pendrive ou qualquer outro meio de armazenamento externo de dados.\n",
    "- Ao concluir a avaliação, altere o nome do notebook para conter a matricula e o nome do aluno. Somente depois disso, chame o professor para entregar sua resolução, que deverá ser copiada para o pendrive do professor."
   ]
  },
  {
   "cell_type": "code",
   "execution_count": 1,
   "metadata": {},
   "outputs": [],
   "source": [
    "import numpy as np\n",
    "import pandas as pd\n",
    "import matplotlib.pyplot as plt\n",
    "from sklearn import datasets\n",
    "from sklearn.model_selection import train_test_split\n",
    "from sklearn.linear_model import LogisticRegression\n",
    "from sklearn.svm import SVC\n",
    "from sklearn.naive_bayes import GaussianNB\n",
    "from sklearn.neighbors import NearestNeighbors"
   ]
  },
  {
   "cell_type": "markdown",
   "metadata": {},
   "source": [
    "## 1. Crie manualmente conjuntos de treino e teste para um 3-Fold a partir dos dados a seguir, onde X representa as features, e y representa os labels."
   ]
  },
  {
   "cell_type": "code",
   "execution_count": 3,
   "metadata": {},
   "outputs": [],
   "source": [
    "X = np.array([[-3, 1],\n",
    "              [ 1, 5], \n",
    "              [ 1, 2], \n",
    "              [-2, 0], \n",
    "              [ 2, 3], \n",
    "              [-4, 0], \n",
    "              [-1, 1], \n",
    "              [ 1, 1], \n",
    "              [-2, 2]])\n",
    "y = np.array([0, 2, 2, 1, 2, 0, 1, 2, 0])"
   ]
  },
  {
   "cell_type": "markdown",
   "metadata": {},
   "source": [
    "### Resposta:\n",
    "#### 1 Fold:\n",
    "```python\n",
    "X_train = ?, y_train = ?\n",
    "X_test = ?, y_test = ?\n",
    "```"
   ]
  },
  {
   "cell_type": "code",
   "execution_count": null,
   "metadata": {},
   "outputs": [],
   "source": [
    "X_train = [[-3, 1],\n",
    "           [ 1, 5], \n",
    "           [ 1, 2], \n",
    "           [-2, 0], \n",
    "           [ 2, 3], \n",
    "           [-4, 0]]\n",
    "y_train = [0, 2, 2, 1, 2, 0]\n",
    "X_test = [[-1, 1], \n",
    "          [ 1, 1], \n",
    "          [-2, 2]]\n",
    "y_test = [1, 2, 0]"
   ]
  },
  {
   "cell_type": "markdown",
   "metadata": {},
   "source": [
    "#### 2 Fold:\n",
    "```python\n",
    "X_train = ?, y_train = ?\n",
    "X_test = ?, y_test = ?\n",
    "```"
   ]
  },
  {
   "cell_type": "code",
   "execution_count": null,
   "metadata": {},
   "outputs": [],
   "source": [
    "X_train = [[-2, 0], \n",
    "           [ 2, 3], \n",
    "           [-4, 0], \n",
    "           [-1, 1], \n",
    "           [ 1, 1], \n",
    "           [-2, 2]]\n",
    "y_train = [1, 2, 0, 1, 2, 0]\n",
    "X_test = [[-3, 1],\n",
    "          [ 1, 5], \n",
    "          [ 1, 2]]\n",
    "y_test = [0, 2, 2]\n"
   ]
  },
  {
   "cell_type": "markdown",
   "metadata": {},
   "source": [
    "#### 3 Fold:\n",
    "```python\n",
    "X_train = ?, y_train = ?\n",
    "X_test = ?, y_test = ?\n",
    "```"
   ]
  },
  {
   "cell_type": "code",
   "execution_count": null,
   "metadata": {},
   "outputs": [],
   "source": [
    "X_train = [[-3, 1],\n",
    "           [ 1, 5], \n",
    "           [ 1, 2], \n",
    "           [-1, 1], \n",
    "           [ 1, 1], \n",
    "           [-2, 2]]\n",
    "y_train = [0, 2, 2, 1, 2, 0]\n",
    "X_test = [[-2, 0], \n",
    "          [ 2, 3], \n",
    "          [-4, 0]]\n",
    "y_test = [1, 2, 0]"
   ]
  },
  {
   "cell_type": "markdown",
   "metadata": {},
   "source": [
    "## 2. Desenhe um gráfico de pontos onde, o eixo x é representado pela 1ª coluna de X, o eixo y é presentado pela 2ª coluna de X e os labels 0, 1 e 2 são representados por diferentes cores."
   ]
  },
  {
   "cell_type": "code",
   "execution_count": 7,
   "metadata": {},
   "outputs": [
    {
     "data": {
      "text/plain": [
       "array([-3,  1,  1, -2,  2, -4, -1,  1, -2])"
      ]
     },
     "execution_count": 7,
     "metadata": {},
     "output_type": "execute_result"
    }
   ],
   "source": [
    "X[:, 0]"
   ]
  },
  {
   "cell_type": "code",
   "execution_count": 45,
   "metadata": {},
   "outputs": [
    {
     "data": {
      "image/png": "[encoded data removed]",
      "text/plain": [
       "<Figure size 432x288 with 1 Axes>"
      ]
     },
     "metadata": {
      "needs_background": "light"
     },
     "output_type": "display_data"
    }
   ],
   "source": [
    "plt.scatter(X[:,0], X[:,1], c=y);"
   ]
  },
  {
   "cell_type": "markdown",
   "metadata": {},
   "source": [
    "## 3. Dada a amostra [-0.5, 1] e levando em conta as features X e os labels y da questão 1, mas desconsiderando o k-fold, responda: a que classe esta amostra pertence se você usar o kNN com k=2? Prove usando a distância euclidiana entre os 2 pontos visualmente mais próximos. Não é necessário executar a implementação do algoritmo kNN."
   ]
  },
  {
   "cell_type": "code",
   "execution_count": 11,
   "metadata": {},
   "outputs": [],
   "source": [
    "from sklearn.metrics.pairwise import euclidean_distances"
   ]
  },
  {
   "cell_type": "code",
   "execution_count": 66,
   "metadata": {
    "scrolled": true
   },
   "outputs": [
    {
     "name": "stdout",
     "output_type": "stream",
     "text": [
      "[0.5        1.5        1.80277564 1.80277564 1.80277564 2.5\n",
      " 3.20156212 3.64005494 4.27200187]\n"
     ]
    }
   ],
   "source": [
    "ed = euclidean_distances(X, [[-.5, 1]])\n",
    "ed = ed[:, 0]\n",
    "print(np.sort(ed))"
   ]
  },
  {
   "cell_type": "markdown",
   "metadata": {},
   "source": [
    "### A amostra pode pertencer as classes 0 ou 1\n",
    "  *  Notamos que os dois pontos mais próximos são [-1, 1] da classe 1 e [-3, 1] da classe 0 com 0.5 e 1.5 de distância respectivamente.\n",
    "  *  Como os dois mais proximos são de classes distintas ele irá escolher aleatóriamente dentre as classes, portanto, as classes 0 ou 1"
   ]
  },
  {
   "cell_type": "markdown",
   "metadata": {},
   "source": [
    "# >>> Classes 1 e 2. Pontos [-1,1] e [1, 1]"
   ]
  },
  {
   "cell_type": "markdown",
   "metadata": {},
   "source": [
    "## 4. Dado o dataframe df_jogo a seguir, que relaciona o tempo com jogar (1) ou não jogar (0), calcule manualmente a probabilidade de não jogar, dado que está chuvendo."
   ]
  },
  {
   "cell_type": "code",
   "execution_count": 67,
   "metadata": {
    "scrolled": true
   },
   "outputs": [
    {
     "data": {
      "text/html": [
       "<div>\n",
       "<style scoped>\n",
       "    .dataframe tbody tr th:only-of-type {\n",
       "        vertical-align: middle;\n",
       "    }\n",
       "\n",
       "    .dataframe tbody tr th {\n",
       "        vertical-align: top;\n",
       "    }\n",
       "\n",
       "    .dataframe thead th {\n",
       "        text-align: right;\n",
       "    }\n",
       "</style>\n",
       "<table border=\"1\" class=\"dataframe\">\n",
       "  <thead>\n",
       "    <tr style=\"text-align: right;\">\n",
       "      <th></th>\n",
       "      <th>tempo</th>\n",
       "      <th>jogar</th>\n",
       "    </tr>\n",
       "  </thead>\n",
       "  <tbody>\n",
       "    <tr>\n",
       "      <th>0</th>\n",
       "      <td>sol</td>\n",
       "      <td>0</td>\n",
       "    </tr>\n",
       "    <tr>\n",
       "      <th>1</th>\n",
       "      <td>nuvens</td>\n",
       "      <td>1</td>\n",
       "    </tr>\n",
       "    <tr>\n",
       "      <th>2</th>\n",
       "      <td>chuva</td>\n",
       "      <td>1</td>\n",
       "    </tr>\n",
       "    <tr>\n",
       "      <th>3</th>\n",
       "      <td>sol</td>\n",
       "      <td>1</td>\n",
       "    </tr>\n",
       "    <tr>\n",
       "      <th>4</th>\n",
       "      <td>sol</td>\n",
       "      <td>1</td>\n",
       "    </tr>\n",
       "    <tr>\n",
       "      <th>5</th>\n",
       "      <td>nuvens</td>\n",
       "      <td>1</td>\n",
       "    </tr>\n",
       "    <tr>\n",
       "      <th>6</th>\n",
       "      <td>chuva</td>\n",
       "      <td>0</td>\n",
       "    </tr>\n",
       "    <tr>\n",
       "      <th>7</th>\n",
       "      <td>chuva</td>\n",
       "      <td>0</td>\n",
       "    </tr>\n",
       "    <tr>\n",
       "      <th>8</th>\n",
       "      <td>sol</td>\n",
       "      <td>1</td>\n",
       "    </tr>\n",
       "    <tr>\n",
       "      <th>9</th>\n",
       "      <td>chuva</td>\n",
       "      <td>1</td>\n",
       "    </tr>\n",
       "  </tbody>\n",
       "</table>\n",
       "</div>"
      ],
      "text/plain": [
       "    tempo  jogar\n",
       "0     sol      0\n",
       "1  nuvens      1\n",
       "2   chuva      1\n",
       "3     sol      1\n",
       "4     sol      1\n",
       "5  nuvens      1\n",
       "6   chuva      0\n",
       "7   chuva      0\n",
       "8     sol      1\n",
       "9   chuva      1"
      ]
     },
     "execution_count": 67,
     "metadata": {},
     "output_type": "execute_result"
    }
   ],
   "source": [
    "tempo = np.array(['sol', 'nuvens', 'chuva', 'sol', 'sol', 'nuvens', 'chuva', 'chuva', 'sol', 'chuva'])\n",
    "jogar = np.array([0, 1, 1, 1, 1, 1, 0, 0, 1, 1])\n",
    "df_jogo = pd.DataFrame({'tempo': tempo, 'jogar': jogar})\n",
    "df_jogo"
   ]
  },
  {
   "cell_type": "code",
   "execution_count": 68,
   "metadata": {},
   "outputs": [
    {
     "data": {
      "text/plain": [
       "0.5"
      ]
     },
     "execution_count": 68,
     "metadata": {},
     "output_type": "execute_result"
    }
   ],
   "source": [
    "# P(não/chove) = P(chove/não) * P(não) / P(chuva)\n",
    "(2/3 * 3/9) / (4/9)"
   ]
  },
  {
   "cell_type": "markdown",
   "metadata": {},
   "source": [
    "## 5. Transforme o dataframe df_jogo para que a feature categórica não ordenada 'tempo' possa ser melhor usada de modo geral por algoritmos de aprendizado de máquina. No final, você deve ter um dataframe chamado df_transform."
   ]
  },
  {
   "cell_type": "code",
   "execution_count": 69,
   "metadata": {},
   "outputs": [
    {
     "data": {
      "text/html": [
       "<div>\n",
       "<style scoped>\n",
       "    .dataframe tbody tr th:only-of-type {\n",
       "        vertical-align: middle;\n",
       "    }\n",
       "\n",
       "    .dataframe tbody tr th {\n",
       "        vertical-align: top;\n",
       "    }\n",
       "\n",
       "    .dataframe thead th {\n",
       "        text-align: right;\n",
       "    }\n",
       "</style>\n",
       "<table border=\"1\" class=\"dataframe\">\n",
       "  <thead>\n",
       "    <tr style=\"text-align: right;\">\n",
       "      <th></th>\n",
       "      <th>jogar</th>\n",
       "      <th>tempo_nuvens</th>\n",
       "      <th>tempo_sol</th>\n",
       "    </tr>\n",
       "  </thead>\n",
       "  <tbody>\n",
       "    <tr>\n",
       "      <th>0</th>\n",
       "      <td>0</td>\n",
       "      <td>0</td>\n",
       "      <td>1</td>\n",
       "    </tr>\n",
       "    <tr>\n",
       "      <th>1</th>\n",
       "      <td>1</td>\n",
       "      <td>1</td>\n",
       "      <td>0</td>\n",
       "    </tr>\n",
       "    <tr>\n",
       "      <th>2</th>\n",
       "      <td>1</td>\n",
       "      <td>0</td>\n",
       "      <td>0</td>\n",
       "    </tr>\n",
       "    <tr>\n",
       "      <th>3</th>\n",
       "      <td>1</td>\n",
       "      <td>0</td>\n",
       "      <td>1</td>\n",
       "    </tr>\n",
       "    <tr>\n",
       "      <th>4</th>\n",
       "      <td>1</td>\n",
       "      <td>0</td>\n",
       "      <td>1</td>\n",
       "    </tr>\n",
       "    <tr>\n",
       "      <th>5</th>\n",
       "      <td>1</td>\n",
       "      <td>1</td>\n",
       "      <td>0</td>\n",
       "    </tr>\n",
       "    <tr>\n",
       "      <th>6</th>\n",
       "      <td>0</td>\n",
       "      <td>0</td>\n",
       "      <td>0</td>\n",
       "    </tr>\n",
       "    <tr>\n",
       "      <th>7</th>\n",
       "      <td>0</td>\n",
       "      <td>0</td>\n",
       "      <td>0</td>\n",
       "    </tr>\n",
       "    <tr>\n",
       "      <th>8</th>\n",
       "      <td>1</td>\n",
       "      <td>0</td>\n",
       "      <td>1</td>\n",
       "    </tr>\n",
       "    <tr>\n",
       "      <th>9</th>\n",
       "      <td>1</td>\n",
       "      <td>0</td>\n",
       "      <td>0</td>\n",
       "    </tr>\n",
       "  </tbody>\n",
       "</table>\n",
       "</div>"
      ],
      "text/plain": [
       "   jogar  tempo_nuvens  tempo_sol\n",
       "0      0             0          1\n",
       "1      1             1          0\n",
       "2      1             0          0\n",
       "3      1             0          1\n",
       "4      1             0          1\n",
       "5      1             1          0\n",
       "6      0             0          0\n",
       "7      0             0          0\n",
       "8      1             0          1\n",
       "9      1             0          0"
      ]
     },
     "execution_count": 69,
     "metadata": {},
     "output_type": "execute_result"
    }
   ],
   "source": [
    "df_jogo = pd.get_dummies(df_jogo, drop_first=True)\n",
    "df_jogo"
   ]
  },
  {
   "cell_type": "markdown",
   "metadata": {},
   "source": [
    "## 6. Dados os 3 pontos a seguir, calcule as distâncias euclidiana, manhattan e chebyshev entre o primeiro e o último ponto."
   ]
  },
  {
   "cell_type": "code",
   "execution_count": 73,
   "metadata": {},
   "outputs": [],
   "source": [
    "X = np.array([ [0,1], [2,6], [3,2] ])"
   ]
  },
  {
   "cell_type": "code",
   "execution_count": 72,
   "metadata": {},
   "outputs": [],
   "source": [
    "from sklearn.neighbors import DistanceMetric"
   ]
  },
  {
   "cell_type": "code",
   "execution_count": 76,
   "metadata": {},
   "outputs": [
    {
     "data": {
      "text/plain": [
       "array([[3.16227766]])"
      ]
     },
     "execution_count": 76,
     "metadata": {},
     "output_type": "execute_result"
    }
   ],
   "source": [
    "dist = DistanceMetric.get_metric('euclidean')\n",
    "dist.pairwise([[0,1]],[[3,2]])"
   ]
  },
  {
   "cell_type": "code",
   "execution_count": 77,
   "metadata": {},
   "outputs": [
    {
     "data": {
      "text/plain": [
       "array([[4.]])"
      ]
     },
     "execution_count": 77,
     "metadata": {},
     "output_type": "execute_result"
    }
   ],
   "source": [
    "dist = DistanceMetric.get_metric('manhattan')\n",
    "dist.pairwise([[0,1]],[[3,2]])"
   ]
  },
  {
   "cell_type": "code",
   "execution_count": 79,
   "metadata": {},
   "outputs": [
    {
     "data": {
      "text/plain": [
       "array([[3.]])"
      ]
     },
     "execution_count": 79,
     "metadata": {},
     "output_type": "execute_result"
    }
   ],
   "source": [
    "dist = DistanceMetric.get_metric('chebyshev')\n",
    "dist.pairwise([[0,1]],[[3,2]])"
   ]
  },
  {
   "cell_type": "markdown",
   "metadata": {},
   "source": [
    "## 7. Avalie e compare a acurácia dos algoritmos Logistic Regression, GassianNB, SVM e kNN usando os dados de treino e teste a seguir.\n",
    "\n",
    "X, y = datasets.load_breast_cancer(return_X_y=True)\n",
    "X_train, X_test, y_train, y_test = train_test_split(X, y, stratify=y, random_state=42)\n",
    "print(X_train.shape, y_train.shape, X_test.shape, y_test.shape)"
   ]
  },
  {
   "cell_type": "code",
   "execution_count": 81,
   "metadata": {},
   "outputs": [
    {
     "name": "stdout",
     "output_type": "stream",
     "text": [
      "(426, 30) (426,) (143, 30) (143,)\n"
     ]
    }
   ],
   "source": [
    "X, y = datasets.load_breast_cancer(return_X_y=True) \n",
    "X_train, X_test, y_train, y_test = train_test_split(X, y, stratify=y, random_state=42) \n",
    "print(X_train.shape, y_train.shape, X_test.shape, y_test.shape)"
   ]
  },
  {
   "cell_type": "code",
   "execution_count": 83,
   "metadata": {},
   "outputs": [],
   "source": [
    "from sklearn.naive_bayes import GaussianNB\n",
    "from sklearn.neighbors import KNeighborsClassifier"
   ]
  },
  {
   "cell_type": "code",
   "execution_count": 86,
   "metadata": {},
   "outputs": [],
   "source": [
    "models = {}\n",
    "models['LR'] = {'model': LogisticRegression(multi_class='auto', solver='lbfgs'), 'pred':[], 'acc': -1}\n",
    "models['GNB'] = {'model': GaussianNB(), 'pred':[], 'acc': -1}\n",
    "models['SVM'] = {'model': SVC(), 'pred':[], 'acc': -1}\n",
    "models['KNN'] = {'model': KNeighborsClassifier(n_neighbors=5), 'pred':[], 'acc': -1}"
   ]
  },
  {
   "cell_type": "code",
   "execution_count": 87,
   "metadata": {},
   "outputs": [],
   "source": [
    "from sklearn.metrics import accuracy_score"
   ]
  },
  {
   "cell_type": "code",
   "execution_count": 89,
   "metadata": {},
   "outputs": [
    {
     "name": "stderr",
     "output_type": "stream",
     "text": [
      "C:\\ProgramData\\Anaconda3\\lib\\site-packages\\sklearn\\linear_model\\logistic.py:758: ConvergenceWarning: lbfgs failed to converge. Increase the number of iterations.\n",
      "  \"of iterations.\", ConvergenceWarning)\n",
      "C:\\ProgramData\\Anaconda3\\lib\\site-packages\\sklearn\\svm\\base.py:196: FutureWarning: The default value of gamma will change from 'auto' to 'scale' in version 0.22 to account better for unscaled features. Set gamma explicitly to 'auto' or 'scale' to avoid this warning.\n",
      "  \"avoid this warning.\", FutureWarning)\n"
     ]
    }
   ],
   "source": [
    "for i in models:\n",
    "    models[i]['model'].fit(X_train, y_train)\n",
    "    models[i]['pred'] = models[i]['model'].predict(X_test)\n",
    "    models[i]['acc'] = accuracy_score(y_test, models[i]['pred'])"
   ]
  },
  {
   "cell_type": "code",
   "execution_count": 95,
   "metadata": {},
   "outputs": [
    {
     "name": "stdout",
     "output_type": "stream",
     "text": [
      "LR\t->\t0.951048951048951\n",
      "GNB\t->\t0.9370629370629371\n",
      "SVM\t->\t0.6293706293706294\n",
      "KNN\t->\t0.9300699300699301\n"
     ]
    }
   ],
   "source": [
    "for i in models:\n",
    "    print(i+ '\\t->\\t' + str(models[i]['acc']))"
   ]
  },
  {
   "cell_type": "code",
   "execution_count": null,
   "metadata": {},
   "outputs": [],
   "source": []
  }
 ],
 "metadata": {
  "kernelspec": {
   "display_name": "Python 3",
   "language": "python",
   "name": "python3"
  },
  "language_info": {
   "codemirror_mode": {
    "name": "ipython",
    "version": 3
   },
   "file_extension": ".py",
   "mimetype": "text/x-python",
   "name": "python",
   "nbconvert_exporter": "python",
   "pygments_lexer": "ipython3",
   "version": "3.7.3"
  }
 },
 "nbformat": 4,
 "nbformat_minor": 2
}
